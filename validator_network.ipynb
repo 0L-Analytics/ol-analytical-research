{
 "cells": [
  {
   "cell_type": "markdown",
   "metadata": {},
   "source": [
    "## Genesis Set Permission Tree Data Collection\n",
    "### Using https://github.com/0L-Analytics/permission-tree-monitoring API for Permission Tree of Validators on 0L\n",
    "#### Credit to: https://github.com/0L-Analytics/permission-tree-monitoring/commits?author=agouin for building the API"
   ]
  },
  {
   "cell_type": "code",
   "execution_count": 1,
   "metadata": {},
   "outputs": [],
   "source": [
    "import requests\n",
    "import pandas as pd\n",
    "import csv\n",
    "import json\n",
    "import networkx as nx\n",
    "import matplotlib.pyplot as plt"
   ]
  },
  {
   "cell_type": "markdown",
   "metadata": {},
   "source": [
    "### Get Account addresses into a list"
   ]
  },
  {
   "cell_type": "code",
   "execution_count": 2,
   "metadata": {},
   "outputs": [],
   "source": [
    "def load_addresses_list(path) -> list:\n",
    "    all_addresses = []\n",
    "    with open(path) as f:\n",
    "        reader = csv.reader(f)\n",
    "        for row in reader:\n",
    "            all_addresses.append(row[0])\n",
    "    return all_addresses"
   ]
  },
  {
   "cell_type": "code",
   "execution_count": 3,
   "metadata": {},
   "outputs": [
    {
     "data": {
      "text/plain": [
       "['E57CF27B3381574151B4FCEA65BDA0D2',\n",
       " 'E8A1BF5E60FA00C2B792098B12FDE964',\n",
       " 'B5B5BA58B8E9916FE449D1F989383834',\n",
       " 'EA10EA06C0FDAB689DA9DCF78FC90F4E',\n",
       " 'BDB8AD37341CEC0817FD8E2474E25031',\n",
       " '44BFFCEB6AC69D098959E4F463FB7005',\n",
       " '252F0B551C80CD9E951D82C6F70792AE',\n",
       " 'D0D62AE27A4E84B559DA089A1B15A79F',\n",
       " '34E5ADDEC49DED4CC638DAD8CD992858',\n",
       " '5ABEDEC612EA01B9F6F2EAAD7187BFEF',\n",
       " 'E4E9FB27D7A8150162614EBDD282E195',\n",
       " 'D1C9CE9308B0BDC6DC2BA6A7B5DA8C2B',\n",
       " 'CCB020E30B1C014F45664761F0B740C7',\n",
       " 'C0A1F4D49658CF2FE5402E10F496BB80',\n",
       " '7E56B29CB23A49368BE593E5CFC9712E',\n",
       " '46A7A744B5D33C47F6B20766F8088B10',\n",
       " '7EC16859C24200D8E074809D252AC740',\n",
       " '64B21681CE1C34854498ED92D76432A2',\n",
       " 'ECAF65ADD1B785B0495E3099F4045EC0',\n",
       " '304A03C0B4ACDFDCE54BFAF39D4E0448',\n",
       " 'B1471DC5764695ABB4CADF16E26BD4C7',\n",
       " 'D67F3FF22BD719EB5BE2DF6577C9B42D',\n",
       " '8421CB22E56F687395F5973BBF0CBDFB']"
      ]
     },
     "execution_count": 3,
     "metadata": {},
     "output_type": "execute_result"
    }
   ],
   "source": [
    "path = 'address.csv'\n",
    "all_addresses = load_addresses_list(path)\n",
    "all_addresses"
   ]
  },
  {
   "cell_type": "markdown",
   "metadata": {},
   "source": [
    "### Get Permission Tree for the addresses"
   ]
  },
  {
   "cell_type": "code",
   "execution_count": 4,
   "metadata": {},
   "outputs": [],
   "source": [
    "def get_permission_tree(account_list):\n",
    "    web_address = \"https://0l.interblockcha.in:444/permission-tree/validator/\"\n",
    "    genesis_dict = {}\n",
    "    for account in account_list:\n",
    "        # print(web_address+account)\n",
    "        response = requests.get(web_address+account)\n",
    "        genesis_dict[str(account)] = response.json()\n",
    "        # print(response.json())\n",
    "\n",
    "    return genesis_dict"
   ]
  },
  {
   "cell_type": "code",
   "execution_count": 5,
   "metadata": {},
   "outputs": [
    {
     "data": {
      "text/plain": [
       "'E57CF27B3381574151B4FCEA65BDA0D2'"
      ]
     },
     "execution_count": 5,
     "metadata": {},
     "output_type": "execute_result"
    }
   ],
   "source": [
    "all_addresses[0]"
   ]
  },
  {
   "cell_type": "code",
   "execution_count": 6,
   "metadata": {},
   "outputs": [],
   "source": [
    "genesis_tree = get_permission_tree(all_addresses)"
   ]
  },
  {
   "cell_type": "code",
   "execution_count": 7,
   "metadata": {},
   "outputs": [
    {
     "data": {
      "text/plain": [
       "{'E57CF27B3381574151B4FCEA65BDA0D2': {'address': 'e57cf27b3381574151b4fcea65bda0d2',\n",
       "  'parent': 'd0d62ae27a4e84b559da089a1b15a79f',\n",
       "  'epoch_onboarded': 20,\n",
       "  'version_onboarded': 5021771,\n",
       "  'children': []},\n",
       " 'E8A1BF5E60FA00C2B792098B12FDE964': {'address': 'e8a1bf5e60fa00c2b792098b12fde964',\n",
       "  'parent': 'c0a1f4d49658cf2fe5402e10f496bb80',\n",
       "  'epoch_onboarded': 16,\n",
       "  'version_onboarded': 3596612,\n",
       "  'children': []},\n",
       " 'B5B5BA58B8E9916FE449D1F989383834': {'address': 'b5b5ba58b8e9916fe449d1f989383834',\n",
       "  'parent': '8421cb22e56f687395f5973bbf0cbdfb',\n",
       "  'epoch_onboarded': 18,\n",
       "  'version_onboarded': 4336088,\n",
       "  'children': []},\n",
       " 'EA10EA06C0FDAB689DA9DCF78FC90F4E': {'address': 'ea10ea06c0fdab689da9dcf78fc90f4e',\n",
       "  'parent': 'ccb020e30b1c014f45664761f0b740c7',\n",
       "  'epoch_onboarded': 16,\n",
       "  'version_onboarded': 3637438,\n",
       "  'children': [{'address': '93a91b21218aff3ceb211eb02b27cbe0',\n",
       "    'parent': 'ea10ea06c0fdab689da9dcf78fc90f4e',\n",
       "    'epoch_onboarded': 35,\n",
       "    'version_onboarded': 8848822}]},\n",
       " 'BDB8AD37341CEC0817FD8E2474E25031': {'address': 'bdb8ad37341cec0817fd8e2474e25031',\n",
       "  'parent': '00000000000000000000000000000000',\n",
       "  'version_onboarded': 0,\n",
       "  'children': [{'address': 'e985cbb111a6e7210f1f07aa1f8a75dd',\n",
       "    'parent': 'bdb8ad37341cec0817fd8e2474e25031',\n",
       "    'epoch_onboarded': 23,\n",
       "    'version_onboarded': 5850341}]},\n",
       " '44BFFCEB6AC69D098959E4F463FB7005': {'address': '44bffceb6ac69d098959e4f463fb7005',\n",
       "  'parent': '00000000000000000000000000000000',\n",
       "  'version_onboarded': 0,\n",
       "  'children': [{'address': 'a6be3ad55806f2f65cd1776322aede1a',\n",
       "    'parent': '44bffceb6ac69d098959e4f463fb7005',\n",
       "    'epoch_onboarded': 21,\n",
       "    'version_onboarded': 5218882}]},\n",
       " '252F0B551C80CD9E951D82C6F70792AE': {'address': '252f0b551c80cd9e951d82c6f70792ae',\n",
       "  'parent': '00000000000000000000000000000000',\n",
       "  'version_onboarded': 0,\n",
       "  'children': [{'address': 'd340c54f3a05c06835b1401c3575b70d',\n",
       "    'parent': '252f0b551c80cd9e951d82c6f70792ae',\n",
       "    'epoch_onboarded': 21,\n",
       "    'version_onboarded': 5306913}]},\n",
       " 'D0D62AE27A4E84B559DA089A1B15A79F': {'address': 'd0d62ae27a4e84b559da089a1b15a79f',\n",
       "  'parent': '00000000000000000000000000000000',\n",
       "  'version_onboarded': 0,\n",
       "  'children': [{'address': 'e57cf27b3381574151b4fcea65bda0d2',\n",
       "    'parent': 'd0d62ae27a4e84b559da089a1b15a79f',\n",
       "    'epoch_onboarded': 20,\n",
       "    'version_onboarded': 5021771}]},\n",
       " '34E5ADDEC49DED4CC638DAD8CD992858': {'address': '34e5addec49ded4cc638dad8cd992858',\n",
       "  'parent': '00000000000000000000000000000000',\n",
       "  'version_onboarded': 0,\n",
       "  'children': [{'address': 'c051bd516ca491cdf88c0a0656a552b0',\n",
       "    'parent': '34e5addec49ded4cc638dad8cd992858',\n",
       "    'epoch_onboarded': 22,\n",
       "    'version_onboarded': 5505531}]},\n",
       " '5ABEDEC612EA01B9F6F2EAAD7187BFEF': {'address': '5abedec612ea01b9f6f2eaad7187bfef',\n",
       "  'parent': '00000000000000000000000000000000',\n",
       "  'version_onboarded': 0,\n",
       "  'children': [{'address': '71cd7dac2332c0200059af45818b95f8',\n",
       "    'parent': '5abedec612ea01b9f6f2eaad7187bfef',\n",
       "    'epoch_onboarded': 22,\n",
       "    'version_onboarded': 5592315}]},\n",
       " 'E4E9FB27D7A8150162614EBDD282E195': {'address': 'e4e9fb27d7a8150162614ebdd282e195',\n",
       "  'parent': '00000000000000000000000000000000',\n",
       "  'version_onboarded': 0,\n",
       "  'children': [{'address': '012338b54ba4625adcc313394d87819c',\n",
       "    'parent': 'e4e9fb27d7a8150162614ebdd282e195',\n",
       "    'epoch_onboarded': 29,\n",
       "    'version_onboarded': 7402709}]},\n",
       " 'D1C9CE9308B0BDC6DC2BA6A7B5DA8C2B': {'address': 'd1c9ce9308b0bdc6dc2ba6a7b5da8c2b',\n",
       "  'parent': '00000000000000000000000000000000',\n",
       "  'version_onboarded': 0,\n",
       "  'children': [{'address': '355ae7b5f391782006ef88580bbeaf22',\n",
       "    'parent': 'd1c9ce9308b0bdc6dc2ba6a7b5da8c2b',\n",
       "    'epoch_onboarded': 21,\n",
       "    'version_onboarded': 5279596}]},\n",
       " 'CCB020E30B1C014F45664761F0B740C7': {'address': 'ccb020e30b1c014f45664761f0b740c7',\n",
       "  'parent': '00000000000000000000000000000000',\n",
       "  'version_onboarded': 0,\n",
       "  'children': [{'address': 'ea10ea06c0fdab689da9dcf78fc90f4e',\n",
       "    'parent': 'ccb020e30b1c014f45664761f0b740c7',\n",
       "    'epoch_onboarded': 16,\n",
       "    'version_onboarded': 3637438},\n",
       "   {'address': '9d0a8f2f51a2cb0d4eceeb1fd269431d',\n",
       "    'parent': 'ccb020e30b1c014f45664761f0b740c7',\n",
       "    'epoch_onboarded': 31,\n",
       "    'version_onboarded': 7958699}]},\n",
       " 'C0A1F4D49658CF2FE5402E10F496BB80': {'address': 'c0a1f4d49658cf2fe5402e10f496bb80',\n",
       "  'parent': '00000000000000000000000000000000',\n",
       "  'version_onboarded': 0,\n",
       "  'children': [{'address': 'e8a1bf5e60fa00c2b792098b12fde964',\n",
       "    'parent': 'c0a1f4d49658cf2fe5402e10f496bb80',\n",
       "    'epoch_onboarded': 16,\n",
       "    'version_onboarded': 3596612},\n",
       "   {'address': 'e264023342b41accdbb61a190b6cb2a7',\n",
       "    'parent': 'c0a1f4d49658cf2fe5402e10f496bb80',\n",
       "    'epoch_onboarded': 33,\n",
       "    'version_onboarded': 8505948}]},\n",
       " '7E56B29CB23A49368BE593E5CFC9712E': {'address': '7e56b29cb23a49368be593e5cfc9712e',\n",
       "  'parent': '00000000000000000000000000000000',\n",
       "  'version_onboarded': 0,\n",
       "  'children': [{'address': '0ef85e1723530edd76f2bb13614ac5c5',\n",
       "    'parent': '7e56b29cb23a49368be593e5cfc9712e',\n",
       "    'epoch_onboarded': 37,\n",
       "    'version_onboarded': 9271787}]},\n",
       " '46A7A744B5D33C47F6B20766F8088B10': {'address': '46a7a744b5d33c47f6b20766f8088b10',\n",
       "  'parent': '00000000000000000000000000000000',\n",
       "  'version_onboarded': 0,\n",
       "  'children': [{'address': 'bcb79d7c813062f41b221e58b21203b4',\n",
       "    'parent': '46a7a744b5d33c47f6b20766f8088b10',\n",
       "    'epoch_onboarded': 22,\n",
       "    'version_onboarded': 5482926}]},\n",
       " '7EC16859C24200D8E074809D252AC740': {'address': '7ec16859c24200d8e074809d252ac740',\n",
       "  'parent': '00000000000000000000000000000000',\n",
       "  'version_onboarded': 0,\n",
       "  'children': [{'address': 'aa7b724a51a8bd8e55208fef969209b3',\n",
       "    'parent': '7ec16859c24200d8e074809d252ac740',\n",
       "    'epoch_onboarded': 28,\n",
       "    'version_onboarded': 7106562}]},\n",
       " '64B21681CE1C34854498ED92D76432A2': {'address': '64b21681ce1c34854498ed92d76432a2',\n",
       "  'parent': '00000000000000000000000000000000',\n",
       "  'version_onboarded': 0,\n",
       "  'children': [{'address': '84417cef5647097127e1bc24fd1002c6',\n",
       "    'parent': '64b21681ce1c34854498ed92d76432a2',\n",
       "    'epoch_onboarded': 18,\n",
       "    'version_onboarded': 4349485},\n",
       "   {'address': '1c03e956dd7afc612e4efe240c23365d',\n",
       "    'parent': '64b21681ce1c34854498ed92d76432a2',\n",
       "    'epoch_onboarded': 35,\n",
       "    'version_onboarded': 8818948}]},\n",
       " 'ECAF65ADD1B785B0495E3099F4045EC0': {'address': 'ecaf65add1b785b0495e3099f4045ec0',\n",
       "  'parent': '00000000000000000000000000000000',\n",
       "  'version_onboarded': 0,\n",
       "  'children': [{'address': '69a385e1744e33fbb24a42ecbd1603e3',\n",
       "    'parent': 'ecaf65add1b785b0495e3099f4045ec0',\n",
       "    'epoch_onboarded': 21,\n",
       "    'version_onboarded': 5306020}]},\n",
       " '304A03C0B4ACDFDCE54BFAF39D4E0448': {'address': '304a03c0b4acdfdce54bfaf39d4e0448',\n",
       "  'parent': '00000000000000000000000000000000',\n",
       "  'version_onboarded': 0,\n",
       "  'children': [{'address': '49d3c58668e4accc43b8a77a9f2835fa',\n",
       "    'parent': '304a03c0b4acdfdce54bfaf39d4e0448',\n",
       "    'epoch_onboarded': 20,\n",
       "    'version_onboarded': 4960009},\n",
       "   {'address': 'd1281de242839fc939745996882c5fc2',\n",
       "    'parent': '304a03c0b4acdfdce54bfaf39d4e0448',\n",
       "    'epoch_onboarded': 36,\n",
       "    'version_onboarded': 9050655}]},\n",
       " 'B1471DC5764695ABB4CADF16E26BD4C7': {'address': 'b1471dc5764695abb4cadf16e26bd4c7',\n",
       "  'parent': '00000000000000000000000000000000',\n",
       "  'version_onboarded': 0,\n",
       "  'children': [{'address': '5322609dde43e08ad6da6964574941fd',\n",
       "    'parent': 'b1471dc5764695abb4cadf16e26bd4c7',\n",
       "    'epoch_onboarded': 24,\n",
       "    'version_onboarded': 6006235}]},\n",
       " 'D67F3FF22BD719EB5BE2DF6577C9B42D': {'address': 'd67f3ff22bd719eb5be2df6577c9b42d',\n",
       "  'parent': '00000000000000000000000000000000',\n",
       "  'version_onboarded': 0,\n",
       "  'children': [{'address': '50040b551a28645e5c684a646db8e646',\n",
       "    'parent': 'd67f3ff22bd719eb5be2df6577c9b42d',\n",
       "    'epoch_onboarded': 20,\n",
       "    'version_onboarded': 4960325}]},\n",
       " '8421CB22E56F687395F5973BBF0CBDFB': {'address': '8421cb22e56f687395f5973bbf0cbdfb',\n",
       "  'parent': '00000000000000000000000000000000',\n",
       "  'version_onboarded': 0,\n",
       "  'children': [{'address': 'b5b5ba58b8e9916fe449d1f989383834',\n",
       "    'parent': '8421cb22e56f687395f5973bbf0cbdfb',\n",
       "    'epoch_onboarded': 18,\n",
       "    'version_onboarded': 4336088},\n",
       "   {'address': 'b295da228c6808199d92dc813975755c',\n",
       "    'parent': '8421cb22e56f687395f5973bbf0cbdfb',\n",
       "    'epoch_onboarded': 35,\n",
       "    'version_onboarded': 8908782}]}}"
      ]
     },
     "execution_count": 7,
     "metadata": {},
     "output_type": "execute_result"
    }
   ],
   "source": [
    "genesis_tree"
   ]
  },
  {
   "cell_type": "code",
   "execution_count": 8,
   "metadata": {},
   "outputs": [],
   "source": [
    "with open('almost_genesis.json', 'w') as outfile:\n",
    "    json.dump(genesis_tree, outfile)"
   ]
  },
  {
   "cell_type": "markdown",
   "metadata": {},
   "source": [
    "## TODO:\n",
    "- [ ] Write test for existing set of keys to confirm they are genesis (is not listed as a child in any other)\n",
    "\n",
    "        if parent is '00000000000000000000000000000000' then genesis\n",
    "\n",
    "- [ ] Create networkx object to show parent-child relationship at current epoch\n",
    "\n",
    "- [ ] Create viz to show genesis parent-child relationship change at each epoch\n",
    "\n",
    "- [ ] Would only show genesis-child, need to then query API to 2nd generation child to 3rd generation child relationship\n"
   ]
  },
  {
   "cell_type": "code",
   "execution_count": 9,
   "metadata": {},
   "outputs": [
    {
     "data": {
      "text/plain": [
       "23"
      ]
     },
     "execution_count": 9,
     "metadata": {},
     "output_type": "execute_result"
    }
   ],
   "source": [
    "len(genesis_tree)"
   ]
  },
  {
   "cell_type": "code",
   "execution_count": 38,
   "metadata": {},
   "outputs": [
    {
     "name": "stdout",
     "output_type": "stream",
     "text": [
      "yes\n",
      "yes\n",
      "yes\n",
      "yes\n",
      "yes\n",
      "yes\n",
      "yes\n",
      "yes\n",
      "yes\n",
      "yes\n",
      "yes\n",
      "yes\n",
      "yes\n",
      "yes\n",
      "yes\n",
      "yes\n",
      "yes\n",
      "yes\n",
      "yes\n",
      "yes\n"
     ]
    }
   ],
   "source": [
    "# for keys, values in genesis_tree.items():\n",
    "#     if values['children']:\n",
    "#         print('yes')\n",
    "        # genesis_only = [x for x in genesis_tree.values()['children'] != []]"
   ]
  },
  {
   "cell_type": "markdown",
   "metadata": {},
   "source": [
    "## Filter superset of addresses for genesis set only\n",
    "### Puts into a list and loses the extra address key"
   ]
  },
  {
   "cell_type": "code",
   "execution_count": 54,
   "metadata": {},
   "outputs": [],
   "source": [
    "genesis_only = [values for values in genesis_tree.values() if values['parent']=='00000000000000000000000000000000']"
   ]
  },
  {
   "cell_type": "code",
   "execution_count": 55,
   "metadata": {},
   "outputs": [
    {
     "data": {
      "text/plain": [
       "[{'address': 'bdb8ad37341cec0817fd8e2474e25031',\n",
       "  'parent': '00000000000000000000000000000000',\n",
       "  'version_onboarded': 0,\n",
       "  'children': [{'address': 'e985cbb111a6e7210f1f07aa1f8a75dd',\n",
       "    'parent': 'bdb8ad37341cec0817fd8e2474e25031',\n",
       "    'epoch_onboarded': 23,\n",
       "    'version_onboarded': 5850341}]},\n",
       " {'address': '44bffceb6ac69d098959e4f463fb7005',\n",
       "  'parent': '00000000000000000000000000000000',\n",
       "  'version_onboarded': 0,\n",
       "  'children': [{'address': 'a6be3ad55806f2f65cd1776322aede1a',\n",
       "    'parent': '44bffceb6ac69d098959e4f463fb7005',\n",
       "    'epoch_onboarded': 21,\n",
       "    'version_onboarded': 5218882}]},\n",
       " {'address': '252f0b551c80cd9e951d82c6f70792ae',\n",
       "  'parent': '00000000000000000000000000000000',\n",
       "  'version_onboarded': 0,\n",
       "  'children': [{'address': 'd340c54f3a05c06835b1401c3575b70d',\n",
       "    'parent': '252f0b551c80cd9e951d82c6f70792ae',\n",
       "    'epoch_onboarded': 21,\n",
       "    'version_onboarded': 5306913}]},\n",
       " {'address': 'd0d62ae27a4e84b559da089a1b15a79f',\n",
       "  'parent': '00000000000000000000000000000000',\n",
       "  'version_onboarded': 0,\n",
       "  'children': [{'address': 'e57cf27b3381574151b4fcea65bda0d2',\n",
       "    'parent': 'd0d62ae27a4e84b559da089a1b15a79f',\n",
       "    'epoch_onboarded': 20,\n",
       "    'version_onboarded': 5021771}]},\n",
       " {'address': '34e5addec49ded4cc638dad8cd992858',\n",
       "  'parent': '00000000000000000000000000000000',\n",
       "  'version_onboarded': 0,\n",
       "  'children': [{'address': 'c051bd516ca491cdf88c0a0656a552b0',\n",
       "    'parent': '34e5addec49ded4cc638dad8cd992858',\n",
       "    'epoch_onboarded': 22,\n",
       "    'version_onboarded': 5505531}]},\n",
       " {'address': '5abedec612ea01b9f6f2eaad7187bfef',\n",
       "  'parent': '00000000000000000000000000000000',\n",
       "  'version_onboarded': 0,\n",
       "  'children': [{'address': '71cd7dac2332c0200059af45818b95f8',\n",
       "    'parent': '5abedec612ea01b9f6f2eaad7187bfef',\n",
       "    'epoch_onboarded': 22,\n",
       "    'version_onboarded': 5592315}]},\n",
       " {'address': 'e4e9fb27d7a8150162614ebdd282e195',\n",
       "  'parent': '00000000000000000000000000000000',\n",
       "  'version_onboarded': 0,\n",
       "  'children': [{'address': '012338b54ba4625adcc313394d87819c',\n",
       "    'parent': 'e4e9fb27d7a8150162614ebdd282e195',\n",
       "    'epoch_onboarded': 29,\n",
       "    'version_onboarded': 7402709}]},\n",
       " {'address': 'd1c9ce9308b0bdc6dc2ba6a7b5da8c2b',\n",
       "  'parent': '00000000000000000000000000000000',\n",
       "  'version_onboarded': 0,\n",
       "  'children': [{'address': '355ae7b5f391782006ef88580bbeaf22',\n",
       "    'parent': 'd1c9ce9308b0bdc6dc2ba6a7b5da8c2b',\n",
       "    'epoch_onboarded': 21,\n",
       "    'version_onboarded': 5279596}]},\n",
       " {'address': 'ccb020e30b1c014f45664761f0b740c7',\n",
       "  'parent': '00000000000000000000000000000000',\n",
       "  'version_onboarded': 0,\n",
       "  'children': [{'address': 'ea10ea06c0fdab689da9dcf78fc90f4e',\n",
       "    'parent': 'ccb020e30b1c014f45664761f0b740c7',\n",
       "    'epoch_onboarded': 16,\n",
       "    'version_onboarded': 3637438},\n",
       "   {'address': '9d0a8f2f51a2cb0d4eceeb1fd269431d',\n",
       "    'parent': 'ccb020e30b1c014f45664761f0b740c7',\n",
       "    'epoch_onboarded': 31,\n",
       "    'version_onboarded': 7958699}]},\n",
       " {'address': 'c0a1f4d49658cf2fe5402e10f496bb80',\n",
       "  'parent': '00000000000000000000000000000000',\n",
       "  'version_onboarded': 0,\n",
       "  'children': [{'address': 'e8a1bf5e60fa00c2b792098b12fde964',\n",
       "    'parent': 'c0a1f4d49658cf2fe5402e10f496bb80',\n",
       "    'epoch_onboarded': 16,\n",
       "    'version_onboarded': 3596612},\n",
       "   {'address': 'e264023342b41accdbb61a190b6cb2a7',\n",
       "    'parent': 'c0a1f4d49658cf2fe5402e10f496bb80',\n",
       "    'epoch_onboarded': 33,\n",
       "    'version_onboarded': 8505948}]},\n",
       " {'address': '7e56b29cb23a49368be593e5cfc9712e',\n",
       "  'parent': '00000000000000000000000000000000',\n",
       "  'version_onboarded': 0,\n",
       "  'children': [{'address': '0ef85e1723530edd76f2bb13614ac5c5',\n",
       "    'parent': '7e56b29cb23a49368be593e5cfc9712e',\n",
       "    'epoch_onboarded': 37,\n",
       "    'version_onboarded': 9271787}]},\n",
       " {'address': '46a7a744b5d33c47f6b20766f8088b10',\n",
       "  'parent': '00000000000000000000000000000000',\n",
       "  'version_onboarded': 0,\n",
       "  'children': [{'address': 'bcb79d7c813062f41b221e58b21203b4',\n",
       "    'parent': '46a7a744b5d33c47f6b20766f8088b10',\n",
       "    'epoch_onboarded': 22,\n",
       "    'version_onboarded': 5482926}]},\n",
       " {'address': '7ec16859c24200d8e074809d252ac740',\n",
       "  'parent': '00000000000000000000000000000000',\n",
       "  'version_onboarded': 0,\n",
       "  'children': [{'address': 'aa7b724a51a8bd8e55208fef969209b3',\n",
       "    'parent': '7ec16859c24200d8e074809d252ac740',\n",
       "    'epoch_onboarded': 28,\n",
       "    'version_onboarded': 7106562}]},\n",
       " {'address': '64b21681ce1c34854498ed92d76432a2',\n",
       "  'parent': '00000000000000000000000000000000',\n",
       "  'version_onboarded': 0,\n",
       "  'children': [{'address': '84417cef5647097127e1bc24fd1002c6',\n",
       "    'parent': '64b21681ce1c34854498ed92d76432a2',\n",
       "    'epoch_onboarded': 18,\n",
       "    'version_onboarded': 4349485},\n",
       "   {'address': '1c03e956dd7afc612e4efe240c23365d',\n",
       "    'parent': '64b21681ce1c34854498ed92d76432a2',\n",
       "    'epoch_onboarded': 35,\n",
       "    'version_onboarded': 8818948}]},\n",
       " {'address': 'ecaf65add1b785b0495e3099f4045ec0',\n",
       "  'parent': '00000000000000000000000000000000',\n",
       "  'version_onboarded': 0,\n",
       "  'children': [{'address': '69a385e1744e33fbb24a42ecbd1603e3',\n",
       "    'parent': 'ecaf65add1b785b0495e3099f4045ec0',\n",
       "    'epoch_onboarded': 21,\n",
       "    'version_onboarded': 5306020}]},\n",
       " {'address': '304a03c0b4acdfdce54bfaf39d4e0448',\n",
       "  'parent': '00000000000000000000000000000000',\n",
       "  'version_onboarded': 0,\n",
       "  'children': [{'address': '49d3c58668e4accc43b8a77a9f2835fa',\n",
       "    'parent': '304a03c0b4acdfdce54bfaf39d4e0448',\n",
       "    'epoch_onboarded': 20,\n",
       "    'version_onboarded': 4960009},\n",
       "   {'address': 'd1281de242839fc939745996882c5fc2',\n",
       "    'parent': '304a03c0b4acdfdce54bfaf39d4e0448',\n",
       "    'epoch_onboarded': 36,\n",
       "    'version_onboarded': 9050655}]},\n",
       " {'address': 'b1471dc5764695abb4cadf16e26bd4c7',\n",
       "  'parent': '00000000000000000000000000000000',\n",
       "  'version_onboarded': 0,\n",
       "  'children': [{'address': '5322609dde43e08ad6da6964574941fd',\n",
       "    'parent': 'b1471dc5764695abb4cadf16e26bd4c7',\n",
       "    'epoch_onboarded': 24,\n",
       "    'version_onboarded': 6006235}]},\n",
       " {'address': 'd67f3ff22bd719eb5be2df6577c9b42d',\n",
       "  'parent': '00000000000000000000000000000000',\n",
       "  'version_onboarded': 0,\n",
       "  'children': [{'address': '50040b551a28645e5c684a646db8e646',\n",
       "    'parent': 'd67f3ff22bd719eb5be2df6577c9b42d',\n",
       "    'epoch_onboarded': 20,\n",
       "    'version_onboarded': 4960325}]},\n",
       " {'address': '8421cb22e56f687395f5973bbf0cbdfb',\n",
       "  'parent': '00000000000000000000000000000000',\n",
       "  'version_onboarded': 0,\n",
       "  'children': [{'address': 'b5b5ba58b8e9916fe449d1f989383834',\n",
       "    'parent': '8421cb22e56f687395f5973bbf0cbdfb',\n",
       "    'epoch_onboarded': 18,\n",
       "    'version_onboarded': 4336088},\n",
       "   {'address': 'b295da228c6808199d92dc813975755c',\n",
       "    'parent': '8421cb22e56f687395f5973bbf0cbdfb',\n",
       "    'epoch_onboarded': 35,\n",
       "    'version_onboarded': 8908782}]}]"
      ]
     },
     "execution_count": 55,
     "metadata": {},
     "output_type": "execute_result"
    }
   ],
   "source": [
    "genesis_only"
   ]
  },
  {
   "cell_type": "code",
   "execution_count": 56,
   "metadata": {},
   "outputs": [],
   "source": [
    "with open('genesis_only.json', 'w') as outfile:\n",
    "    json.dump(genesis_only, outfile)"
   ]
  },
  {
   "cell_type": "code",
   "execution_count": 57,
   "metadata": {},
   "outputs": [
    {
     "data": {
      "text/plain": [
       "19"
      ]
     },
     "execution_count": 57,
     "metadata": {},
     "output_type": "execute_result"
    }
   ],
   "source": [
    "len(genesis_only)"
   ]
  },
  {
   "cell_type": "markdown",
   "metadata": {},
   "source": [
    "### Puts into a list and but preserves the extra address key"
   ]
  },
  {
   "cell_type": "code",
   "execution_count": 76,
   "metadata": {},
   "outputs": [],
   "source": [
    "genesis_only_key = [[keys, values] for [keys,values] in genesis_tree.items() if values['parent']=='00000000000000000000000000000000']"
   ]
  },
  {
   "cell_type": "code",
   "execution_count": 77,
   "metadata": {},
   "outputs": [
    {
     "data": {
      "text/plain": [
       "[['BDB8AD37341CEC0817FD8E2474E25031',\n",
       "  {'address': 'bdb8ad37341cec0817fd8e2474e25031',\n",
       "   'parent': '00000000000000000000000000000000',\n",
       "   'version_onboarded': 0,\n",
       "   'children': [{'address': 'e985cbb111a6e7210f1f07aa1f8a75dd',\n",
       "     'parent': 'bdb8ad37341cec0817fd8e2474e25031',\n",
       "     'epoch_onboarded': 23,\n",
       "     'version_onboarded': 5850341}]}],\n",
       " ['44BFFCEB6AC69D098959E4F463FB7005',\n",
       "  {'address': '44bffceb6ac69d098959e4f463fb7005',\n",
       "   'parent': '00000000000000000000000000000000',\n",
       "   'version_onboarded': 0,\n",
       "   'children': [{'address': 'a6be3ad55806f2f65cd1776322aede1a',\n",
       "     'parent': '44bffceb6ac69d098959e4f463fb7005',\n",
       "     'epoch_onboarded': 21,\n",
       "     'version_onboarded': 5218882}]}],\n",
       " ['252F0B551C80CD9E951D82C6F70792AE',\n",
       "  {'address': '252f0b551c80cd9e951d82c6f70792ae',\n",
       "   'parent': '00000000000000000000000000000000',\n",
       "   'version_onboarded': 0,\n",
       "   'children': [{'address': 'd340c54f3a05c06835b1401c3575b70d',\n",
       "     'parent': '252f0b551c80cd9e951d82c6f70792ae',\n",
       "     'epoch_onboarded': 21,\n",
       "     'version_onboarded': 5306913}]}],\n",
       " ['D0D62AE27A4E84B559DA089A1B15A79F',\n",
       "  {'address': 'd0d62ae27a4e84b559da089a1b15a79f',\n",
       "   'parent': '00000000000000000000000000000000',\n",
       "   'version_onboarded': 0,\n",
       "   'children': [{'address': 'e57cf27b3381574151b4fcea65bda0d2',\n",
       "     'parent': 'd0d62ae27a4e84b559da089a1b15a79f',\n",
       "     'epoch_onboarded': 20,\n",
       "     'version_onboarded': 5021771}]}],\n",
       " ['34E5ADDEC49DED4CC638DAD8CD992858',\n",
       "  {'address': '34e5addec49ded4cc638dad8cd992858',\n",
       "   'parent': '00000000000000000000000000000000',\n",
       "   'version_onboarded': 0,\n",
       "   'children': [{'address': 'c051bd516ca491cdf88c0a0656a552b0',\n",
       "     'parent': '34e5addec49ded4cc638dad8cd992858',\n",
       "     'epoch_onboarded': 22,\n",
       "     'version_onboarded': 5505531}]}],\n",
       " ['5ABEDEC612EA01B9F6F2EAAD7187BFEF',\n",
       "  {'address': '5abedec612ea01b9f6f2eaad7187bfef',\n",
       "   'parent': '00000000000000000000000000000000',\n",
       "   'version_onboarded': 0,\n",
       "   'children': [{'address': '71cd7dac2332c0200059af45818b95f8',\n",
       "     'parent': '5abedec612ea01b9f6f2eaad7187bfef',\n",
       "     'epoch_onboarded': 22,\n",
       "     'version_onboarded': 5592315}]}],\n",
       " ['E4E9FB27D7A8150162614EBDD282E195',\n",
       "  {'address': 'e4e9fb27d7a8150162614ebdd282e195',\n",
       "   'parent': '00000000000000000000000000000000',\n",
       "   'version_onboarded': 0,\n",
       "   'children': [{'address': '012338b54ba4625adcc313394d87819c',\n",
       "     'parent': 'e4e9fb27d7a8150162614ebdd282e195',\n",
       "     'epoch_onboarded': 29,\n",
       "     'version_onboarded': 7402709}]}],\n",
       " ['D1C9CE9308B0BDC6DC2BA6A7B5DA8C2B',\n",
       "  {'address': 'd1c9ce9308b0bdc6dc2ba6a7b5da8c2b',\n",
       "   'parent': '00000000000000000000000000000000',\n",
       "   'version_onboarded': 0,\n",
       "   'children': [{'address': '355ae7b5f391782006ef88580bbeaf22',\n",
       "     'parent': 'd1c9ce9308b0bdc6dc2ba6a7b5da8c2b',\n",
       "     'epoch_onboarded': 21,\n",
       "     'version_onboarded': 5279596}]}],\n",
       " ['CCB020E30B1C014F45664761F0B740C7',\n",
       "  {'address': 'ccb020e30b1c014f45664761f0b740c7',\n",
       "   'parent': '00000000000000000000000000000000',\n",
       "   'version_onboarded': 0,\n",
       "   'children': [{'address': 'ea10ea06c0fdab689da9dcf78fc90f4e',\n",
       "     'parent': 'ccb020e30b1c014f45664761f0b740c7',\n",
       "     'epoch_onboarded': 16,\n",
       "     'version_onboarded': 3637438},\n",
       "    {'address': '9d0a8f2f51a2cb0d4eceeb1fd269431d',\n",
       "     'parent': 'ccb020e30b1c014f45664761f0b740c7',\n",
       "     'epoch_onboarded': 31,\n",
       "     'version_onboarded': 7958699}]}],\n",
       " ['C0A1F4D49658CF2FE5402E10F496BB80',\n",
       "  {'address': 'c0a1f4d49658cf2fe5402e10f496bb80',\n",
       "   'parent': '00000000000000000000000000000000',\n",
       "   'version_onboarded': 0,\n",
       "   'children': [{'address': 'e8a1bf5e60fa00c2b792098b12fde964',\n",
       "     'parent': 'c0a1f4d49658cf2fe5402e10f496bb80',\n",
       "     'epoch_onboarded': 16,\n",
       "     'version_onboarded': 3596612},\n",
       "    {'address': 'e264023342b41accdbb61a190b6cb2a7',\n",
       "     'parent': 'c0a1f4d49658cf2fe5402e10f496bb80',\n",
       "     'epoch_onboarded': 33,\n",
       "     'version_onboarded': 8505948}]}],\n",
       " ['7E56B29CB23A49368BE593E5CFC9712E',\n",
       "  {'address': '7e56b29cb23a49368be593e5cfc9712e',\n",
       "   'parent': '00000000000000000000000000000000',\n",
       "   'version_onboarded': 0,\n",
       "   'children': [{'address': '0ef85e1723530edd76f2bb13614ac5c5',\n",
       "     'parent': '7e56b29cb23a49368be593e5cfc9712e',\n",
       "     'epoch_onboarded': 37,\n",
       "     'version_onboarded': 9271787}]}],\n",
       " ['46A7A744B5D33C47F6B20766F8088B10',\n",
       "  {'address': '46a7a744b5d33c47f6b20766f8088b10',\n",
       "   'parent': '00000000000000000000000000000000',\n",
       "   'version_onboarded': 0,\n",
       "   'children': [{'address': 'bcb79d7c813062f41b221e58b21203b4',\n",
       "     'parent': '46a7a744b5d33c47f6b20766f8088b10',\n",
       "     'epoch_onboarded': 22,\n",
       "     'version_onboarded': 5482926}]}],\n",
       " ['7EC16859C24200D8E074809D252AC740',\n",
       "  {'address': '7ec16859c24200d8e074809d252ac740',\n",
       "   'parent': '00000000000000000000000000000000',\n",
       "   'version_onboarded': 0,\n",
       "   'children': [{'address': 'aa7b724a51a8bd8e55208fef969209b3',\n",
       "     'parent': '7ec16859c24200d8e074809d252ac740',\n",
       "     'epoch_onboarded': 28,\n",
       "     'version_onboarded': 7106562}]}],\n",
       " ['64B21681CE1C34854498ED92D76432A2',\n",
       "  {'address': '64b21681ce1c34854498ed92d76432a2',\n",
       "   'parent': '00000000000000000000000000000000',\n",
       "   'version_onboarded': 0,\n",
       "   'children': [{'address': '84417cef5647097127e1bc24fd1002c6',\n",
       "     'parent': '64b21681ce1c34854498ed92d76432a2',\n",
       "     'epoch_onboarded': 18,\n",
       "     'version_onboarded': 4349485},\n",
       "    {'address': '1c03e956dd7afc612e4efe240c23365d',\n",
       "     'parent': '64b21681ce1c34854498ed92d76432a2',\n",
       "     'epoch_onboarded': 35,\n",
       "     'version_onboarded': 8818948}]}],\n",
       " ['ECAF65ADD1B785B0495E3099F4045EC0',\n",
       "  {'address': 'ecaf65add1b785b0495e3099f4045ec0',\n",
       "   'parent': '00000000000000000000000000000000',\n",
       "   'version_onboarded': 0,\n",
       "   'children': [{'address': '69a385e1744e33fbb24a42ecbd1603e3',\n",
       "     'parent': 'ecaf65add1b785b0495e3099f4045ec0',\n",
       "     'epoch_onboarded': 21,\n",
       "     'version_onboarded': 5306020}]}],\n",
       " ['304A03C0B4ACDFDCE54BFAF39D4E0448',\n",
       "  {'address': '304a03c0b4acdfdce54bfaf39d4e0448',\n",
       "   'parent': '00000000000000000000000000000000',\n",
       "   'version_onboarded': 0,\n",
       "   'children': [{'address': '49d3c58668e4accc43b8a77a9f2835fa',\n",
       "     'parent': '304a03c0b4acdfdce54bfaf39d4e0448',\n",
       "     'epoch_onboarded': 20,\n",
       "     'version_onboarded': 4960009},\n",
       "    {'address': 'd1281de242839fc939745996882c5fc2',\n",
       "     'parent': '304a03c0b4acdfdce54bfaf39d4e0448',\n",
       "     'epoch_onboarded': 36,\n",
       "     'version_onboarded': 9050655}]}],\n",
       " ['B1471DC5764695ABB4CADF16E26BD4C7',\n",
       "  {'address': 'b1471dc5764695abb4cadf16e26bd4c7',\n",
       "   'parent': '00000000000000000000000000000000',\n",
       "   'version_onboarded': 0,\n",
       "   'children': [{'address': '5322609dde43e08ad6da6964574941fd',\n",
       "     'parent': 'b1471dc5764695abb4cadf16e26bd4c7',\n",
       "     'epoch_onboarded': 24,\n",
       "     'version_onboarded': 6006235}]}],\n",
       " ['D67F3FF22BD719EB5BE2DF6577C9B42D',\n",
       "  {'address': 'd67f3ff22bd719eb5be2df6577c9b42d',\n",
       "   'parent': '00000000000000000000000000000000',\n",
       "   'version_onboarded': 0,\n",
       "   'children': [{'address': '50040b551a28645e5c684a646db8e646',\n",
       "     'parent': 'd67f3ff22bd719eb5be2df6577c9b42d',\n",
       "     'epoch_onboarded': 20,\n",
       "     'version_onboarded': 4960325}]}],\n",
       " ['8421CB22E56F687395F5973BBF0CBDFB',\n",
       "  {'address': '8421cb22e56f687395f5973bbf0cbdfb',\n",
       "   'parent': '00000000000000000000000000000000',\n",
       "   'version_onboarded': 0,\n",
       "   'children': [{'address': 'b5b5ba58b8e9916fe449d1f989383834',\n",
       "     'parent': '8421cb22e56f687395f5973bbf0cbdfb',\n",
       "     'epoch_onboarded': 18,\n",
       "     'version_onboarded': 4336088},\n",
       "    {'address': 'b295da228c6808199d92dc813975755c',\n",
       "     'parent': '8421cb22e56f687395f5973bbf0cbdfb',\n",
       "     'epoch_onboarded': 35,\n",
       "     'version_onboarded': 8908782}]}]]"
      ]
     },
     "execution_count": 77,
     "metadata": {},
     "output_type": "execute_result"
    }
   ],
   "source": [
    "genesis_only_key"
   ]
  },
  {
   "cell_type": "code",
   "execution_count": 80,
   "metadata": {},
   "outputs": [
    {
     "data": {
      "text/plain": [
       "['BDB8AD37341CEC0817FD8E2474E25031',\n",
       " {'address': 'bdb8ad37341cec0817fd8e2474e25031',\n",
       "  'parent': '00000000000000000000000000000000',\n",
       "  'version_onboarded': 0,\n",
       "  'children': [{'address': 'e985cbb111a6e7210f1f07aa1f8a75dd',\n",
       "    'parent': 'bdb8ad37341cec0817fd8e2474e25031',\n",
       "    'epoch_onboarded': 23,\n",
       "    'version_onboarded': 5850341}]}]"
      ]
     },
     "execution_count": 80,
     "metadata": {},
     "output_type": "execute_result"
    }
   ],
   "source": [
    "genesis_only_key[0]"
   ]
  },
  {
   "cell_type": "code",
   "execution_count": 105,
   "metadata": {},
   "outputs": [],
   "source": [
    "G = nx.DiGraph()\n",
    "for node in genesis_only:\n",
    "    for keys, values in node.items():\n",
    "        # address = keys.address\n",
    "        # print(keys)\n",
    "        # print(node['address'])\n",
    "        \n",
    "        G.add_node(node['address'], children = node['children'], epoch_onboarded = 0) # epoch_onboarded = values['epoch_onboarded']) not true for genesis\n",
    "        # print(G)\n",
    "    \n",
    "# from_dict_of_dicts(genesis_tree)"
   ]
  },
  {
   "cell_type": "code",
   "execution_count": 107,
   "metadata": {},
   "outputs": [
    {
     "name": "stdout",
     "output_type": "stream",
     "text": [
      "{'children': [{'address': '0ef85e1723530edd76f2bb13614ac5c5', 'parent': '7e56b29cb23a49368be593e5cfc9712e', 'epoch_onboarded': 37, 'version_onboarded': 9271787}], 'epoch_onboarded': 0}\n"
     ]
    }
   ],
   "source": [
    "print(G.nodes['7e56b29cb23a49368be593e5cfc9712e'])"
   ]
  },
  {
   "cell_type": "code",
   "execution_count": 106,
   "metadata": {},
   "outputs": [
    {
     "data": {
      "text/plain": [
       "[{'address': '0ef85e1723530edd76f2bb13614ac5c5',\n",
       "  'parent': '7e56b29cb23a49368be593e5cfc9712e',\n",
       "  'epoch_onboarded': 37,\n",
       "  'version_onboarded': 9271787}]"
      ]
     },
     "execution_count": 106,
     "metadata": {},
     "output_type": "execute_result"
    }
   ],
   "source": [
    "G.nodes['7e56b29cb23a49368be593e5cfc9712e']['children']"
   ]
  },
  {
   "cell_type": "code",
   "execution_count": 103,
   "metadata": {},
   "outputs": [
    {
     "data": {
      "text/plain": [
       "[{'address': 'ea10ea06c0fdab689da9dcf78fc90f4e',\n",
       "  'parent': 'ccb020e30b1c014f45664761f0b740c7',\n",
       "  'epoch_onboarded': 16,\n",
       "  'version_onboarded': 3637438},\n",
       " {'address': '9d0a8f2f51a2cb0d4eceeb1fd269431d',\n",
       "  'parent': 'ccb020e30b1c014f45664761f0b740c7',\n",
       "  'epoch_onboarded': 31,\n",
       "  'version_onboarded': 7958699}]"
      ]
     },
     "execution_count": 103,
     "metadata": {},
     "output_type": "execute_result"
    }
   ],
   "source": [
    "G.nodes['ccb020e30b1c014f45664761f0b740c7']['children']"
   ]
  },
  {
   "cell_type": "code",
   "execution_count": 168,
   "metadata": {},
   "outputs": [],
   "source": [
    "C = nx.DiGraph()\n",
    "for node in G:\n",
    "    C.add_node(node)\n",
    "    if 'children' in G.nodes[node]:\n",
    "        for child in G.nodes[node]['children']:\n",
    "            # C.add_node(child['address'])\n",
    "            C.add_node(child['address'], epoch_onboarded= child['epoch_onboarded'])\n",
    "            C.add_edge(node,child['address'])\n",
    "            # print(child)"
   ]
  },
  {
   "cell_type": "code",
   "execution_count": 159,
   "metadata": {},
   "outputs": [],
   "source": [
    "H = nx.compose(G,C)"
   ]
  },
  {
   "cell_type": "code",
   "execution_count": 160,
   "metadata": {},
   "outputs": [
    {
     "name": "stdout",
     "output_type": "stream",
     "text": [
      "{'epoch_onboarded': 35}\n"
     ]
    }
   ],
   "source": [
    "print(H.nodes['b295da228c6808199d92dc813975755c'])"
   ]
  },
  {
   "cell_type": "code",
   "execution_count": 170,
   "metadata": {},
   "outputs": [],
   "source": [
    "# for node in H:\n",
    "#     if 'children' in H.nodes[node]:\n",
    "#         for child in H.nodes[node]['children']:\n",
    "#             child_node = H.nodes[child]\n",
    "#             print(child_node)\n",
    "#             # H.add_edge(node, child_node) #child['address'], epoch_onboarded= child['epoch_onboarded'])\n",
    "#             # print('yo')"
   ]
  },
  {
   "cell_type": "code",
   "execution_count": 84,
   "metadata": {},
   "outputs": [],
   "source": [
    "def draw_net(G):\n",
    "    pos = nx.spring_layout(G)\n",
    "    nx.draw_networkx_nodes(G, pos, node_size=700)\n",
    "    nx.draw_networkx_edges(G, pos, width=4)\n",
    "    nx.draw_networkx_labels(G, pos, font_size=10, font_family='sans-serif')\n",
    "    plt.axis('off')\n",
    "    return plt.show()"
   ]
  },
  {
   "cell_type": "code",
   "execution_count": 152,
   "metadata": {},
   "outputs": [
    {
     "data": {
      "image/png": "[encoded data removed]",
      "text/plain": [
       "<Figure size 432x288 with 1 Axes>"
      ]
     },
     "metadata": {},
     "output_type": "display_data"
    }
   ],
   "source": [
    "nx.draw(G)"
   ]
  },
  {
   "cell_type": "code",
   "execution_count": 153,
   "metadata": {},
   "outputs": [
    {
     "data": {
      "image/png": "[encoded data removed]",
      "text/plain": [
       "<Figure size 432x288 with 1 Axes>"
      ]
     },
     "metadata": {},
     "output_type": "display_data"
    }
   ],
   "source": [
    "nx.draw(H)"
   ]
  },
  {
   "cell_type": "code",
   "execution_count": 169,
   "metadata": {},
   "outputs": [
    {
     "data": {
      "image/png": "[encoded data removed]",
      "text/plain": [
       "<Figure size 432x288 with 1 Axes>"
      ]
     },
     "metadata": {},
     "output_type": "display_data"
    }
   ],
   "source": [
    "nx.draw(C)"
   ]
  }
 ],
 "metadata": {
  "interpreter": {
   "hash": "0f0121f3087aeba530c63e0db60f5171c3cec0582e3d1e3d78c528d6eb18d107"
  },
  "kernelspec": {
   "display_name": "Python 3.8.8 64-bit ('base': conda)",
   "language": "python",
   "name": "python3"
  },
  "language_info": {
   "codemirror_mode": {
    "name": "ipython",
    "version": 3
   },
   "file_extension": ".py",
   "mimetype": "text/x-python",
   "name": "python",
   "nbconvert_exporter": "python",
   "pygments_lexer": "ipython3",
   "version": "3.8.8"
  },
  "orig_nbformat": 4
 },
 "nbformat": 4,
 "nbformat_minor": 2
}
