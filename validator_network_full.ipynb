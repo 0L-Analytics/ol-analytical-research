{
 "cells": [
  {
   "cell_type": "markdown",
   "metadata": {},
   "source": [
    "## Genesis Set Permission Tree Data Collection\n",
    "### Using https://github.com/0L-Analytics/permission-tree-monitoring API for Permission Tree of Validators on 0L\n",
    "#### Credit to: https://github.com/0L-Analytics/permission-tree-monitoring/commits?author=agouin for building the API"
   ]
  },
  {
   "cell_type": "markdown",
   "metadata": {},
   "source": [
    "### Shows relationship of Genesis Set to their first generation validators"
   ]
  },
  {
   "cell_type": "code",
   "execution_count": 1,
   "metadata": {},
   "outputs": [],
   "source": [
    "import requests\n",
    "import pandas as pd\n",
    "import csv\n",
    "import json\n",
    "import networkx as nx\n",
    "import matplotlib.pyplot as plt\n",
    "import matplotlib as mpl\n",
    "\n",
    "from utils import load_addresses_list, get_permission_tree"
   ]
  },
  {
   "cell_type": "markdown",
   "metadata": {},
   "source": [
    "### Get Account addresses into a list"
   ]
  },
  {
   "cell_type": "code",
   "execution_count": 2,
   "metadata": {},
   "outputs": [
    {
     "data": {
      "text/plain": [
       "['E57CF27B3381574151B4FCEA65BDA0D2',\n",
       " 'E8A1BF5E60FA00C2B792098B12FDE964',\n",
       " 'B5B5BA58B8E9916FE449D1F989383834',\n",
       " 'EA10EA06C0FDAB689DA9DCF78FC90F4E',\n",
       " 'BDB8AD37341CEC0817FD8E2474E25031',\n",
       " '44BFFCEB6AC69D098959E4F463FB7005',\n",
       " '252F0B551C80CD9E951D82C6F70792AE',\n",
       " 'D0D62AE27A4E84B559DA089A1B15A79F',\n",
       " '34E5ADDEC49DED4CC638DAD8CD992858',\n",
       " '5ABEDEC612EA01B9F6F2EAAD7187BFEF',\n",
       " 'E4E9FB27D7A8150162614EBDD282E195',\n",
       " 'D1C9CE9308B0BDC6DC2BA6A7B5DA8C2B',\n",
       " 'CCB020E30B1C014F45664761F0B740C7',\n",
       " 'C0A1F4D49658CF2FE5402E10F496BB80',\n",
       " '7E56B29CB23A49368BE593E5CFC9712E',\n",
       " '46A7A744B5D33C47F6B20766F8088B10',\n",
       " '7EC16859C24200D8E074809D252AC740',\n",
       " '64B21681CE1C34854498ED92D76432A2',\n",
       " 'ECAF65ADD1B785B0495E3099F4045EC0',\n",
       " '304A03C0B4ACDFDCE54BFAF39D4E0448',\n",
       " 'B1471DC5764695ABB4CADF16E26BD4C7',\n",
       " 'D67F3FF22BD719EB5BE2DF6577C9B42D',\n",
       " '8421CB22E56F687395F5973BBF0CBDFB']"
      ]
     },
     "execution_count": 2,
     "metadata": {},
     "output_type": "execute_result"
    }
   ],
   "source": [
    "path = 'address.csv'\n",
    "all_addresses = load_addresses_list(path)\n",
    "all_addresses"
   ]
  },
  {
   "cell_type": "markdown",
   "metadata": {},
   "source": [
    "### Get Permission Tree for the addresses"
   ]
  },
  {
   "cell_type": "code",
   "execution_count": 3,
   "metadata": {},
   "outputs": [],
   "source": [
    "genesis_tree = get_permission_tree(all_addresses)"
   ]
  },
  {
   "cell_type": "code",
   "execution_count": 4,
   "metadata": {},
   "outputs": [
    {
     "data": {
      "text/plain": [
       "{'E57CF27B3381574151B4FCEA65BDA0D2': {'address': 'e57cf27b3381574151b4fcea65bda0d2',\n",
       "  'operator_address': '76484d6025e1310f3c89f4467e024a24',\n",
       "  'parent': 'd0d62ae27a4e84b559da089a1b15a79f',\n",
       "  'epoch_onboarded': 20,\n",
       "  'version_onboarded': 5021771,\n",
       "  'children': []},\n",
       " 'E8A1BF5E60FA00C2B792098B12FDE964': {'address': 'e8a1bf5e60fa00c2b792098b12fde964',\n",
       "  'operator_address': '9f395754547c76fda1577edd53a959d9',\n",
       "  'parent': 'c0a1f4d49658cf2fe5402e10f496bb80',\n",
       "  'epoch_onboarded': 16,\n",
       "  'version_onboarded': 3596612,\n",
       "  'children': [{'address': '59c6262930e3ebb3398d5b88790c090c',\n",
       "    'operator_address': 'ca949aa34965a5984c2bffff69237216',\n",
       "    'parent': 'e8a1bf5e60fa00c2b792098b12fde964',\n",
       "    'epoch_onboarded': 38,\n",
       "    'version_onboarded': 9628061}]},\n",
       " 'B5B5BA58B8E9916FE449D1F989383834': {'address': 'b5b5ba58b8e9916fe449d1f989383834',\n",
       "  'operator_address': '8ab6489146a5ebc6890dd532bc249545',\n",
       "  'parent': '8421cb22e56f687395f5973bbf0cbdfb',\n",
       "  'epoch_onboarded': 18,\n",
       "  'version_onboarded': 4336088,\n",
       "  'children': []},\n",
       " 'EA10EA06C0FDAB689DA9DCF78FC90F4E': {'address': 'ea10ea06c0fdab689da9dcf78fc90f4e',\n",
       "  'operator_address': 'dc75c1d21c5cab6a8f8978678a4af699',\n",
       "  'parent': 'ccb020e30b1c014f45664761f0b740c7',\n",
       "  'epoch_onboarded': 16,\n",
       "  'version_onboarded': 3637438,\n",
       "  'children': [{'address': '93a91b21218aff3ceb211eb02b27cbe0',\n",
       "    'operator_address': '8f6ccc18d8d162f06d6e4c3b50d81c1c',\n",
       "    'parent': 'ea10ea06c0fdab689da9dcf78fc90f4e',\n",
       "    'epoch_onboarded': 35,\n",
       "    'version_onboarded': 8848822}]},\n",
       " 'BDB8AD37341CEC0817FD8E2474E25031': {'address': 'bdb8ad37341cec0817fd8e2474e25031',\n",
       "  'operator_address': '148c808f4063d03966c10f61dd6f3711',\n",
       "  'parent': '00000000000000000000000000000000',\n",
       "  'epoch_onboarded': 0,\n",
       "  'version_onboarded': 0,\n",
       "  'children': [{'address': 'e985cbb111a6e7210f1f07aa1f8a75dd',\n",
       "    'operator_address': 'ee58c4a2938cf3d892e85fb2cc039245',\n",
       "    'parent': 'bdb8ad37341cec0817fd8e2474e25031',\n",
       "    'epoch_onboarded': 23,\n",
       "    'version_onboarded': 5850341}]},\n",
       " '44BFFCEB6AC69D098959E4F463FB7005': {'address': '44bffceb6ac69d098959e4f463fb7005',\n",
       "  'operator_address': 'd888258f1516b4f82680d36e9a1f16e8',\n",
       "  'parent': '00000000000000000000000000000000',\n",
       "  'epoch_onboarded': 0,\n",
       "  'version_onboarded': 0,\n",
       "  'children': [{'address': 'a6be3ad55806f2f65cd1776322aede1a',\n",
       "    'operator_address': '1d281e527124c0ebb466a553a3d5063e',\n",
       "    'parent': '44bffceb6ac69d098959e4f463fb7005',\n",
       "    'epoch_onboarded': 21,\n",
       "    'version_onboarded': 5218882},\n",
       "   {'address': '9401af0f29d2afd49b8e48a0c361f661',\n",
       "    'operator_address': 'fbfbaebb74e2d4c54d73c66dc329d909',\n",
       "    'parent': '44bffceb6ac69d098959e4f463fb7005',\n",
       "    'epoch_onboarded': 41,\n",
       "    'version_onboarded': 10126552}]},\n",
       " '252F0B551C80CD9E951D82C6F70792AE': {'address': '252f0b551c80cd9e951d82c6f70792ae',\n",
       "  'operator_address': 'f973667c742b6e877d11398fbe5697d5',\n",
       "  'parent': '00000000000000000000000000000000',\n",
       "  'epoch_onboarded': 0,\n",
       "  'version_onboarded': 0,\n",
       "  'children': [{'address': 'd340c54f3a05c06835b1401c3575b70d',\n",
       "    'operator_address': '5e8aaaee8c44288d82c54b1770b67756',\n",
       "    'parent': '252f0b551c80cd9e951d82c6f70792ae',\n",
       "    'epoch_onboarded': 21,\n",
       "    'version_onboarded': 5306913},\n",
       "   {'address': '987d7486a6db70993eeab79124bc6606',\n",
       "    'operator_address': 'ca3c5e7218645ab53781c0b58b2401d6',\n",
       "    'parent': '252f0b551c80cd9e951d82c6f70792ae',\n",
       "    'epoch_onboarded': 37,\n",
       "    'version_onboarded': 9325961}]},\n",
       " 'D0D62AE27A4E84B559DA089A1B15A79F': {'address': 'd0d62ae27a4e84b559da089a1b15a79f',\n",
       "  'operator_address': 'e7fd87b088f4fc19bc51038a90d70e55',\n",
       "  'parent': '00000000000000000000000000000000',\n",
       "  'epoch_onboarded': 0,\n",
       "  'version_onboarded': 0,\n",
       "  'children': [{'address': 'e57cf27b3381574151b4fcea65bda0d2',\n",
       "    'operator_address': '76484d6025e1310f3c89f4467e024a24',\n",
       "    'parent': 'd0d62ae27a4e84b559da089a1b15a79f',\n",
       "    'epoch_onboarded': 20,\n",
       "    'version_onboarded': 5021771},\n",
       "   {'address': '4152478106c9080141da1a7176292b8c',\n",
       "    'operator_address': '878e65b64d7dd4c5f535b52e5f5b01a5',\n",
       "    'parent': 'd0d62ae27a4e84b559da089a1b15a79f',\n",
       "    'epoch_onboarded': 44,\n",
       "    'version_onboarded': 10768284}]},\n",
       " '34E5ADDEC49DED4CC638DAD8CD992858': {'address': '34e5addec49ded4cc638dad8cd992858',\n",
       "  'operator_address': '4271fb7a96e4dd0aa2ac6e8122be235a',\n",
       "  'parent': '00000000000000000000000000000000',\n",
       "  'epoch_onboarded': 0,\n",
       "  'version_onboarded': 0,\n",
       "  'children': [{'address': 'c051bd516ca491cdf88c0a0656a552b0',\n",
       "    'operator_address': 'f1ea95ffab3f82f1d35aaaf3bccbb4a1',\n",
       "    'parent': '34e5addec49ded4cc638dad8cd992858',\n",
       "    'epoch_onboarded': 22,\n",
       "    'version_onboarded': 5505531}]},\n",
       " '5ABEDEC612EA01B9F6F2EAAD7187BFEF': {'address': '5abedec612ea01b9f6f2eaad7187bfef',\n",
       "  'operator_address': 'fa87af326d8dee1d97971ed86d6f1b35',\n",
       "  'parent': '00000000000000000000000000000000',\n",
       "  'epoch_onboarded': 0,\n",
       "  'version_onboarded': 0,\n",
       "  'children': [{'address': '71cd7dac2332c0200059af45818b95f8',\n",
       "    'operator_address': '4f3fdf3c284665f43469a6e317ea878b',\n",
       "    'parent': '5abedec612ea01b9f6f2eaad7187bfef',\n",
       "    'epoch_onboarded': 22,\n",
       "    'version_onboarded': 5592315}]},\n",
       " 'E4E9FB27D7A8150162614EBDD282E195': {'address': 'e4e9fb27d7a8150162614ebdd282e195',\n",
       "  'operator_address': '088e7f751692c42777f511a0e93625df',\n",
       "  'parent': '00000000000000000000000000000000',\n",
       "  'epoch_onboarded': 0,\n",
       "  'version_onboarded': 0,\n",
       "  'children': [{'address': '012338b54ba4625adcc313394d87819c',\n",
       "    'operator_address': '59357260c14bc6576749d87eb627d727',\n",
       "    'parent': 'e4e9fb27d7a8150162614ebdd282e195',\n",
       "    'epoch_onboarded': 29,\n",
       "    'version_onboarded': 7402709}]},\n",
       " 'D1C9CE9308B0BDC6DC2BA6A7B5DA8C2B': {'address': 'd1c9ce9308b0bdc6dc2ba6a7b5da8c2b',\n",
       "  'operator_address': 'b5e1013e9ab7a874c5282844627c99ac',\n",
       "  'parent': '00000000000000000000000000000000',\n",
       "  'epoch_onboarded': 0,\n",
       "  'version_onboarded': 0,\n",
       "  'children': [{'address': '355ae7b5f391782006ef88580bbeaf22',\n",
       "    'operator_address': 'aec2461c0c9d8188fd6ae01d9d9f785e',\n",
       "    'parent': 'd1c9ce9308b0bdc6dc2ba6a7b5da8c2b',\n",
       "    'epoch_onboarded': 21,\n",
       "    'version_onboarded': 5279596}]},\n",
       " 'CCB020E30B1C014F45664761F0B740C7': {'address': 'ccb020e30b1c014f45664761f0b740c7',\n",
       "  'operator_address': 'bc5ac6b47a669f9eb4b9805a5e8505c2',\n",
       "  'parent': '00000000000000000000000000000000',\n",
       "  'epoch_onboarded': 0,\n",
       "  'version_onboarded': 0,\n",
       "  'children': [{'address': 'ea10ea06c0fdab689da9dcf78fc90f4e',\n",
       "    'operator_address': 'dc75c1d21c5cab6a8f8978678a4af699',\n",
       "    'parent': 'ccb020e30b1c014f45664761f0b740c7',\n",
       "    'epoch_onboarded': 16,\n",
       "    'version_onboarded': 3637438},\n",
       "   {'address': '9d0a8f2f51a2cb0d4eceeb1fd269431d',\n",
       "    'operator_address': '17bbd0e9ba88b569ca5e3bd3c6f04952',\n",
       "    'parent': 'ccb020e30b1c014f45664761f0b740c7',\n",
       "    'epoch_onboarded': 31,\n",
       "    'version_onboarded': 7958699}]},\n",
       " 'C0A1F4D49658CF2FE5402E10F496BB80': {'address': 'c0a1f4d49658cf2fe5402e10f496bb80',\n",
       "  'operator_address': '98b52dbcccf7757601b3540986ecd2dd',\n",
       "  'parent': '00000000000000000000000000000000',\n",
       "  'epoch_onboarded': 0,\n",
       "  'version_onboarded': 0,\n",
       "  'children': [{'address': 'e8a1bf5e60fa00c2b792098b12fde964',\n",
       "    'operator_address': '9f395754547c76fda1577edd53a959d9',\n",
       "    'parent': 'c0a1f4d49658cf2fe5402e10f496bb80',\n",
       "    'epoch_onboarded': 16,\n",
       "    'version_onboarded': 3596612},\n",
       "   {'address': 'e264023342b41accdbb61a190b6cb2a7',\n",
       "    'operator_address': 'b32c7497340a36797e421b35fa708a61',\n",
       "    'parent': 'c0a1f4d49658cf2fe5402e10f496bb80',\n",
       "    'epoch_onboarded': 33,\n",
       "    'version_onboarded': 8505948}]},\n",
       " '7E56B29CB23A49368BE593E5CFC9712E': {'address': '7e56b29cb23a49368be593e5cfc9712e',\n",
       "  'operator_address': '4d18b6f0481115ea32c96b81d4c35041',\n",
       "  'parent': '00000000000000000000000000000000',\n",
       "  'epoch_onboarded': 0,\n",
       "  'version_onboarded': 0,\n",
       "  'children': [{'address': '0ef85e1723530edd76f2bb13614ac5c5',\n",
       "    'operator_address': 'c6c3414f37d81f68f8447ddfeaf588ac',\n",
       "    'parent': '7e56b29cb23a49368be593e5cfc9712e',\n",
       "    'epoch_onboarded': 37,\n",
       "    'version_onboarded': 9271787}]},\n",
       " '46A7A744B5D33C47F6B20766F8088B10': {'address': '46a7a744b5d33c47f6b20766f8088b10',\n",
       "  'operator_address': 'e5ff39b2bca1b7d4c154a07f8d2699a9',\n",
       "  'parent': '00000000000000000000000000000000',\n",
       "  'epoch_onboarded': 0,\n",
       "  'version_onboarded': 0,\n",
       "  'children': [{'address': 'bcb79d7c813062f41b221e58b21203b4',\n",
       "    'operator_address': 'e3b89d3dc8e4fbe83ba29ada5e04f169',\n",
       "    'parent': '46a7a744b5d33c47f6b20766f8088b10',\n",
       "    'epoch_onboarded': 22,\n",
       "    'version_onboarded': 5482926}]},\n",
       " '7EC16859C24200D8E074809D252AC740': {'address': '7ec16859c24200d8e074809d252ac740',\n",
       "  'operator_address': 'c8336044cdf1878d9738ed0a041b235e',\n",
       "  'parent': '00000000000000000000000000000000',\n",
       "  'epoch_onboarded': 0,\n",
       "  'version_onboarded': 0,\n",
       "  'children': [{'address': 'aa7b724a51a8bd8e55208fef969209b3',\n",
       "    'operator_address': 'c54a7a74ff2f16e3fa581b897aad7ed3',\n",
       "    'parent': '7ec16859c24200d8e074809d252ac740',\n",
       "    'epoch_onboarded': 28,\n",
       "    'version_onboarded': 7106562}]},\n",
       " '64B21681CE1C34854498ED92D76432A2': {'address': '64b21681ce1c34854498ed92d76432a2',\n",
       "  'operator_address': '23e2a43dd91667ce668ce107705f4c75',\n",
       "  'parent': '00000000000000000000000000000000',\n",
       "  'epoch_onboarded': 0,\n",
       "  'version_onboarded': 0,\n",
       "  'children': [{'address': '84417cef5647097127e1bc24fd1002c6',\n",
       "    'operator_address': 'f8961ea426908f153ed40105801b508b',\n",
       "    'parent': '64b21681ce1c34854498ed92d76432a2',\n",
       "    'epoch_onboarded': 18,\n",
       "    'version_onboarded': 4349485},\n",
       "   {'address': '1c03e956dd7afc612e4efe240c23365d',\n",
       "    'operator_address': '2c6a483d3f6560b90f4df22949ab83db',\n",
       "    'parent': '64b21681ce1c34854498ed92d76432a2',\n",
       "    'epoch_onboarded': 35,\n",
       "    'version_onboarded': 8818948}]},\n",
       " 'ECAF65ADD1B785B0495E3099F4045EC0': {'address': 'ecaf65add1b785b0495e3099f4045ec0',\n",
       "  'operator_address': '00a7c9b758095176d29e5936ba9fb1d6',\n",
       "  'parent': '00000000000000000000000000000000',\n",
       "  'epoch_onboarded': 0,\n",
       "  'version_onboarded': 0,\n",
       "  'children': [{'address': '69a385e1744e33fbb24a42ecbd1603e3',\n",
       "    'operator_address': 'a25a563e5029210d60a1ed53e9761fcf',\n",
       "    'parent': 'ecaf65add1b785b0495e3099f4045ec0',\n",
       "    'epoch_onboarded': 21,\n",
       "    'version_onboarded': 5306020},\n",
       "   {'address': '779fd01dfe608a4288b4b514d17da48b',\n",
       "    'operator_address': 'ce81608c152527388c0a50d14f66ad87',\n",
       "    'parent': 'ecaf65add1b785b0495e3099f4045ec0',\n",
       "    'epoch_onboarded': 44,\n",
       "    'version_onboarded': 10727211}]},\n",
       " '304A03C0B4ACDFDCE54BFAF39D4E0448': {'address': '304a03c0b4acdfdce54bfaf39d4e0448',\n",
       "  'operator_address': '62aa596a51b1ec2ba96beb8e15284987',\n",
       "  'parent': '00000000000000000000000000000000',\n",
       "  'epoch_onboarded': 0,\n",
       "  'version_onboarded': 0,\n",
       "  'children': [{'address': '49d3c58668e4accc43b8a77a9f2835fa',\n",
       "    'operator_address': '584e89e24a5d439b7aaccec92be8a663',\n",
       "    'parent': '304a03c0b4acdfdce54bfaf39d4e0448',\n",
       "    'epoch_onboarded': 20,\n",
       "    'version_onboarded': 4960009},\n",
       "   {'address': 'd1281de242839fc939745996882c5fc2',\n",
       "    'operator_address': 'dfe8a91b9e8ee3bdda336487a5b646a8',\n",
       "    'parent': '304a03c0b4acdfdce54bfaf39d4e0448',\n",
       "    'epoch_onboarded': 36,\n",
       "    'version_onboarded': 9050655}]},\n",
       " 'B1471DC5764695ABB4CADF16E26BD4C7': {'address': 'b1471dc5764695abb4cadf16e26bd4c7',\n",
       "  'operator_address': 'facc653d707bd500044dcb99bf4c3d5b',\n",
       "  'parent': '00000000000000000000000000000000',\n",
       "  'epoch_onboarded': 0,\n",
       "  'version_onboarded': 0,\n",
       "  'children': [{'address': '5322609dde43e08ad6da6964574941fd',\n",
       "    'operator_address': '1d641c2fd254dad8680047c4c5e42764',\n",
       "    'parent': 'b1471dc5764695abb4cadf16e26bd4c7',\n",
       "    'epoch_onboarded': 24,\n",
       "    'version_onboarded': 6006235}]},\n",
       " 'D67F3FF22BD719EB5BE2DF6577C9B42D': {'address': 'd67f3ff22bd719eb5be2df6577c9b42d',\n",
       "  'operator_address': '55171e51b261d902964dd128a057c23a',\n",
       "  'parent': '00000000000000000000000000000000',\n",
       "  'epoch_onboarded': 0,\n",
       "  'version_onboarded': 0,\n",
       "  'children': [{'address': '50040b551a28645e5c684a646db8e646',\n",
       "    'operator_address': 'ae4582dda8cc5601d6c81b4a27a46b58',\n",
       "    'parent': 'd67f3ff22bd719eb5be2df6577c9b42d',\n",
       "    'epoch_onboarded': 20,\n",
       "    'version_onboarded': 4960325}]},\n",
       " '8421CB22E56F687395F5973BBF0CBDFB': {'address': '8421cb22e56f687395f5973bbf0cbdfb',\n",
       "  'operator_address': '9d1ad001bb1a77d6deebee8eb206596c',\n",
       "  'parent': '00000000000000000000000000000000',\n",
       "  'epoch_onboarded': 0,\n",
       "  'version_onboarded': 0,\n",
       "  'children': [{'address': 'b5b5ba58b8e9916fe449d1f989383834',\n",
       "    'operator_address': '8ab6489146a5ebc6890dd532bc249545',\n",
       "    'parent': '8421cb22e56f687395f5973bbf0cbdfb',\n",
       "    'epoch_onboarded': 18,\n",
       "    'version_onboarded': 4336088},\n",
       "   {'address': 'b295da228c6808199d92dc813975755c',\n",
       "    'operator_address': '4ba0442bef452b7f68cdc83d5b7c3c8f',\n",
       "    'parent': '8421cb22e56f687395f5973bbf0cbdfb',\n",
       "    'epoch_onboarded': 35,\n",
       "    'version_onboarded': 8908782}]}}"
      ]
     },
     "execution_count": 4,
     "metadata": {},
     "output_type": "execute_result"
    }
   ],
   "source": [
    "genesis_tree"
   ]
  },
  {
   "cell_type": "code",
   "execution_count": 5,
   "metadata": {},
   "outputs": [],
   "source": [
    "with open('almost_genesis.json', 'w') as outfile:\n",
    "    json.dump(genesis_tree, outfile)"
   ]
  },
  {
   "cell_type": "markdown",
   "metadata": {},
   "source": [
    "## TODO:\n",
    "\n",
    "- [ ] Create networkx object to show parent-child relationship at current epoch\n",
    "\n",
    "- [ ] Create viz to show genesis parent-child relationship change at each epoch\n",
    "\n",
    "- [ x ] Would only show genesis-child, need to then query API to 1st generation child to 2nd generation child relationship\n"
   ]
  },
  {
   "cell_type": "code",
   "execution_count": 6,
   "metadata": {},
   "outputs": [
    {
     "data": {
      "text/plain": [
       "23"
      ]
     },
     "execution_count": 6,
     "metadata": {},
     "output_type": "execute_result"
    }
   ],
   "source": [
    "len(genesis_tree)"
   ]
  },
  {
   "cell_type": "code",
   "execution_count": 7,
   "metadata": {},
   "outputs": [],
   "source": [
    "# for keys, values in genesis_tree.items():\n",
    "#     if values['children']:\n",
    "#         print('yes')\n",
    "        # genesis_only = [x for x in genesis_tree.values()['children'] != []]"
   ]
  },
  {
   "cell_type": "markdown",
   "metadata": {},
   "source": [
    "## Filter superset of addresses for genesis set only\n",
    "### Puts into a list and loses the extra address key"
   ]
  },
  {
   "cell_type": "code",
   "execution_count": 8,
   "metadata": {},
   "outputs": [],
   "source": [
    "genesis_only = [values for values in genesis_tree.values() if values['parent']=='00000000000000000000000000000000']"
   ]
  },
  {
   "cell_type": "code",
   "execution_count": 9,
   "metadata": {},
   "outputs": [
    {
     "data": {
      "text/plain": [
       "[{'address': 'bdb8ad37341cec0817fd8e2474e25031',\n",
       "  'operator_address': '148c808f4063d03966c10f61dd6f3711',\n",
       "  'parent': '00000000000000000000000000000000',\n",
       "  'epoch_onboarded': 0,\n",
       "  'version_onboarded': 0,\n",
       "  'children': [{'address': 'e985cbb111a6e7210f1f07aa1f8a75dd',\n",
       "    'operator_address': 'ee58c4a2938cf3d892e85fb2cc039245',\n",
       "    'parent': 'bdb8ad37341cec0817fd8e2474e25031',\n",
       "    'epoch_onboarded': 23,\n",
       "    'version_onboarded': 5850341}]},\n",
       " {'address': '44bffceb6ac69d098959e4f463fb7005',\n",
       "  'operator_address': 'd888258f1516b4f82680d36e9a1f16e8',\n",
       "  'parent': '00000000000000000000000000000000',\n",
       "  'epoch_onboarded': 0,\n",
       "  'version_onboarded': 0,\n",
       "  'children': [{'address': 'a6be3ad55806f2f65cd1776322aede1a',\n",
       "    'operator_address': '1d281e527124c0ebb466a553a3d5063e',\n",
       "    'parent': '44bffceb6ac69d098959e4f463fb7005',\n",
       "    'epoch_onboarded': 21,\n",
       "    'version_onboarded': 5218882},\n",
       "   {'address': '9401af0f29d2afd49b8e48a0c361f661',\n",
       "    'operator_address': 'fbfbaebb74e2d4c54d73c66dc329d909',\n",
       "    'parent': '44bffceb6ac69d098959e4f463fb7005',\n",
       "    'epoch_onboarded': 41,\n",
       "    'version_onboarded': 10126552}]},\n",
       " {'address': '252f0b551c80cd9e951d82c6f70792ae',\n",
       "  'operator_address': 'f973667c742b6e877d11398fbe5697d5',\n",
       "  'parent': '00000000000000000000000000000000',\n",
       "  'epoch_onboarded': 0,\n",
       "  'version_onboarded': 0,\n",
       "  'children': [{'address': 'd340c54f3a05c06835b1401c3575b70d',\n",
       "    'operator_address': '5e8aaaee8c44288d82c54b1770b67756',\n",
       "    'parent': '252f0b551c80cd9e951d82c6f70792ae',\n",
       "    'epoch_onboarded': 21,\n",
       "    'version_onboarded': 5306913},\n",
       "   {'address': '987d7486a6db70993eeab79124bc6606',\n",
       "    'operator_address': 'ca3c5e7218645ab53781c0b58b2401d6',\n",
       "    'parent': '252f0b551c80cd9e951d82c6f70792ae',\n",
       "    'epoch_onboarded': 37,\n",
       "    'version_onboarded': 9325961}]},\n",
       " {'address': 'd0d62ae27a4e84b559da089a1b15a79f',\n",
       "  'operator_address': 'e7fd87b088f4fc19bc51038a90d70e55',\n",
       "  'parent': '00000000000000000000000000000000',\n",
       "  'epoch_onboarded': 0,\n",
       "  'version_onboarded': 0,\n",
       "  'children': [{'address': 'e57cf27b3381574151b4fcea65bda0d2',\n",
       "    'operator_address': '76484d6025e1310f3c89f4467e024a24',\n",
       "    'parent': 'd0d62ae27a4e84b559da089a1b15a79f',\n",
       "    'epoch_onboarded': 20,\n",
       "    'version_onboarded': 5021771},\n",
       "   {'address': '4152478106c9080141da1a7176292b8c',\n",
       "    'operator_address': '878e65b64d7dd4c5f535b52e5f5b01a5',\n",
       "    'parent': 'd0d62ae27a4e84b559da089a1b15a79f',\n",
       "    'epoch_onboarded': 44,\n",
       "    'version_onboarded': 10768284}]},\n",
       " {'address': '34e5addec49ded4cc638dad8cd992858',\n",
       "  'operator_address': '4271fb7a96e4dd0aa2ac6e8122be235a',\n",
       "  'parent': '00000000000000000000000000000000',\n",
       "  'epoch_onboarded': 0,\n",
       "  'version_onboarded': 0,\n",
       "  'children': [{'address': 'c051bd516ca491cdf88c0a0656a552b0',\n",
       "    'operator_address': 'f1ea95ffab3f82f1d35aaaf3bccbb4a1',\n",
       "    'parent': '34e5addec49ded4cc638dad8cd992858',\n",
       "    'epoch_onboarded': 22,\n",
       "    'version_onboarded': 5505531}]},\n",
       " {'address': '5abedec612ea01b9f6f2eaad7187bfef',\n",
       "  'operator_address': 'fa87af326d8dee1d97971ed86d6f1b35',\n",
       "  'parent': '00000000000000000000000000000000',\n",
       "  'epoch_onboarded': 0,\n",
       "  'version_onboarded': 0,\n",
       "  'children': [{'address': '71cd7dac2332c0200059af45818b95f8',\n",
       "    'operator_address': '4f3fdf3c284665f43469a6e317ea878b',\n",
       "    'parent': '5abedec612ea01b9f6f2eaad7187bfef',\n",
       "    'epoch_onboarded': 22,\n",
       "    'version_onboarded': 5592315}]},\n",
       " {'address': 'e4e9fb27d7a8150162614ebdd282e195',\n",
       "  'operator_address': '088e7f751692c42777f511a0e93625df',\n",
       "  'parent': '00000000000000000000000000000000',\n",
       "  'epoch_onboarded': 0,\n",
       "  'version_onboarded': 0,\n",
       "  'children': [{'address': '012338b54ba4625adcc313394d87819c',\n",
       "    'operator_address': '59357260c14bc6576749d87eb627d727',\n",
       "    'parent': 'e4e9fb27d7a8150162614ebdd282e195',\n",
       "    'epoch_onboarded': 29,\n",
       "    'version_onboarded': 7402709}]},\n",
       " {'address': 'd1c9ce9308b0bdc6dc2ba6a7b5da8c2b',\n",
       "  'operator_address': 'b5e1013e9ab7a874c5282844627c99ac',\n",
       "  'parent': '00000000000000000000000000000000',\n",
       "  'epoch_onboarded': 0,\n",
       "  'version_onboarded': 0,\n",
       "  'children': [{'address': '355ae7b5f391782006ef88580bbeaf22',\n",
       "    'operator_address': 'aec2461c0c9d8188fd6ae01d9d9f785e',\n",
       "    'parent': 'd1c9ce9308b0bdc6dc2ba6a7b5da8c2b',\n",
       "    'epoch_onboarded': 21,\n",
       "    'version_onboarded': 5279596}]},\n",
       " {'address': 'ccb020e30b1c014f45664761f0b740c7',\n",
       "  'operator_address': 'bc5ac6b47a669f9eb4b9805a5e8505c2',\n",
       "  'parent': '00000000000000000000000000000000',\n",
       "  'epoch_onboarded': 0,\n",
       "  'version_onboarded': 0,\n",
       "  'children': [{'address': 'ea10ea06c0fdab689da9dcf78fc90f4e',\n",
       "    'operator_address': 'dc75c1d21c5cab6a8f8978678a4af699',\n",
       "    'parent': 'ccb020e30b1c014f45664761f0b740c7',\n",
       "    'epoch_onboarded': 16,\n",
       "    'version_onboarded': 3637438},\n",
       "   {'address': '9d0a8f2f51a2cb0d4eceeb1fd269431d',\n",
       "    'operator_address': '17bbd0e9ba88b569ca5e3bd3c6f04952',\n",
       "    'parent': 'ccb020e30b1c014f45664761f0b740c7',\n",
       "    'epoch_onboarded': 31,\n",
       "    'version_onboarded': 7958699}]},\n",
       " {'address': 'c0a1f4d49658cf2fe5402e10f496bb80',\n",
       "  'operator_address': '98b52dbcccf7757601b3540986ecd2dd',\n",
       "  'parent': '00000000000000000000000000000000',\n",
       "  'epoch_onboarded': 0,\n",
       "  'version_onboarded': 0,\n",
       "  'children': [{'address': 'e8a1bf5e60fa00c2b792098b12fde964',\n",
       "    'operator_address': '9f395754547c76fda1577edd53a959d9',\n",
       "    'parent': 'c0a1f4d49658cf2fe5402e10f496bb80',\n",
       "    'epoch_onboarded': 16,\n",
       "    'version_onboarded': 3596612},\n",
       "   {'address': 'e264023342b41accdbb61a190b6cb2a7',\n",
       "    'operator_address': 'b32c7497340a36797e421b35fa708a61',\n",
       "    'parent': 'c0a1f4d49658cf2fe5402e10f496bb80',\n",
       "    'epoch_onboarded': 33,\n",
       "    'version_onboarded': 8505948}]},\n",
       " {'address': '7e56b29cb23a49368be593e5cfc9712e',\n",
       "  'operator_address': '4d18b6f0481115ea32c96b81d4c35041',\n",
       "  'parent': '00000000000000000000000000000000',\n",
       "  'epoch_onboarded': 0,\n",
       "  'version_onboarded': 0,\n",
       "  'children': [{'address': '0ef85e1723530edd76f2bb13614ac5c5',\n",
       "    'operator_address': 'c6c3414f37d81f68f8447ddfeaf588ac',\n",
       "    'parent': '7e56b29cb23a49368be593e5cfc9712e',\n",
       "    'epoch_onboarded': 37,\n",
       "    'version_onboarded': 9271787}]},\n",
       " {'address': '46a7a744b5d33c47f6b20766f8088b10',\n",
       "  'operator_address': 'e5ff39b2bca1b7d4c154a07f8d2699a9',\n",
       "  'parent': '00000000000000000000000000000000',\n",
       "  'epoch_onboarded': 0,\n",
       "  'version_onboarded': 0,\n",
       "  'children': [{'address': 'bcb79d7c813062f41b221e58b21203b4',\n",
       "    'operator_address': 'e3b89d3dc8e4fbe83ba29ada5e04f169',\n",
       "    'parent': '46a7a744b5d33c47f6b20766f8088b10',\n",
       "    'epoch_onboarded': 22,\n",
       "    'version_onboarded': 5482926}]},\n",
       " {'address': '7ec16859c24200d8e074809d252ac740',\n",
       "  'operator_address': 'c8336044cdf1878d9738ed0a041b235e',\n",
       "  'parent': '00000000000000000000000000000000',\n",
       "  'epoch_onboarded': 0,\n",
       "  'version_onboarded': 0,\n",
       "  'children': [{'address': 'aa7b724a51a8bd8e55208fef969209b3',\n",
       "    'operator_address': 'c54a7a74ff2f16e3fa581b897aad7ed3',\n",
       "    'parent': '7ec16859c24200d8e074809d252ac740',\n",
       "    'epoch_onboarded': 28,\n",
       "    'version_onboarded': 7106562}]},\n",
       " {'address': '64b21681ce1c34854498ed92d76432a2',\n",
       "  'operator_address': '23e2a43dd91667ce668ce107705f4c75',\n",
       "  'parent': '00000000000000000000000000000000',\n",
       "  'epoch_onboarded': 0,\n",
       "  'version_onboarded': 0,\n",
       "  'children': [{'address': '84417cef5647097127e1bc24fd1002c6',\n",
       "    'operator_address': 'f8961ea426908f153ed40105801b508b',\n",
       "    'parent': '64b21681ce1c34854498ed92d76432a2',\n",
       "    'epoch_onboarded': 18,\n",
       "    'version_onboarded': 4349485},\n",
       "   {'address': '1c03e956dd7afc612e4efe240c23365d',\n",
       "    'operator_address': '2c6a483d3f6560b90f4df22949ab83db',\n",
       "    'parent': '64b21681ce1c34854498ed92d76432a2',\n",
       "    'epoch_onboarded': 35,\n",
       "    'version_onboarded': 8818948}]},\n",
       " {'address': 'ecaf65add1b785b0495e3099f4045ec0',\n",
       "  'operator_address': '00a7c9b758095176d29e5936ba9fb1d6',\n",
       "  'parent': '00000000000000000000000000000000',\n",
       "  'epoch_onboarded': 0,\n",
       "  'version_onboarded': 0,\n",
       "  'children': [{'address': '69a385e1744e33fbb24a42ecbd1603e3',\n",
       "    'operator_address': 'a25a563e5029210d60a1ed53e9761fcf',\n",
       "    'parent': 'ecaf65add1b785b0495e3099f4045ec0',\n",
       "    'epoch_onboarded': 21,\n",
       "    'version_onboarded': 5306020},\n",
       "   {'address': '779fd01dfe608a4288b4b514d17da48b',\n",
       "    'operator_address': 'ce81608c152527388c0a50d14f66ad87',\n",
       "    'parent': 'ecaf65add1b785b0495e3099f4045ec0',\n",
       "    'epoch_onboarded': 44,\n",
       "    'version_onboarded': 10727211}]},\n",
       " {'address': '304a03c0b4acdfdce54bfaf39d4e0448',\n",
       "  'operator_address': '62aa596a51b1ec2ba96beb8e15284987',\n",
       "  'parent': '00000000000000000000000000000000',\n",
       "  'epoch_onboarded': 0,\n",
       "  'version_onboarded': 0,\n",
       "  'children': [{'address': '49d3c58668e4accc43b8a77a9f2835fa',\n",
       "    'operator_address': '584e89e24a5d439b7aaccec92be8a663',\n",
       "    'parent': '304a03c0b4acdfdce54bfaf39d4e0448',\n",
       "    'epoch_onboarded': 20,\n",
       "    'version_onboarded': 4960009},\n",
       "   {'address': 'd1281de242839fc939745996882c5fc2',\n",
       "    'operator_address': 'dfe8a91b9e8ee3bdda336487a5b646a8',\n",
       "    'parent': '304a03c0b4acdfdce54bfaf39d4e0448',\n",
       "    'epoch_onboarded': 36,\n",
       "    'version_onboarded': 9050655}]},\n",
       " {'address': 'b1471dc5764695abb4cadf16e26bd4c7',\n",
       "  'operator_address': 'facc653d707bd500044dcb99bf4c3d5b',\n",
       "  'parent': '00000000000000000000000000000000',\n",
       "  'epoch_onboarded': 0,\n",
       "  'version_onboarded': 0,\n",
       "  'children': [{'address': '5322609dde43e08ad6da6964574941fd',\n",
       "    'operator_address': '1d641c2fd254dad8680047c4c5e42764',\n",
       "    'parent': 'b1471dc5764695abb4cadf16e26bd4c7',\n",
       "    'epoch_onboarded': 24,\n",
       "    'version_onboarded': 6006235}]},\n",
       " {'address': 'd67f3ff22bd719eb5be2df6577c9b42d',\n",
       "  'operator_address': '55171e51b261d902964dd128a057c23a',\n",
       "  'parent': '00000000000000000000000000000000',\n",
       "  'epoch_onboarded': 0,\n",
       "  'version_onboarded': 0,\n",
       "  'children': [{'address': '50040b551a28645e5c684a646db8e646',\n",
       "    'operator_address': 'ae4582dda8cc5601d6c81b4a27a46b58',\n",
       "    'parent': 'd67f3ff22bd719eb5be2df6577c9b42d',\n",
       "    'epoch_onboarded': 20,\n",
       "    'version_onboarded': 4960325}]},\n",
       " {'address': '8421cb22e56f687395f5973bbf0cbdfb',\n",
       "  'operator_address': '9d1ad001bb1a77d6deebee8eb206596c',\n",
       "  'parent': '00000000000000000000000000000000',\n",
       "  'epoch_onboarded': 0,\n",
       "  'version_onboarded': 0,\n",
       "  'children': [{'address': 'b5b5ba58b8e9916fe449d1f989383834',\n",
       "    'operator_address': '8ab6489146a5ebc6890dd532bc249545',\n",
       "    'parent': '8421cb22e56f687395f5973bbf0cbdfb',\n",
       "    'epoch_onboarded': 18,\n",
       "    'version_onboarded': 4336088},\n",
       "   {'address': 'b295da228c6808199d92dc813975755c',\n",
       "    'operator_address': '4ba0442bef452b7f68cdc83d5b7c3c8f',\n",
       "    'parent': '8421cb22e56f687395f5973bbf0cbdfb',\n",
       "    'epoch_onboarded': 35,\n",
       "    'version_onboarded': 8908782}]}]"
      ]
     },
     "execution_count": 9,
     "metadata": {},
     "output_type": "execute_result"
    }
   ],
   "source": [
    "genesis_only"
   ]
  },
  {
   "cell_type": "code",
   "execution_count": 10,
   "metadata": {},
   "outputs": [],
   "source": [
    "with open('genesis_only.json', 'w') as outfile:\n",
    "    json.dump(genesis_only, outfile)"
   ]
  },
  {
   "cell_type": "code",
   "execution_count": 11,
   "metadata": {},
   "outputs": [
    {
     "data": {
      "text/plain": [
       "19"
      ]
     },
     "execution_count": 11,
     "metadata": {},
     "output_type": "execute_result"
    }
   ],
   "source": [
    "len(genesis_only)"
   ]
  },
  {
   "cell_type": "markdown",
   "metadata": {},
   "source": [
    "### Puts into a list and but preserves the extra address key"
   ]
  },
  {
   "cell_type": "code",
   "execution_count": 12,
   "metadata": {},
   "outputs": [],
   "source": [
    "genesis_only_key = [[keys, values] for [keys,values] in genesis_tree.items() if values['parent']=='00000000000000000000000000000000']"
   ]
  },
  {
   "cell_type": "code",
   "execution_count": 13,
   "metadata": {},
   "outputs": [
    {
     "data": {
      "text/plain": [
       "[['BDB8AD37341CEC0817FD8E2474E25031',\n",
       "  {'address': 'bdb8ad37341cec0817fd8e2474e25031',\n",
       "   'operator_address': '148c808f4063d03966c10f61dd6f3711',\n",
       "   'parent': '00000000000000000000000000000000',\n",
       "   'epoch_onboarded': 0,\n",
       "   'version_onboarded': 0,\n",
       "   'children': [{'address': 'e985cbb111a6e7210f1f07aa1f8a75dd',\n",
       "     'operator_address': 'ee58c4a2938cf3d892e85fb2cc039245',\n",
       "     'parent': 'bdb8ad37341cec0817fd8e2474e25031',\n",
       "     'epoch_onboarded': 23,\n",
       "     'version_onboarded': 5850341}]}],\n",
       " ['44BFFCEB6AC69D098959E4F463FB7005',\n",
       "  {'address': '44bffceb6ac69d098959e4f463fb7005',\n",
       "   'operator_address': 'd888258f1516b4f82680d36e9a1f16e8',\n",
       "   'parent': '00000000000000000000000000000000',\n",
       "   'epoch_onboarded': 0,\n",
       "   'version_onboarded': 0,\n",
       "   'children': [{'address': 'a6be3ad55806f2f65cd1776322aede1a',\n",
       "     'operator_address': '1d281e527124c0ebb466a553a3d5063e',\n",
       "     'parent': '44bffceb6ac69d098959e4f463fb7005',\n",
       "     'epoch_onboarded': 21,\n",
       "     'version_onboarded': 5218882},\n",
       "    {'address': '9401af0f29d2afd49b8e48a0c361f661',\n",
       "     'operator_address': 'fbfbaebb74e2d4c54d73c66dc329d909',\n",
       "     'parent': '44bffceb6ac69d098959e4f463fb7005',\n",
       "     'epoch_onboarded': 41,\n",
       "     'version_onboarded': 10126552}]}],\n",
       " ['252F0B551C80CD9E951D82C6F70792AE',\n",
       "  {'address': '252f0b551c80cd9e951d82c6f70792ae',\n",
       "   'operator_address': 'f973667c742b6e877d11398fbe5697d5',\n",
       "   'parent': '00000000000000000000000000000000',\n",
       "   'epoch_onboarded': 0,\n",
       "   'version_onboarded': 0,\n",
       "   'children': [{'address': 'd340c54f3a05c06835b1401c3575b70d',\n",
       "     'operator_address': '5e8aaaee8c44288d82c54b1770b67756',\n",
       "     'parent': '252f0b551c80cd9e951d82c6f70792ae',\n",
       "     'epoch_onboarded': 21,\n",
       "     'version_onboarded': 5306913},\n",
       "    {'address': '987d7486a6db70993eeab79124bc6606',\n",
       "     'operator_address': 'ca3c5e7218645ab53781c0b58b2401d6',\n",
       "     'parent': '252f0b551c80cd9e951d82c6f70792ae',\n",
       "     'epoch_onboarded': 37,\n",
       "     'version_onboarded': 9325961}]}],\n",
       " ['D0D62AE27A4E84B559DA089A1B15A79F',\n",
       "  {'address': 'd0d62ae27a4e84b559da089a1b15a79f',\n",
       "   'operator_address': 'e7fd87b088f4fc19bc51038a90d70e55',\n",
       "   'parent': '00000000000000000000000000000000',\n",
       "   'epoch_onboarded': 0,\n",
       "   'version_onboarded': 0,\n",
       "   'children': [{'address': 'e57cf27b3381574151b4fcea65bda0d2',\n",
       "     'operator_address': '76484d6025e1310f3c89f4467e024a24',\n",
       "     'parent': 'd0d62ae27a4e84b559da089a1b15a79f',\n",
       "     'epoch_onboarded': 20,\n",
       "     'version_onboarded': 5021771},\n",
       "    {'address': '4152478106c9080141da1a7176292b8c',\n",
       "     'operator_address': '878e65b64d7dd4c5f535b52e5f5b01a5',\n",
       "     'parent': 'd0d62ae27a4e84b559da089a1b15a79f',\n",
       "     'epoch_onboarded': 44,\n",
       "     'version_onboarded': 10768284}]}],\n",
       " ['34E5ADDEC49DED4CC638DAD8CD992858',\n",
       "  {'address': '34e5addec49ded4cc638dad8cd992858',\n",
       "   'operator_address': '4271fb7a96e4dd0aa2ac6e8122be235a',\n",
       "   'parent': '00000000000000000000000000000000',\n",
       "   'epoch_onboarded': 0,\n",
       "   'version_onboarded': 0,\n",
       "   'children': [{'address': 'c051bd516ca491cdf88c0a0656a552b0',\n",
       "     'operator_address': 'f1ea95ffab3f82f1d35aaaf3bccbb4a1',\n",
       "     'parent': '34e5addec49ded4cc638dad8cd992858',\n",
       "     'epoch_onboarded': 22,\n",
       "     'version_onboarded': 5505531}]}],\n",
       " ['5ABEDEC612EA01B9F6F2EAAD7187BFEF',\n",
       "  {'address': '5abedec612ea01b9f6f2eaad7187bfef',\n",
       "   'operator_address': 'fa87af326d8dee1d97971ed86d6f1b35',\n",
       "   'parent': '00000000000000000000000000000000',\n",
       "   'epoch_onboarded': 0,\n",
       "   'version_onboarded': 0,\n",
       "   'children': [{'address': '71cd7dac2332c0200059af45818b95f8',\n",
       "     'operator_address': '4f3fdf3c284665f43469a6e317ea878b',\n",
       "     'parent': '5abedec612ea01b9f6f2eaad7187bfef',\n",
       "     'epoch_onboarded': 22,\n",
       "     'version_onboarded': 5592315}]}],\n",
       " ['E4E9FB27D7A8150162614EBDD282E195',\n",
       "  {'address': 'e4e9fb27d7a8150162614ebdd282e195',\n",
       "   'operator_address': '088e7f751692c42777f511a0e93625df',\n",
       "   'parent': '00000000000000000000000000000000',\n",
       "   'epoch_onboarded': 0,\n",
       "   'version_onboarded': 0,\n",
       "   'children': [{'address': '012338b54ba4625adcc313394d87819c',\n",
       "     'operator_address': '59357260c14bc6576749d87eb627d727',\n",
       "     'parent': 'e4e9fb27d7a8150162614ebdd282e195',\n",
       "     'epoch_onboarded': 29,\n",
       "     'version_onboarded': 7402709}]}],\n",
       " ['D1C9CE9308B0BDC6DC2BA6A7B5DA8C2B',\n",
       "  {'address': 'd1c9ce9308b0bdc6dc2ba6a7b5da8c2b',\n",
       "   'operator_address': 'b5e1013e9ab7a874c5282844627c99ac',\n",
       "   'parent': '00000000000000000000000000000000',\n",
       "   'epoch_onboarded': 0,\n",
       "   'version_onboarded': 0,\n",
       "   'children': [{'address': '355ae7b5f391782006ef88580bbeaf22',\n",
       "     'operator_address': 'aec2461c0c9d8188fd6ae01d9d9f785e',\n",
       "     'parent': 'd1c9ce9308b0bdc6dc2ba6a7b5da8c2b',\n",
       "     'epoch_onboarded': 21,\n",
       "     'version_onboarded': 5279596}]}],\n",
       " ['CCB020E30B1C014F45664761F0B740C7',\n",
       "  {'address': 'ccb020e30b1c014f45664761f0b740c7',\n",
       "   'operator_address': 'bc5ac6b47a669f9eb4b9805a5e8505c2',\n",
       "   'parent': '00000000000000000000000000000000',\n",
       "   'epoch_onboarded': 0,\n",
       "   'version_onboarded': 0,\n",
       "   'children': [{'address': 'ea10ea06c0fdab689da9dcf78fc90f4e',\n",
       "     'operator_address': 'dc75c1d21c5cab6a8f8978678a4af699',\n",
       "     'parent': 'ccb020e30b1c014f45664761f0b740c7',\n",
       "     'epoch_onboarded': 16,\n",
       "     'version_onboarded': 3637438},\n",
       "    {'address': '9d0a8f2f51a2cb0d4eceeb1fd269431d',\n",
       "     'operator_address': '17bbd0e9ba88b569ca5e3bd3c6f04952',\n",
       "     'parent': 'ccb020e30b1c014f45664761f0b740c7',\n",
       "     'epoch_onboarded': 31,\n",
       "     'version_onboarded': 7958699}]}],\n",
       " ['C0A1F4D49658CF2FE5402E10F496BB80',\n",
       "  {'address': 'c0a1f4d49658cf2fe5402e10f496bb80',\n",
       "   'operator_address': '98b52dbcccf7757601b3540986ecd2dd',\n",
       "   'parent': '00000000000000000000000000000000',\n",
       "   'epoch_onboarded': 0,\n",
       "   'version_onboarded': 0,\n",
       "   'children': [{'address': 'e8a1bf5e60fa00c2b792098b12fde964',\n",
       "     'operator_address': '9f395754547c76fda1577edd53a959d9',\n",
       "     'parent': 'c0a1f4d49658cf2fe5402e10f496bb80',\n",
       "     'epoch_onboarded': 16,\n",
       "     'version_onboarded': 3596612},\n",
       "    {'address': 'e264023342b41accdbb61a190b6cb2a7',\n",
       "     'operator_address': 'b32c7497340a36797e421b35fa708a61',\n",
       "     'parent': 'c0a1f4d49658cf2fe5402e10f496bb80',\n",
       "     'epoch_onboarded': 33,\n",
       "     'version_onboarded': 8505948}]}],\n",
       " ['7E56B29CB23A49368BE593E5CFC9712E',\n",
       "  {'address': '7e56b29cb23a49368be593e5cfc9712e',\n",
       "   'operator_address': '4d18b6f0481115ea32c96b81d4c35041',\n",
       "   'parent': '00000000000000000000000000000000',\n",
       "   'epoch_onboarded': 0,\n",
       "   'version_onboarded': 0,\n",
       "   'children': [{'address': '0ef85e1723530edd76f2bb13614ac5c5',\n",
       "     'operator_address': 'c6c3414f37d81f68f8447ddfeaf588ac',\n",
       "     'parent': '7e56b29cb23a49368be593e5cfc9712e',\n",
       "     'epoch_onboarded': 37,\n",
       "     'version_onboarded': 9271787}]}],\n",
       " ['46A7A744B5D33C47F6B20766F8088B10',\n",
       "  {'address': '46a7a744b5d33c47f6b20766f8088b10',\n",
       "   'operator_address': 'e5ff39b2bca1b7d4c154a07f8d2699a9',\n",
       "   'parent': '00000000000000000000000000000000',\n",
       "   'epoch_onboarded': 0,\n",
       "   'version_onboarded': 0,\n",
       "   'children': [{'address': 'bcb79d7c813062f41b221e58b21203b4',\n",
       "     'operator_address': 'e3b89d3dc8e4fbe83ba29ada5e04f169',\n",
       "     'parent': '46a7a744b5d33c47f6b20766f8088b10',\n",
       "     'epoch_onboarded': 22,\n",
       "     'version_onboarded': 5482926}]}],\n",
       " ['7EC16859C24200D8E074809D252AC740',\n",
       "  {'address': '7ec16859c24200d8e074809d252ac740',\n",
       "   'operator_address': 'c8336044cdf1878d9738ed0a041b235e',\n",
       "   'parent': '00000000000000000000000000000000',\n",
       "   'epoch_onboarded': 0,\n",
       "   'version_onboarded': 0,\n",
       "   'children': [{'address': 'aa7b724a51a8bd8e55208fef969209b3',\n",
       "     'operator_address': 'c54a7a74ff2f16e3fa581b897aad7ed3',\n",
       "     'parent': '7ec16859c24200d8e074809d252ac740',\n",
       "     'epoch_onboarded': 28,\n",
       "     'version_onboarded': 7106562}]}],\n",
       " ['64B21681CE1C34854498ED92D76432A2',\n",
       "  {'address': '64b21681ce1c34854498ed92d76432a2',\n",
       "   'operator_address': '23e2a43dd91667ce668ce107705f4c75',\n",
       "   'parent': '00000000000000000000000000000000',\n",
       "   'epoch_onboarded': 0,\n",
       "   'version_onboarded': 0,\n",
       "   'children': [{'address': '84417cef5647097127e1bc24fd1002c6',\n",
       "     'operator_address': 'f8961ea426908f153ed40105801b508b',\n",
       "     'parent': '64b21681ce1c34854498ed92d76432a2',\n",
       "     'epoch_onboarded': 18,\n",
       "     'version_onboarded': 4349485},\n",
       "    {'address': '1c03e956dd7afc612e4efe240c23365d',\n",
       "     'operator_address': '2c6a483d3f6560b90f4df22949ab83db',\n",
       "     'parent': '64b21681ce1c34854498ed92d76432a2',\n",
       "     'epoch_onboarded': 35,\n",
       "     'version_onboarded': 8818948}]}],\n",
       " ['ECAF65ADD1B785B0495E3099F4045EC0',\n",
       "  {'address': 'ecaf65add1b785b0495e3099f4045ec0',\n",
       "   'operator_address': '00a7c9b758095176d29e5936ba9fb1d6',\n",
       "   'parent': '00000000000000000000000000000000',\n",
       "   'epoch_onboarded': 0,\n",
       "   'version_onboarded': 0,\n",
       "   'children': [{'address': '69a385e1744e33fbb24a42ecbd1603e3',\n",
       "     'operator_address': 'a25a563e5029210d60a1ed53e9761fcf',\n",
       "     'parent': 'ecaf65add1b785b0495e3099f4045ec0',\n",
       "     'epoch_onboarded': 21,\n",
       "     'version_onboarded': 5306020},\n",
       "    {'address': '779fd01dfe608a4288b4b514d17da48b',\n",
       "     'operator_address': 'ce81608c152527388c0a50d14f66ad87',\n",
       "     'parent': 'ecaf65add1b785b0495e3099f4045ec0',\n",
       "     'epoch_onboarded': 44,\n",
       "     'version_onboarded': 10727211}]}],\n",
       " ['304A03C0B4ACDFDCE54BFAF39D4E0448',\n",
       "  {'address': '304a03c0b4acdfdce54bfaf39d4e0448',\n",
       "   'operator_address': '62aa596a51b1ec2ba96beb8e15284987',\n",
       "   'parent': '00000000000000000000000000000000',\n",
       "   'epoch_onboarded': 0,\n",
       "   'version_onboarded': 0,\n",
       "   'children': [{'address': '49d3c58668e4accc43b8a77a9f2835fa',\n",
       "     'operator_address': '584e89e24a5d439b7aaccec92be8a663',\n",
       "     'parent': '304a03c0b4acdfdce54bfaf39d4e0448',\n",
       "     'epoch_onboarded': 20,\n",
       "     'version_onboarded': 4960009},\n",
       "    {'address': 'd1281de242839fc939745996882c5fc2',\n",
       "     'operator_address': 'dfe8a91b9e8ee3bdda336487a5b646a8',\n",
       "     'parent': '304a03c0b4acdfdce54bfaf39d4e0448',\n",
       "     'epoch_onboarded': 36,\n",
       "     'version_onboarded': 9050655}]}],\n",
       " ['B1471DC5764695ABB4CADF16E26BD4C7',\n",
       "  {'address': 'b1471dc5764695abb4cadf16e26bd4c7',\n",
       "   'operator_address': 'facc653d707bd500044dcb99bf4c3d5b',\n",
       "   'parent': '00000000000000000000000000000000',\n",
       "   'epoch_onboarded': 0,\n",
       "   'version_onboarded': 0,\n",
       "   'children': [{'address': '5322609dde43e08ad6da6964574941fd',\n",
       "     'operator_address': '1d641c2fd254dad8680047c4c5e42764',\n",
       "     'parent': 'b1471dc5764695abb4cadf16e26bd4c7',\n",
       "     'epoch_onboarded': 24,\n",
       "     'version_onboarded': 6006235}]}],\n",
       " ['D67F3FF22BD719EB5BE2DF6577C9B42D',\n",
       "  {'address': 'd67f3ff22bd719eb5be2df6577c9b42d',\n",
       "   'operator_address': '55171e51b261d902964dd128a057c23a',\n",
       "   'parent': '00000000000000000000000000000000',\n",
       "   'epoch_onboarded': 0,\n",
       "   'version_onboarded': 0,\n",
       "   'children': [{'address': '50040b551a28645e5c684a646db8e646',\n",
       "     'operator_address': 'ae4582dda8cc5601d6c81b4a27a46b58',\n",
       "     'parent': 'd67f3ff22bd719eb5be2df6577c9b42d',\n",
       "     'epoch_onboarded': 20,\n",
       "     'version_onboarded': 4960325}]}],\n",
       " ['8421CB22E56F687395F5973BBF0CBDFB',\n",
       "  {'address': '8421cb22e56f687395f5973bbf0cbdfb',\n",
       "   'operator_address': '9d1ad001bb1a77d6deebee8eb206596c',\n",
       "   'parent': '00000000000000000000000000000000',\n",
       "   'epoch_onboarded': 0,\n",
       "   'version_onboarded': 0,\n",
       "   'children': [{'address': 'b5b5ba58b8e9916fe449d1f989383834',\n",
       "     'operator_address': '8ab6489146a5ebc6890dd532bc249545',\n",
       "     'parent': '8421cb22e56f687395f5973bbf0cbdfb',\n",
       "     'epoch_onboarded': 18,\n",
       "     'version_onboarded': 4336088},\n",
       "    {'address': 'b295da228c6808199d92dc813975755c',\n",
       "     'operator_address': '4ba0442bef452b7f68cdc83d5b7c3c8f',\n",
       "     'parent': '8421cb22e56f687395f5973bbf0cbdfb',\n",
       "     'epoch_onboarded': 35,\n",
       "     'version_onboarded': 8908782}]}]]"
      ]
     },
     "execution_count": 13,
     "metadata": {},
     "output_type": "execute_result"
    }
   ],
   "source": [
    "genesis_only_key"
   ]
  },
  {
   "cell_type": "code",
   "execution_count": 14,
   "metadata": {},
   "outputs": [
    {
     "data": {
      "text/plain": [
       "['BDB8AD37341CEC0817FD8E2474E25031',\n",
       " {'address': 'bdb8ad37341cec0817fd8e2474e25031',\n",
       "  'operator_address': '148c808f4063d03966c10f61dd6f3711',\n",
       "  'parent': '00000000000000000000000000000000',\n",
       "  'epoch_onboarded': 0,\n",
       "  'version_onboarded': 0,\n",
       "  'children': [{'address': 'e985cbb111a6e7210f1f07aa1f8a75dd',\n",
       "    'operator_address': 'ee58c4a2938cf3d892e85fb2cc039245',\n",
       "    'parent': 'bdb8ad37341cec0817fd8e2474e25031',\n",
       "    'epoch_onboarded': 23,\n",
       "    'version_onboarded': 5850341}]}]"
      ]
     },
     "execution_count": 14,
     "metadata": {},
     "output_type": "execute_result"
    }
   ],
   "source": [
    "genesis_only_key[0]"
   ]
  },
  {
   "cell_type": "code",
   "execution_count": 15,
   "metadata": {},
   "outputs": [],
   "source": [
    "G = nx.DiGraph()\n",
    "for node in genesis_only:\n",
    "    for keys, values in node.items():       \n",
    "        G.add_node(node['address'], children = node['children'], epoch_onboarded = 0, generation = 0) # epoch_onboarded = values['epoch_onboarded']) not true for genesis\n",
    "        # print(G)\n",
    "    \n",
    "# from_dict_of_dicts(genesis_tree)"
   ]
  },
  {
   "cell_type": "code",
   "execution_count": 16,
   "metadata": {},
   "outputs": [
    {
     "name": "stdout",
     "output_type": "stream",
     "text": [
      "{'children': [{'address': '0ef85e1723530edd76f2bb13614ac5c5', 'operator_address': 'c6c3414f37d81f68f8447ddfeaf588ac', 'parent': '7e56b29cb23a49368be593e5cfc9712e', 'epoch_onboarded': 37, 'version_onboarded': 9271787}], 'epoch_onboarded': 0, 'generation': 0}\n"
     ]
    }
   ],
   "source": [
    "print(G.nodes['7e56b29cb23a49368be593e5cfc9712e'])"
   ]
  },
  {
   "cell_type": "code",
   "execution_count": 17,
   "metadata": {},
   "outputs": [
    {
     "data": {
      "text/plain": [
       "[{'address': '0ef85e1723530edd76f2bb13614ac5c5',\n",
       "  'operator_address': 'c6c3414f37d81f68f8447ddfeaf588ac',\n",
       "  'parent': '7e56b29cb23a49368be593e5cfc9712e',\n",
       "  'epoch_onboarded': 37,\n",
       "  'version_onboarded': 9271787}]"
      ]
     },
     "execution_count": 17,
     "metadata": {},
     "output_type": "execute_result"
    }
   ],
   "source": [
    "G.nodes['7e56b29cb23a49368be593e5cfc9712e']['children']"
   ]
  },
  {
   "cell_type": "code",
   "execution_count": 18,
   "metadata": {},
   "outputs": [
    {
     "data": {
      "text/plain": [
       "[{'address': 'ea10ea06c0fdab689da9dcf78fc90f4e',\n",
       "  'operator_address': 'dc75c1d21c5cab6a8f8978678a4af699',\n",
       "  'parent': 'ccb020e30b1c014f45664761f0b740c7',\n",
       "  'epoch_onboarded': 16,\n",
       "  'version_onboarded': 3637438},\n",
       " {'address': '9d0a8f2f51a2cb0d4eceeb1fd269431d',\n",
       "  'operator_address': '17bbd0e9ba88b569ca5e3bd3c6f04952',\n",
       "  'parent': 'ccb020e30b1c014f45664761f0b740c7',\n",
       "  'epoch_onboarded': 31,\n",
       "  'version_onboarded': 7958699}]"
      ]
     },
     "execution_count": 18,
     "metadata": {},
     "output_type": "execute_result"
    }
   ],
   "source": [
    "G.nodes['ccb020e30b1c014f45664761f0b740c7']['children']"
   ]
  },
  {
   "cell_type": "code",
   "execution_count": 19,
   "metadata": {},
   "outputs": [
    {
     "name": "stdout",
     "output_type": "stream",
     "text": [
      "Genesis Child Count\n",
      "bdb8ad37341cec0817fd8e2474e25031    1\n",
      "44bffceb6ac69d098959e4f463fb7005    2\n",
      "252f0b551c80cd9e951d82c6f70792ae    2\n",
      "d0d62ae27a4e84b559da089a1b15a79f    2\n",
      "34e5addec49ded4cc638dad8cd992858    1\n",
      "5abedec612ea01b9f6f2eaad7187bfef    1\n",
      "e4e9fb27d7a8150162614ebdd282e195    1\n",
      "d1c9ce9308b0bdc6dc2ba6a7b5da8c2b    1\n",
      "ccb020e30b1c014f45664761f0b740c7    2\n",
      "c0a1f4d49658cf2fe5402e10f496bb80    2\n",
      "7e56b29cb23a49368be593e5cfc9712e    1\n",
      "46a7a744b5d33c47f6b20766f8088b10    1\n",
      "7ec16859c24200d8e074809d252ac740    1\n",
      "64b21681ce1c34854498ed92d76432a2    2\n",
      "ecaf65add1b785b0495e3099f4045ec0    2\n",
      "304a03c0b4acdfdce54bfaf39d4e0448    2\n",
      "b1471dc5764695abb4cadf16e26bd4c7    1\n",
      "d67f3ff22bd719eb5be2df6577c9b42d    1\n",
      "8421cb22e56f687395f5973bbf0cbdfb    2\n"
     ]
    }
   ],
   "source": [
    "C = nx.DiGraph()\n",
    "print('Genesis Child Count')\n",
    "for node in G:\n",
    "    C.add_node(node, data=True)\n",
    "    # print(node)\n",
    "    if 'children' in G.nodes[node]:\n",
    "        print(node, '  ',len(G.nodes[node]['children']))\n",
    "        for child in G.nodes[node]['children']:\n",
    "            C.add_node(child['address'])\n",
    "            C.add_node(child['address'], epoch_onboarded= child['epoch_onboarded'], generation = 1)\n",
    "            C.add_edge(node,child['address'])\n",
    "            # print(child)\n",
    "    else:\n",
    "        print('0')"
   ]
  },
  {
   "cell_type": "code",
   "execution_count": 20,
   "metadata": {},
   "outputs": [
    {
     "name": "stdout",
     "output_type": "stream",
     "text": [
      "Genesis Child Count\n",
      "bdb8ad37341cec0817fd8e2474e25031    1\n",
      "44bffceb6ac69d098959e4f463fb7005    2\n",
      "252f0b551c80cd9e951d82c6f70792ae    2\n",
      "d0d62ae27a4e84b559da089a1b15a79f    2\n",
      "34e5addec49ded4cc638dad8cd992858    1\n",
      "5abedec612ea01b9f6f2eaad7187bfef    1\n",
      "e4e9fb27d7a8150162614ebdd282e195    1\n",
      "d1c9ce9308b0bdc6dc2ba6a7b5da8c2b    1\n",
      "ccb020e30b1c014f45664761f0b740c7    2\n",
      "c0a1f4d49658cf2fe5402e10f496bb80    2\n",
      "7e56b29cb23a49368be593e5cfc9712e    1\n",
      "46a7a744b5d33c47f6b20766f8088b10    1\n",
      "7ec16859c24200d8e074809d252ac740    1\n",
      "64b21681ce1c34854498ed92d76432a2    2\n",
      "ecaf65add1b785b0495e3099f4045ec0    2\n",
      "304a03c0b4acdfdce54bfaf39d4e0448    2\n",
      "b1471dc5764695abb4cadf16e26bd4c7    1\n",
      "d67f3ff22bd719eb5be2df6577c9b42d    1\n",
      "8421cb22e56f687395f5973bbf0cbdfb    2\n"
     ]
    }
   ],
   "source": [
    "C = nx.DiGraph()\n",
    "print('Genesis Child Count')\n",
    "\n",
    "gen1_list = []\n",
    "for node,d in G.nodes(data=True):\n",
    "    C.add_node(node, data=True)\n",
    "    # print(node)\n",
    "    if 'children' in G.nodes[node]:\n",
    "        print(node, '  ',len(G.nodes[node]['children']))\n",
    "        for child in G.nodes[node]['children']:\n",
    "            # C.add_node(child['address'])\n",
    "            C.add_node(child['address'], epoch_onboarded= child['epoch_onboarded'], generation = 1)\n",
    "            C.add_edge(node,child['address'])\n",
    "\n",
    "            gen1_list.append(child['address'])\n",
    "            # print(child)\n",
    "    else:\n",
    "        print('0')"
   ]
  },
  {
   "cell_type": "code",
   "execution_count": 21,
   "metadata": {},
   "outputs": [],
   "source": [
    "gen_1_tree = get_permission_tree(gen1_list)"
   ]
  },
  {
   "cell_type": "code",
   "execution_count": 22,
   "metadata": {},
   "outputs": [
    {
     "data": {
      "text/plain": [
       "{'e985cbb111a6e7210f1f07aa1f8a75dd': {'address': 'e985cbb111a6e7210f1f07aa1f8a75dd',\n",
       "  'operator_address': 'ee58c4a2938cf3d892e85fb2cc039245',\n",
       "  'parent': 'bdb8ad37341cec0817fd8e2474e25031',\n",
       "  'epoch_onboarded': 23,\n",
       "  'version_onboarded': 5850341,\n",
       "  'children': []},\n",
       " 'a6be3ad55806f2f65cd1776322aede1a': {'address': 'a6be3ad55806f2f65cd1776322aede1a',\n",
       "  'operator_address': '1d281e527124c0ebb466a553a3d5063e',\n",
       "  'parent': '44bffceb6ac69d098959e4f463fb7005',\n",
       "  'epoch_onboarded': 21,\n",
       "  'version_onboarded': 5218882,\n",
       "  'children': [{'address': '97a31d6d14fc8024a34b1630e9c4f638',\n",
       "    'operator_address': 'f120fb81dde9db4a1f81e0d01d2936e2',\n",
       "    'parent': 'a6be3ad55806f2f65cd1776322aede1a',\n",
       "    'epoch_onboarded': 36,\n",
       "    'version_onboarded': 9042418}]},\n",
       " '9401af0f29d2afd49b8e48a0c361f661': {'address': '9401af0f29d2afd49b8e48a0c361f661',\n",
       "  'operator_address': 'fbfbaebb74e2d4c54d73c66dc329d909',\n",
       "  'parent': '44bffceb6ac69d098959e4f463fb7005',\n",
       "  'epoch_onboarded': 41,\n",
       "  'version_onboarded': 10126552,\n",
       "  'children': []},\n",
       " 'd340c54f3a05c06835b1401c3575b70d': {'address': 'd340c54f3a05c06835b1401c3575b70d',\n",
       "  'operator_address': '5e8aaaee8c44288d82c54b1770b67756',\n",
       "  'parent': '252f0b551c80cd9e951d82c6f70792ae',\n",
       "  'epoch_onboarded': 21,\n",
       "  'version_onboarded': 5306913,\n",
       "  'children': []},\n",
       " '987d7486a6db70993eeab79124bc6606': {'address': '987d7486a6db70993eeab79124bc6606',\n",
       "  'operator_address': 'ca3c5e7218645ab53781c0b58b2401d6',\n",
       "  'parent': '252f0b551c80cd9e951d82c6f70792ae',\n",
       "  'epoch_onboarded': 37,\n",
       "  'version_onboarded': 9325961,\n",
       "  'children': []},\n",
       " 'e57cf27b3381574151b4fcea65bda0d2': {'address': 'e57cf27b3381574151b4fcea65bda0d2',\n",
       "  'operator_address': '76484d6025e1310f3c89f4467e024a24',\n",
       "  'parent': 'd0d62ae27a4e84b559da089a1b15a79f',\n",
       "  'epoch_onboarded': 20,\n",
       "  'version_onboarded': 5021771,\n",
       "  'children': []},\n",
       " '4152478106c9080141da1a7176292b8c': {'address': '4152478106c9080141da1a7176292b8c',\n",
       "  'operator_address': '878e65b64d7dd4c5f535b52e5f5b01a5',\n",
       "  'parent': 'd0d62ae27a4e84b559da089a1b15a79f',\n",
       "  'epoch_onboarded': 44,\n",
       "  'version_onboarded': 10768284,\n",
       "  'children': []},\n",
       " 'c051bd516ca491cdf88c0a0656a552b0': {'address': 'c051bd516ca491cdf88c0a0656a552b0',\n",
       "  'operator_address': 'f1ea95ffab3f82f1d35aaaf3bccbb4a1',\n",
       "  'parent': '34e5addec49ded4cc638dad8cd992858',\n",
       "  'epoch_onboarded': 22,\n",
       "  'version_onboarded': 5505531,\n",
       "  'children': []},\n",
       " '71cd7dac2332c0200059af45818b95f8': {'address': '71cd7dac2332c0200059af45818b95f8',\n",
       "  'operator_address': '4f3fdf3c284665f43469a6e317ea878b',\n",
       "  'parent': '5abedec612ea01b9f6f2eaad7187bfef',\n",
       "  'epoch_onboarded': 22,\n",
       "  'version_onboarded': 5592315,\n",
       "  'children': []},\n",
       " '012338b54ba4625adcc313394d87819c': {'address': '012338b54ba4625adcc313394d87819c',\n",
       "  'operator_address': '59357260c14bc6576749d87eb627d727',\n",
       "  'parent': 'e4e9fb27d7a8150162614ebdd282e195',\n",
       "  'epoch_onboarded': 29,\n",
       "  'version_onboarded': 7402709,\n",
       "  'children': [{'address': '987be6e871faeedfe255b4305b4c6d02',\n",
       "    'operator_address': '91185ed5a1976f2e01be08ee96e4d9d2',\n",
       "    'parent': '012338b54ba4625adcc313394d87819c',\n",
       "    'epoch_onboarded': 43,\n",
       "    'version_onboarded': 10541773}]},\n",
       " '355ae7b5f391782006ef88580bbeaf22': {'address': '355ae7b5f391782006ef88580bbeaf22',\n",
       "  'operator_address': 'aec2461c0c9d8188fd6ae01d9d9f785e',\n",
       "  'parent': 'd1c9ce9308b0bdc6dc2ba6a7b5da8c2b',\n",
       "  'epoch_onboarded': 21,\n",
       "  'version_onboarded': 5279596,\n",
       "  'children': [{'address': 'e77ddb76c9afcb3d5511e46cbc89023d',\n",
       "    'operator_address': '6aec566836b3c8a3d10288d90d62078b',\n",
       "    'parent': '355ae7b5f391782006ef88580bbeaf22',\n",
       "    'epoch_onboarded': 36,\n",
       "    'version_onboarded': 9058798}]},\n",
       " 'ea10ea06c0fdab689da9dcf78fc90f4e': {'address': 'ea10ea06c0fdab689da9dcf78fc90f4e',\n",
       "  'operator_address': 'dc75c1d21c5cab6a8f8978678a4af699',\n",
       "  'parent': 'ccb020e30b1c014f45664761f0b740c7',\n",
       "  'epoch_onboarded': 16,\n",
       "  'version_onboarded': 3637438,\n",
       "  'children': [{'address': '93a91b21218aff3ceb211eb02b27cbe0',\n",
       "    'operator_address': '8f6ccc18d8d162f06d6e4c3b50d81c1c',\n",
       "    'parent': 'ea10ea06c0fdab689da9dcf78fc90f4e',\n",
       "    'epoch_onboarded': 35,\n",
       "    'version_onboarded': 8848822}]},\n",
       " '9d0a8f2f51a2cb0d4eceeb1fd269431d': {'address': '9d0a8f2f51a2cb0d4eceeb1fd269431d',\n",
       "  'operator_address': '17bbd0e9ba88b569ca5e3bd3c6f04952',\n",
       "  'parent': 'ccb020e30b1c014f45664761f0b740c7',\n",
       "  'epoch_onboarded': 31,\n",
       "  'version_onboarded': 7958699,\n",
       "  'children': []},\n",
       " 'e8a1bf5e60fa00c2b792098b12fde964': {'address': 'e8a1bf5e60fa00c2b792098b12fde964',\n",
       "  'operator_address': '9f395754547c76fda1577edd53a959d9',\n",
       "  'parent': 'c0a1f4d49658cf2fe5402e10f496bb80',\n",
       "  'epoch_onboarded': 16,\n",
       "  'version_onboarded': 3596612,\n",
       "  'children': [{'address': '59c6262930e3ebb3398d5b88790c090c',\n",
       "    'operator_address': 'ca949aa34965a5984c2bffff69237216',\n",
       "    'parent': 'e8a1bf5e60fa00c2b792098b12fde964',\n",
       "    'epoch_onboarded': 38,\n",
       "    'version_onboarded': 9628061}]},\n",
       " 'e264023342b41accdbb61a190b6cb2a7': {'address': 'e264023342b41accdbb61a190b6cb2a7',\n",
       "  'operator_address': 'b32c7497340a36797e421b35fa708a61',\n",
       "  'parent': 'c0a1f4d49658cf2fe5402e10f496bb80',\n",
       "  'epoch_onboarded': 33,\n",
       "  'version_onboarded': 8505948,\n",
       "  'children': []},\n",
       " '0ef85e1723530edd76f2bb13614ac5c5': {'address': '0ef85e1723530edd76f2bb13614ac5c5',\n",
       "  'operator_address': 'c6c3414f37d81f68f8447ddfeaf588ac',\n",
       "  'parent': '7e56b29cb23a49368be593e5cfc9712e',\n",
       "  'epoch_onboarded': 37,\n",
       "  'version_onboarded': 9271787,\n",
       "  'children': []},\n",
       " 'bcb79d7c813062f41b221e58b21203b4': {'address': 'bcb79d7c813062f41b221e58b21203b4',\n",
       "  'operator_address': 'e3b89d3dc8e4fbe83ba29ada5e04f169',\n",
       "  'parent': '46a7a744b5d33c47f6b20766f8088b10',\n",
       "  'epoch_onboarded': 22,\n",
       "  'version_onboarded': 5482926,\n",
       "  'children': []},\n",
       " 'aa7b724a51a8bd8e55208fef969209b3': {'address': 'aa7b724a51a8bd8e55208fef969209b3',\n",
       "  'operator_address': 'c54a7a74ff2f16e3fa581b897aad7ed3',\n",
       "  'parent': '7ec16859c24200d8e074809d252ac740',\n",
       "  'epoch_onboarded': 28,\n",
       "  'version_onboarded': 7106562,\n",
       "  'children': []},\n",
       " '84417cef5647097127e1bc24fd1002c6': {'address': '84417cef5647097127e1bc24fd1002c6',\n",
       "  'operator_address': 'f8961ea426908f153ed40105801b508b',\n",
       "  'parent': '64b21681ce1c34854498ed92d76432a2',\n",
       "  'epoch_onboarded': 18,\n",
       "  'version_onboarded': 4349485,\n",
       "  'children': [{'address': '34b5d5e56ec27d954ac5d40b24d11422',\n",
       "    'operator_address': '443d5d5338d5979645dfc8f750c17768',\n",
       "    'parent': '84417cef5647097127e1bc24fd1002c6',\n",
       "    'epoch_onboarded': 35,\n",
       "    'version_onboarded': 8846607}]},\n",
       " '1c03e956dd7afc612e4efe240c23365d': {'address': '1c03e956dd7afc612e4efe240c23365d',\n",
       "  'operator_address': '2c6a483d3f6560b90f4df22949ab83db',\n",
       "  'parent': '64b21681ce1c34854498ed92d76432a2',\n",
       "  'epoch_onboarded': 35,\n",
       "  'version_onboarded': 8818948,\n",
       "  'children': []},\n",
       " '69a385e1744e33fbb24a42ecbd1603e3': {'address': '69a385e1744e33fbb24a42ecbd1603e3',\n",
       "  'operator_address': 'a25a563e5029210d60a1ed53e9761fcf',\n",
       "  'parent': 'ecaf65add1b785b0495e3099f4045ec0',\n",
       "  'epoch_onboarded': 21,\n",
       "  'version_onboarded': 5306020,\n",
       "  'children': []},\n",
       " '779fd01dfe608a4288b4b514d17da48b': {'address': '779fd01dfe608a4288b4b514d17da48b',\n",
       "  'operator_address': 'ce81608c152527388c0a50d14f66ad87',\n",
       "  'parent': 'ecaf65add1b785b0495e3099f4045ec0',\n",
       "  'epoch_onboarded': 44,\n",
       "  'version_onboarded': 10727211,\n",
       "  'children': []},\n",
       " '49d3c58668e4accc43b8a77a9f2835fa': {'address': '49d3c58668e4accc43b8a77a9f2835fa',\n",
       "  'operator_address': '584e89e24a5d439b7aaccec92be8a663',\n",
       "  'parent': '304a03c0b4acdfdce54bfaf39d4e0448',\n",
       "  'epoch_onboarded': 20,\n",
       "  'version_onboarded': 4960009,\n",
       "  'children': [{'address': '7756310e875636763d16f080bb236cab',\n",
       "    'operator_address': '23738f9e7d61505f726fe490e4a9e8ec',\n",
       "    'parent': '49d3c58668e4accc43b8a77a9f2835fa',\n",
       "    'epoch_onboarded': 38,\n",
       "    'version_onboarded': 9495400}]},\n",
       " 'd1281de242839fc939745996882c5fc2': {'address': 'd1281de242839fc939745996882c5fc2',\n",
       "  'operator_address': 'dfe8a91b9e8ee3bdda336487a5b646a8',\n",
       "  'parent': '304a03c0b4acdfdce54bfaf39d4e0448',\n",
       "  'epoch_onboarded': 36,\n",
       "  'version_onboarded': 9050655,\n",
       "  'children': []},\n",
       " '5322609dde43e08ad6da6964574941fd': {'address': '5322609dde43e08ad6da6964574941fd',\n",
       "  'operator_address': '1d641c2fd254dad8680047c4c5e42764',\n",
       "  'parent': 'b1471dc5764695abb4cadf16e26bd4c7',\n",
       "  'epoch_onboarded': 24,\n",
       "  'version_onboarded': 6006235,\n",
       "  'children': []},\n",
       " '50040b551a28645e5c684a646db8e646': {'address': '50040b551a28645e5c684a646db8e646',\n",
       "  'operator_address': 'ae4582dda8cc5601d6c81b4a27a46b58',\n",
       "  'parent': 'd67f3ff22bd719eb5be2df6577c9b42d',\n",
       "  'epoch_onboarded': 20,\n",
       "  'version_onboarded': 4960325,\n",
       "  'children': [{'address': 'ec96dec1be938e14dc148be9bc5ed7f3',\n",
       "    'operator_address': 'abe72a40a1ad44aca90427bbcd6cdf77',\n",
       "    'parent': '50040b551a28645e5c684a646db8e646',\n",
       "    'epoch_onboarded': 38,\n",
       "    'version_onboarded': 9495043}]},\n",
       " 'b5b5ba58b8e9916fe449d1f989383834': {'address': 'b5b5ba58b8e9916fe449d1f989383834',\n",
       "  'operator_address': '8ab6489146a5ebc6890dd532bc249545',\n",
       "  'parent': '8421cb22e56f687395f5973bbf0cbdfb',\n",
       "  'epoch_onboarded': 18,\n",
       "  'version_onboarded': 4336088,\n",
       "  'children': []},\n",
       " 'b295da228c6808199d92dc813975755c': {'address': 'b295da228c6808199d92dc813975755c',\n",
       "  'operator_address': '4ba0442bef452b7f68cdc83d5b7c3c8f',\n",
       "  'parent': '8421cb22e56f687395f5973bbf0cbdfb',\n",
       "  'epoch_onboarded': 35,\n",
       "  'version_onboarded': 8908782,\n",
       "  'children': []}}"
      ]
     },
     "execution_count": 22,
     "metadata": {},
     "output_type": "execute_result"
    }
   ],
   "source": [
    "gen_1_tree"
   ]
  },
  {
   "cell_type": "code",
   "execution_count": 23,
   "metadata": {},
   "outputs": [
    {
     "name": "stdout",
     "output_type": "stream",
     "text": [
      "[{'address': '97a31d6d14fc8024a34b1630e9c4f638', 'operator_address': 'f120fb81dde9db4a1f81e0d01d2936e2', 'parent': 'a6be3ad55806f2f65cd1776322aede1a', 'epoch_onboarded': 36, 'version_onboarded': 9042418}]\n",
      "[{'address': '987be6e871faeedfe255b4305b4c6d02', 'operator_address': '91185ed5a1976f2e01be08ee96e4d9d2', 'parent': '012338b54ba4625adcc313394d87819c', 'epoch_onboarded': 43, 'version_onboarded': 10541773}]\n",
      "[{'address': 'e77ddb76c9afcb3d5511e46cbc89023d', 'operator_address': '6aec566836b3c8a3d10288d90d62078b', 'parent': '355ae7b5f391782006ef88580bbeaf22', 'epoch_onboarded': 36, 'version_onboarded': 9058798}]\n",
      "[{'address': '93a91b21218aff3ceb211eb02b27cbe0', 'operator_address': '8f6ccc18d8d162f06d6e4c3b50d81c1c', 'parent': 'ea10ea06c0fdab689da9dcf78fc90f4e', 'epoch_onboarded': 35, 'version_onboarded': 8848822}]\n",
      "[{'address': '59c6262930e3ebb3398d5b88790c090c', 'operator_address': 'ca949aa34965a5984c2bffff69237216', 'parent': 'e8a1bf5e60fa00c2b792098b12fde964', 'epoch_onboarded': 38, 'version_onboarded': 9628061}]\n",
      "[{'address': '34b5d5e56ec27d954ac5d40b24d11422', 'operator_address': '443d5d5338d5979645dfc8f750c17768', 'parent': '84417cef5647097127e1bc24fd1002c6', 'epoch_onboarded': 35, 'version_onboarded': 8846607}]\n",
      "[{'address': '7756310e875636763d16f080bb236cab', 'operator_address': '23738f9e7d61505f726fe490e4a9e8ec', 'parent': '49d3c58668e4accc43b8a77a9f2835fa', 'epoch_onboarded': 38, 'version_onboarded': 9495400}]\n",
      "[{'address': 'ec96dec1be938e14dc148be9bc5ed7f3', 'operator_address': 'abe72a40a1ad44aca90427bbcd6cdf77', 'parent': '50040b551a28645e5c684a646db8e646', 'epoch_onboarded': 38, 'version_onboarded': 9495043}]\n"
     ]
    }
   ],
   "source": [
    "C_2 = nx.DiGraph()\n",
    "\n",
    "# print('Gen 1 Child Count')\n",
    "# for n, d in C.nodes(data=True):\n",
    "#     C_2.add_node(n, data=True)\n",
    "#     if \n",
    "#     # print(node)\n",
    "#     if 'children' in C.nodes[n]:\n",
    "#         print(n, '  ',len(C.nodes[n]['children']))\n",
    "#         # for child in G.nodes[node]['children']:\n",
    "#         #     C.add_node(child['address'])\n",
    "#         #     C.add_node(child['address'], epoch_onboarded= child['epoch_onboarded'])\n",
    "#         #     C.add_edge(node,child['address'])\n",
    "#             # print(child)\n",
    "#     else:\n",
    "#         print('0')\n",
    "\n",
    "for n, d in C.nodes(data=True):\n",
    "    C_2.add_node(n, data=True)\n",
    "    for keys, values in gen_1_tree.items():   \n",
    "        if n == keys and values['children']:    \n",
    "            print(values['children'])\n",
    "\n",
    "            C_2.add_node(n,data=True)\n",
    "            for child in values['children']: \n",
    "                C_2.add_node(child['address'], epoch_onboarded= child['epoch_onboarded'], generation = 2)\n",
    "                C_2.add_edge(n,child['address'])\n",
    "                "
   ]
  },
  {
   "cell_type": "code",
   "execution_count": 24,
   "metadata": {},
   "outputs": [
    {
     "name": "stdout",
     "output_type": "stream",
     "text": [
      "['bdb8ad37341cec0817fd8e2474e25031', 'e985cbb111a6e7210f1f07aa1f8a75dd', '44bffceb6ac69d098959e4f463fb7005', 'a6be3ad55806f2f65cd1776322aede1a', '97a31d6d14fc8024a34b1630e9c4f638', '9401af0f29d2afd49b8e48a0c361f661', '252f0b551c80cd9e951d82c6f70792ae', 'd340c54f3a05c06835b1401c3575b70d', '987d7486a6db70993eeab79124bc6606', 'd0d62ae27a4e84b559da089a1b15a79f', 'e57cf27b3381574151b4fcea65bda0d2', '4152478106c9080141da1a7176292b8c', '34e5addec49ded4cc638dad8cd992858', 'c051bd516ca491cdf88c0a0656a552b0', '5abedec612ea01b9f6f2eaad7187bfef', '71cd7dac2332c0200059af45818b95f8', 'e4e9fb27d7a8150162614ebdd282e195', '012338b54ba4625adcc313394d87819c', '987be6e871faeedfe255b4305b4c6d02', 'd1c9ce9308b0bdc6dc2ba6a7b5da8c2b', '355ae7b5f391782006ef88580bbeaf22', 'e77ddb76c9afcb3d5511e46cbc89023d', 'ccb020e30b1c014f45664761f0b740c7', 'ea10ea06c0fdab689da9dcf78fc90f4e', '93a91b21218aff3ceb211eb02b27cbe0', '9d0a8f2f51a2cb0d4eceeb1fd269431d', 'c0a1f4d49658cf2fe5402e10f496bb80', 'e8a1bf5e60fa00c2b792098b12fde964', '59c6262930e3ebb3398d5b88790c090c', 'e264023342b41accdbb61a190b6cb2a7', '7e56b29cb23a49368be593e5cfc9712e', '0ef85e1723530edd76f2bb13614ac5c5', '46a7a744b5d33c47f6b20766f8088b10', 'bcb79d7c813062f41b221e58b21203b4', '7ec16859c24200d8e074809d252ac740', 'aa7b724a51a8bd8e55208fef969209b3', '64b21681ce1c34854498ed92d76432a2', '84417cef5647097127e1bc24fd1002c6', '34b5d5e56ec27d954ac5d40b24d11422', '1c03e956dd7afc612e4efe240c23365d', 'ecaf65add1b785b0495e3099f4045ec0', '69a385e1744e33fbb24a42ecbd1603e3', '779fd01dfe608a4288b4b514d17da48b', '304a03c0b4acdfdce54bfaf39d4e0448', '49d3c58668e4accc43b8a77a9f2835fa', '7756310e875636763d16f080bb236cab', 'd1281de242839fc939745996882c5fc2', 'b1471dc5764695abb4cadf16e26bd4c7', '5322609dde43e08ad6da6964574941fd', 'd67f3ff22bd719eb5be2df6577c9b42d', '50040b551a28645e5c684a646db8e646', 'ec96dec1be938e14dc148be9bc5ed7f3', '8421cb22e56f687395f5973bbf0cbdfb', 'b5b5ba58b8e9916fe449d1f989383834', 'b295da228c6808199d92dc813975755c']\n"
     ]
    }
   ],
   "source": [
    "print(C_2.nodes)"
   ]
  },
  {
   "cell_type": "code",
   "execution_count": 25,
   "metadata": {},
   "outputs": [
    {
     "name": "stdout",
     "output_type": "stream",
     "text": [
      "{'epoch_onboarded': 36, 'generation': 2}\n"
     ]
    }
   ],
   "source": [
    "print(C_2.nodes['97a31d6d14fc8024a34b1630e9c4f638'])"
   ]
  },
  {
   "cell_type": "code",
   "execution_count": 26,
   "metadata": {},
   "outputs": [],
   "source": [
    "H = nx.compose(G,C)\n",
    "H_2 = nx.compose(H,C_2)"
   ]
  },
  {
   "cell_type": "code",
   "execution_count": 27,
   "metadata": {},
   "outputs": [
    {
     "name": "stdout",
     "output_type": "stream",
     "text": [
      "['bdb8ad37341cec0817fd8e2474e25031', 'e985cbb111a6e7210f1f07aa1f8a75dd', '44bffceb6ac69d098959e4f463fb7005', 'a6be3ad55806f2f65cd1776322aede1a', '9401af0f29d2afd49b8e48a0c361f661', '252f0b551c80cd9e951d82c6f70792ae', 'd340c54f3a05c06835b1401c3575b70d', '987d7486a6db70993eeab79124bc6606', 'd0d62ae27a4e84b559da089a1b15a79f', 'e57cf27b3381574151b4fcea65bda0d2', '4152478106c9080141da1a7176292b8c', '34e5addec49ded4cc638dad8cd992858', 'c051bd516ca491cdf88c0a0656a552b0', '5abedec612ea01b9f6f2eaad7187bfef', '71cd7dac2332c0200059af45818b95f8', 'e4e9fb27d7a8150162614ebdd282e195', '012338b54ba4625adcc313394d87819c', 'd1c9ce9308b0bdc6dc2ba6a7b5da8c2b', '355ae7b5f391782006ef88580bbeaf22', 'ccb020e30b1c014f45664761f0b740c7', 'ea10ea06c0fdab689da9dcf78fc90f4e', '9d0a8f2f51a2cb0d4eceeb1fd269431d', 'c0a1f4d49658cf2fe5402e10f496bb80', 'e8a1bf5e60fa00c2b792098b12fde964', 'e264023342b41accdbb61a190b6cb2a7', '7e56b29cb23a49368be593e5cfc9712e', '0ef85e1723530edd76f2bb13614ac5c5', '46a7a744b5d33c47f6b20766f8088b10', 'bcb79d7c813062f41b221e58b21203b4', '7ec16859c24200d8e074809d252ac740', 'aa7b724a51a8bd8e55208fef969209b3', '64b21681ce1c34854498ed92d76432a2', '84417cef5647097127e1bc24fd1002c6', '1c03e956dd7afc612e4efe240c23365d', 'ecaf65add1b785b0495e3099f4045ec0', '69a385e1744e33fbb24a42ecbd1603e3', '779fd01dfe608a4288b4b514d17da48b', '304a03c0b4acdfdce54bfaf39d4e0448', '49d3c58668e4accc43b8a77a9f2835fa', 'd1281de242839fc939745996882c5fc2', 'b1471dc5764695abb4cadf16e26bd4c7', '5322609dde43e08ad6da6964574941fd', 'd67f3ff22bd719eb5be2df6577c9b42d', '50040b551a28645e5c684a646db8e646', '8421cb22e56f687395f5973bbf0cbdfb', 'b5b5ba58b8e9916fe449d1f989383834', 'b295da228c6808199d92dc813975755c']\n"
     ]
    }
   ],
   "source": [
    "print(C.nodes)"
   ]
  },
  {
   "cell_type": "code",
   "execution_count": 28,
   "metadata": {},
   "outputs": [],
   "source": [
    "# for node in H:\n",
    "#     if 'children' in H.nodes[node]:\n",
    "#         for child in H.nodes[node]['children']:\n",
    "#             child_node = H.nodes[child]\n",
    "#             print(child_node)\n",
    "#             # H.add_edge(node, child_node) #child['address'], epoch_onboarded= child['epoch_onboarded'])\n",
    "#             # print('yo')"
   ]
  },
  {
   "cell_type": "code",
   "execution_count": 29,
   "metadata": {},
   "outputs": [],
   "source": [
    "def draw_net(G):\n",
    "    pos = nx.spring_layout(G)\n",
    "    nx.draw_networkx_nodes(G, pos, node_size=700)\n",
    "    nx.draw_networkx_edges(G, pos, width=4)\n",
    "    # nx.draw_networkx_labels(G, pos, font_size=10, font_family='sans-serif')\n",
    "    # plt.axis('off')\n",
    "    return plt.show()"
   ]
  },
  {
   "cell_type": "code",
   "execution_count": 30,
   "metadata": {},
   "outputs": [
    {
     "data": {
      "image/png": "[encoded data removed]",
      "text/plain": [
       "<Figure size 432x288 with 1 Axes>"
      ]
     },
     "metadata": {},
     "output_type": "display_data"
    }
   ],
   "source": [
    "nx.draw(G)"
   ]
  },
  {
   "cell_type": "code",
   "execution_count": 31,
   "metadata": {},
   "outputs": [
    {
     "data": {
      "image/png": "[encoded data removed]",
      "text/plain": [
       "<Figure size 432x288 with 1 Axes>"
      ]
     },
     "metadata": {},
     "output_type": "display_data"
    }
   ],
   "source": [
    "nx.draw(H)"
   ]
  },
  {
   "cell_type": "code",
   "execution_count": 32,
   "metadata": {},
   "outputs": [
    {
     "data": {
      "image/png": "[encoded data removed]",
      "text/plain": [
       "<Figure size 432x288 with 1 Axes>"
      ]
     },
     "metadata": {},
     "output_type": "display_data"
    }
   ],
   "source": [
    "nx.draw(C)"
   ]
  },
  {
   "cell_type": "code",
   "execution_count": 33,
   "metadata": {},
   "outputs": [],
   "source": [
    "epoch_onboarded=nx.get_node_attributes(H_2,'epoch_onboarded')"
   ]
  },
  {
   "cell_type": "code",
   "execution_count": 34,
   "metadata": {},
   "outputs": [
    {
     "name": "stdout",
     "output_type": "stream",
     "text": [
      "{'bdb8ad37341cec0817fd8e2474e25031': 0, '44bffceb6ac69d098959e4f463fb7005': 0, '252f0b551c80cd9e951d82c6f70792ae': 0, 'd0d62ae27a4e84b559da089a1b15a79f': 0, '34e5addec49ded4cc638dad8cd992858': 0, '5abedec612ea01b9f6f2eaad7187bfef': 0, 'e4e9fb27d7a8150162614ebdd282e195': 0, 'd1c9ce9308b0bdc6dc2ba6a7b5da8c2b': 0, 'ccb020e30b1c014f45664761f0b740c7': 0, 'c0a1f4d49658cf2fe5402e10f496bb80': 0, '7e56b29cb23a49368be593e5cfc9712e': 0, '46a7a744b5d33c47f6b20766f8088b10': 0, '7ec16859c24200d8e074809d252ac740': 0, '64b21681ce1c34854498ed92d76432a2': 0, 'ecaf65add1b785b0495e3099f4045ec0': 0, '304a03c0b4acdfdce54bfaf39d4e0448': 0, 'b1471dc5764695abb4cadf16e26bd4c7': 0, 'd67f3ff22bd719eb5be2df6577c9b42d': 0, '8421cb22e56f687395f5973bbf0cbdfb': 0, 'e985cbb111a6e7210f1f07aa1f8a75dd': 23, 'a6be3ad55806f2f65cd1776322aede1a': 21, '9401af0f29d2afd49b8e48a0c361f661': 41, 'd340c54f3a05c06835b1401c3575b70d': 21, '987d7486a6db70993eeab79124bc6606': 37, 'e57cf27b3381574151b4fcea65bda0d2': 20, '4152478106c9080141da1a7176292b8c': 44, 'c051bd516ca491cdf88c0a0656a552b0': 22, '71cd7dac2332c0200059af45818b95f8': 22, '012338b54ba4625adcc313394d87819c': 29, '355ae7b5f391782006ef88580bbeaf22': 21, 'ea10ea06c0fdab689da9dcf78fc90f4e': 16, '9d0a8f2f51a2cb0d4eceeb1fd269431d': 31, 'e8a1bf5e60fa00c2b792098b12fde964': 16, 'e264023342b41accdbb61a190b6cb2a7': 33, '0ef85e1723530edd76f2bb13614ac5c5': 37, 'bcb79d7c813062f41b221e58b21203b4': 22, 'aa7b724a51a8bd8e55208fef969209b3': 28, '84417cef5647097127e1bc24fd1002c6': 18, '1c03e956dd7afc612e4efe240c23365d': 35, '69a385e1744e33fbb24a42ecbd1603e3': 21, '779fd01dfe608a4288b4b514d17da48b': 44, '49d3c58668e4accc43b8a77a9f2835fa': 20, 'd1281de242839fc939745996882c5fc2': 36, '5322609dde43e08ad6da6964574941fd': 24, '50040b551a28645e5c684a646db8e646': 20, 'b5b5ba58b8e9916fe449d1f989383834': 18, 'b295da228c6808199d92dc813975755c': 35, '97a31d6d14fc8024a34b1630e9c4f638': 36, '987be6e871faeedfe255b4305b4c6d02': 43, 'e77ddb76c9afcb3d5511e46cbc89023d': 36, '93a91b21218aff3ceb211eb02b27cbe0': 35, '59c6262930e3ebb3398d5b88790c090c': 38, '34b5d5e56ec27d954ac5d40b24d11422': 35, '7756310e875636763d16f080bb236cab': 38, 'ec96dec1be938e14dc148be9bc5ed7f3': 38}\n"
     ]
    }
   ],
   "source": [
    "print(epoch_onboarded)"
   ]
  },
  {
   "cell_type": "code",
   "execution_count": 35,
   "metadata": {},
   "outputs": [
    {
     "data": {
      "image/png": "[encoded data removed]",
      "text/plain": [
       "<Figure size 576x576 with 1 Axes>"
      ]
     },
     "metadata": {},
     "output_type": "display_data"
    }
   ],
   "source": [
    "color_map = ['red' if H.nodes[node]['epoch_onboarded'] == 0 else 'green' for node in H]    \n",
    "pos = nx.nx_agraph.graphviz_layout(H, prog=\"twopi\", args=\"\")\n",
    "plt.figure(figsize=(8, 8))\n",
    "nx.draw(H, pos, node_size=40, alpha=0.5, node_color=color_map, with_labels=False)\n",
    "plt.axis(\"equal\")\n",
    "plt.title('Gen 0 (in red) to Gen 1 (in green) Validator Network')\n",
    "plt.show()"
   ]
  },
  {
   "cell_type": "code",
   "execution_count": 40,
   "metadata": {},
   "outputs": [
    {
     "name": "stdout",
     "output_type": "stream",
     "text": [
      "Number of candidate validators =  55\n"
     ]
    }
   ],
   "source": [
    "print('Number of candidate validators = ',len(H_2))"
   ]
  },
  {
   "cell_type": "code",
   "execution_count": 37,
   "metadata": {},
   "outputs": [
    {
     "data": {
      "image/png": "[encoded data removed]",
      "text/plain": [
       "<Figure size 576x576 with 1 Axes>"
      ]
     },
     "metadata": {},
     "output_type": "display_data"
    }
   ],
   "source": [
    "color_map = ['red' if H_2.nodes[node]['epoch_onboarded'] == 0 else 'green' if H_2.nodes[node]['generation'] ==1 else 'blue' for node in H_2]    \n",
    "# color_map = ['red' if H_2.nodes[node]['epoch_onboarded'] == 0 else 'blue' for node in H_2]    \n",
    "\n",
    "pos = nx.nx_agraph.graphviz_layout(H_2, prog=\"twopi\", args=\"\")\n",
    "plt.figure(figsize=(8, 8))\n",
    "nx.draw(H_2, pos, node_size=40, alpha=0.5, node_color=color_map, with_labels=False)\n",
    "plt.axis(\"equal\")\n",
    "plt.title('Gen 0 (in red) to Gen 1 (in green) and Gen 2 (in blue) Validator Network')\n",
    "plt.show()"
   ]
  },
  {
   "cell_type": "code",
   "execution_count": 42,
   "metadata": {},
   "outputs": [
    {
     "name": "stdout",
     "output_type": "stream",
     "text": [
      "Gen 0 Validators =  19\n",
      "Gen 1 Validators =  28\n",
      "Gen 2 Validators =  8\n"
     ]
    }
   ],
   "source": [
    "print('Gen 0 Validators = ', color_map.count('red'))\n",
    "print('Gen 1 Validators = ', color_map.count('green'))\n",
    "print('Gen 2 Validators = ', color_map.count('blue'))"
   ]
  }
 ],
 "metadata": {
  "interpreter": {
   "hash": "0f0121f3087aeba530c63e0db60f5171c3cec0582e3d1e3d78c528d6eb18d107"
  },
  "kernelspec": {
   "display_name": "Python 3.8.8 64-bit ('base': conda)",
   "language": "python",
   "name": "python3"
  },
  "language_info": {
   "codemirror_mode": {
    "name": "ipython",
    "version": 3
   },
   "file_extension": ".py",
   "mimetype": "text/x-python",
   "name": "python",
   "nbconvert_exporter": "python",
   "pygments_lexer": "ipython3",
   "version": "3.8.10"
  },
  "orig_nbformat": 4
 },
 "nbformat": 4,
 "nbformat_minor": 2
}
