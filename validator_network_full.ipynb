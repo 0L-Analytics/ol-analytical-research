{
 "cells": [
  {
   "cell_type": "markdown",
   "metadata": {},
   "source": [
    "## Genesis Set Permission Tree Data Collection\n",
    "### Using https://github.com/0L-Analytics/permission-tree-monitoring API for Permission Tree of Validators on 0L\n",
    "#### Credit to: https://github.com/0L-Analytics/permission-tree-monitoring/commits?author=agouin for building the API"
   ]
  },
  {
   "cell_type": "markdown",
   "metadata": {},
   "source": [
    "### Shows relationship of Genesis Set to their first generation validators"
   ]
  },
  {
   "cell_type": "code",
   "execution_count": 4,
   "metadata": {},
   "outputs": [],
   "source": [
    "import requests\n",
    "import pandas as pd\n",
    "import csv\n",
    "import json\n",
    "import networkx as nx\n",
    "import matplotlib.pyplot as plt\n",
    "import matplotlib as mpl\n",
    "\n",
    "from utils import load_addresses_list, get_permission_tree"
   ]
  },
  {
   "cell_type": "markdown",
   "metadata": {},
   "source": [
    "### Get Account addresses into a list"
   ]
  },
  {
   "cell_type": "code",
   "execution_count": 5,
   "metadata": {},
   "outputs": [
    {
     "data": {
      "text/plain": [
       "['E57CF27B3381574151B4FCEA65BDA0D2',\n",
       " 'E8A1BF5E60FA00C2B792098B12FDE964',\n",
       " 'B5B5BA58B8E9916FE449D1F989383834',\n",
       " 'EA10EA06C0FDAB689DA9DCF78FC90F4E',\n",
       " 'BDB8AD37341CEC0817FD8E2474E25031',\n",
       " '44BFFCEB6AC69D098959E4F463FB7005',\n",
       " '252F0B551C80CD9E951D82C6F70792AE',\n",
       " 'D0D62AE27A4E84B559DA089A1B15A79F',\n",
       " '34E5ADDEC49DED4CC638DAD8CD992858',\n",
       " '5ABEDEC612EA01B9F6F2EAAD7187BFEF',\n",
       " 'E4E9FB27D7A8150162614EBDD282E195',\n",
       " 'D1C9CE9308B0BDC6DC2BA6A7B5DA8C2B',\n",
       " 'CCB020E30B1C014F45664761F0B740C7',\n",
       " 'C0A1F4D49658CF2FE5402E10F496BB80',\n",
       " '7E56B29CB23A49368BE593E5CFC9712E',\n",
       " '46A7A744B5D33C47F6B20766F8088B10',\n",
       " '7EC16859C24200D8E074809D252AC740',\n",
       " '64B21681CE1C34854498ED92D76432A2',\n",
       " 'ECAF65ADD1B785B0495E3099F4045EC0',\n",
       " '304A03C0B4ACDFDCE54BFAF39D4E0448',\n",
       " 'B1471DC5764695ABB4CADF16E26BD4C7',\n",
       " 'D67F3FF22BD719EB5BE2DF6577C9B42D',\n",
       " '8421CB22E56F687395F5973BBF0CBDFB']"
      ]
     },
     "execution_count": 5,
     "metadata": {},
     "output_type": "execute_result"
    }
   ],
   "source": [
    "path = 'address.csv'\n",
    "all_addresses = load_addresses_list(path)\n",
    "all_addresses"
   ]
  },
  {
   "cell_type": "markdown",
   "metadata": {},
   "source": [
    "### Get Permission Tree for the addresses"
   ]
  },
  {
   "cell_type": "code",
   "execution_count": 6,
   "metadata": {},
   "outputs": [],
   "source": [
    "genesis_tree = get_permission_tree(all_addresses)"
   ]
  },
  {
   "cell_type": "code",
   "execution_count": 7,
   "metadata": {},
   "outputs": [
    {
     "data": {
      "text/plain": [
       "{'E57CF27B3381574151B4FCEA65BDA0D2': {'address': 'e57cf27b3381574151b4fcea65bda0d2',\n",
       "  'parent': 'd0d62ae27a4e84b559da089a1b15a79f',\n",
       "  'epoch_onboarded': 20,\n",
       "  'version_onboarded': 5021771,\n",
       "  'children': []},\n",
       " 'E8A1BF5E60FA00C2B792098B12FDE964': {'address': 'e8a1bf5e60fa00c2b792098b12fde964',\n",
       "  'parent': 'c0a1f4d49658cf2fe5402e10f496bb80',\n",
       "  'epoch_onboarded': 16,\n",
       "  'version_onboarded': 3596612,\n",
       "  'children': [{'address': '59c6262930e3ebb3398d5b88790c090c',\n",
       "    'parent': 'e8a1bf5e60fa00c2b792098b12fde964',\n",
       "    'epoch_onboarded': 38,\n",
       "    'version_onboarded': 9628061}]},\n",
       " 'B5B5BA58B8E9916FE449D1F989383834': {'address': 'b5b5ba58b8e9916fe449d1f989383834',\n",
       "  'parent': '8421cb22e56f687395f5973bbf0cbdfb',\n",
       "  'epoch_onboarded': 18,\n",
       "  'version_onboarded': 4336088,\n",
       "  'children': []},\n",
       " 'EA10EA06C0FDAB689DA9DCF78FC90F4E': {'address': 'ea10ea06c0fdab689da9dcf78fc90f4e',\n",
       "  'parent': 'ccb020e30b1c014f45664761f0b740c7',\n",
       "  'epoch_onboarded': 16,\n",
       "  'version_onboarded': 3637438,\n",
       "  'children': [{'address': '93a91b21218aff3ceb211eb02b27cbe0',\n",
       "    'parent': 'ea10ea06c0fdab689da9dcf78fc90f4e',\n",
       "    'epoch_onboarded': 35,\n",
       "    'version_onboarded': 8848822}]},\n",
       " 'BDB8AD37341CEC0817FD8E2474E25031': {'address': 'bdb8ad37341cec0817fd8e2474e25031',\n",
       "  'parent': '00000000000000000000000000000000',\n",
       "  'epoch_onboarded': 0,\n",
       "  'version_onboarded': 0,\n",
       "  'children': [{'address': 'e985cbb111a6e7210f1f07aa1f8a75dd',\n",
       "    'parent': 'bdb8ad37341cec0817fd8e2474e25031',\n",
       "    'epoch_onboarded': 23,\n",
       "    'version_onboarded': 5850341}]},\n",
       " '44BFFCEB6AC69D098959E4F463FB7005': {'address': '44bffceb6ac69d098959e4f463fb7005',\n",
       "  'parent': '00000000000000000000000000000000',\n",
       "  'epoch_onboarded': 0,\n",
       "  'version_onboarded': 0,\n",
       "  'children': [{'address': 'a6be3ad55806f2f65cd1776322aede1a',\n",
       "    'parent': '44bffceb6ac69d098959e4f463fb7005',\n",
       "    'epoch_onboarded': 21,\n",
       "    'version_onboarded': 5218882},\n",
       "   {'address': '9401af0f29d2afd49b8e48a0c361f661',\n",
       "    'parent': '44bffceb6ac69d098959e4f463fb7005',\n",
       "    'epoch_onboarded': 41,\n",
       "    'version_onboarded': 10126552}]},\n",
       " '252F0B551C80CD9E951D82C6F70792AE': {'address': '252f0b551c80cd9e951d82c6f70792ae',\n",
       "  'parent': '00000000000000000000000000000000',\n",
       "  'epoch_onboarded': 0,\n",
       "  'version_onboarded': 0,\n",
       "  'children': [{'address': 'd340c54f3a05c06835b1401c3575b70d',\n",
       "    'parent': '252f0b551c80cd9e951d82c6f70792ae',\n",
       "    'epoch_onboarded': 21,\n",
       "    'version_onboarded': 5306913},\n",
       "   {'address': '987d7486a6db70993eeab79124bc6606',\n",
       "    'parent': '252f0b551c80cd9e951d82c6f70792ae',\n",
       "    'epoch_onboarded': 37,\n",
       "    'version_onboarded': 9325961}]},\n",
       " 'D0D62AE27A4E84B559DA089A1B15A79F': {'address': 'd0d62ae27a4e84b559da089a1b15a79f',\n",
       "  'parent': '00000000000000000000000000000000',\n",
       "  'epoch_onboarded': 0,\n",
       "  'version_onboarded': 0,\n",
       "  'children': [{'address': 'e57cf27b3381574151b4fcea65bda0d2',\n",
       "    'parent': 'd0d62ae27a4e84b559da089a1b15a79f',\n",
       "    'epoch_onboarded': 20,\n",
       "    'version_onboarded': 5021771}]},\n",
       " '34E5ADDEC49DED4CC638DAD8CD992858': {'address': '34e5addec49ded4cc638dad8cd992858',\n",
       "  'parent': '00000000000000000000000000000000',\n",
       "  'epoch_onboarded': 0,\n",
       "  'version_onboarded': 0,\n",
       "  'children': [{'address': 'c051bd516ca491cdf88c0a0656a552b0',\n",
       "    'parent': '34e5addec49ded4cc638dad8cd992858',\n",
       "    'epoch_onboarded': 22,\n",
       "    'version_onboarded': 5505531}]},\n",
       " '5ABEDEC612EA01B9F6F2EAAD7187BFEF': {'address': '5abedec612ea01b9f6f2eaad7187bfef',\n",
       "  'parent': '00000000000000000000000000000000',\n",
       "  'epoch_onboarded': 0,\n",
       "  'version_onboarded': 0,\n",
       "  'children': [{'address': '71cd7dac2332c0200059af45818b95f8',\n",
       "    'parent': '5abedec612ea01b9f6f2eaad7187bfef',\n",
       "    'epoch_onboarded': 22,\n",
       "    'version_onboarded': 5592315}]},\n",
       " 'E4E9FB27D7A8150162614EBDD282E195': {'address': 'e4e9fb27d7a8150162614ebdd282e195',\n",
       "  'parent': '00000000000000000000000000000000',\n",
       "  'epoch_onboarded': 0,\n",
       "  'version_onboarded': 0,\n",
       "  'children': [{'address': '012338b54ba4625adcc313394d87819c',\n",
       "    'parent': 'e4e9fb27d7a8150162614ebdd282e195',\n",
       "    'epoch_onboarded': 29,\n",
       "    'version_onboarded': 7402709}]},\n",
       " 'D1C9CE9308B0BDC6DC2BA6A7B5DA8C2B': {'address': 'd1c9ce9308b0bdc6dc2ba6a7b5da8c2b',\n",
       "  'parent': '00000000000000000000000000000000',\n",
       "  'epoch_onboarded': 0,\n",
       "  'version_onboarded': 0,\n",
       "  'children': [{'address': '355ae7b5f391782006ef88580bbeaf22',\n",
       "    'parent': 'd1c9ce9308b0bdc6dc2ba6a7b5da8c2b',\n",
       "    'epoch_onboarded': 21,\n",
       "    'version_onboarded': 5279596}]},\n",
       " 'CCB020E30B1C014F45664761F0B740C7': {'address': 'ccb020e30b1c014f45664761f0b740c7',\n",
       "  'parent': '00000000000000000000000000000000',\n",
       "  'epoch_onboarded': 0,\n",
       "  'version_onboarded': 0,\n",
       "  'children': [{'address': 'ea10ea06c0fdab689da9dcf78fc90f4e',\n",
       "    'parent': 'ccb020e30b1c014f45664761f0b740c7',\n",
       "    'epoch_onboarded': 16,\n",
       "    'version_onboarded': 3637438},\n",
       "   {'address': '9d0a8f2f51a2cb0d4eceeb1fd269431d',\n",
       "    'parent': 'ccb020e30b1c014f45664761f0b740c7',\n",
       "    'epoch_onboarded': 31,\n",
       "    'version_onboarded': 7958699}]},\n",
       " 'C0A1F4D49658CF2FE5402E10F496BB80': {'address': 'c0a1f4d49658cf2fe5402e10f496bb80',\n",
       "  'parent': '00000000000000000000000000000000',\n",
       "  'epoch_onboarded': 0,\n",
       "  'version_onboarded': 0,\n",
       "  'children': [{'address': 'e8a1bf5e60fa00c2b792098b12fde964',\n",
       "    'parent': 'c0a1f4d49658cf2fe5402e10f496bb80',\n",
       "    'epoch_onboarded': 16,\n",
       "    'version_onboarded': 3596612},\n",
       "   {'address': 'e264023342b41accdbb61a190b6cb2a7',\n",
       "    'parent': 'c0a1f4d49658cf2fe5402e10f496bb80',\n",
       "    'epoch_onboarded': 33,\n",
       "    'version_onboarded': 8505948}]},\n",
       " '7E56B29CB23A49368BE593E5CFC9712E': {'address': '7e56b29cb23a49368be593e5cfc9712e',\n",
       "  'parent': '00000000000000000000000000000000',\n",
       "  'epoch_onboarded': 0,\n",
       "  'version_onboarded': 0,\n",
       "  'children': [{'address': '0ef85e1723530edd76f2bb13614ac5c5',\n",
       "    'parent': '7e56b29cb23a49368be593e5cfc9712e',\n",
       "    'epoch_onboarded': 37,\n",
       "    'version_onboarded': 9271787}]},\n",
       " '46A7A744B5D33C47F6B20766F8088B10': {'address': '46a7a744b5d33c47f6b20766f8088b10',\n",
       "  'parent': '00000000000000000000000000000000',\n",
       "  'epoch_onboarded': 0,\n",
       "  'version_onboarded': 0,\n",
       "  'children': [{'address': 'bcb79d7c813062f41b221e58b21203b4',\n",
       "    'parent': '46a7a744b5d33c47f6b20766f8088b10',\n",
       "    'epoch_onboarded': 22,\n",
       "    'version_onboarded': 5482926}]},\n",
       " '7EC16859C24200D8E074809D252AC740': {'address': '7ec16859c24200d8e074809d252ac740',\n",
       "  'parent': '00000000000000000000000000000000',\n",
       "  'epoch_onboarded': 0,\n",
       "  'version_onboarded': 0,\n",
       "  'children': [{'address': 'aa7b724a51a8bd8e55208fef969209b3',\n",
       "    'parent': '7ec16859c24200d8e074809d252ac740',\n",
       "    'epoch_onboarded': 28,\n",
       "    'version_onboarded': 7106562}]},\n",
       " '64B21681CE1C34854498ED92D76432A2': {'address': '64b21681ce1c34854498ed92d76432a2',\n",
       "  'parent': '00000000000000000000000000000000',\n",
       "  'epoch_onboarded': 0,\n",
       "  'version_onboarded': 0,\n",
       "  'children': [{'address': '84417cef5647097127e1bc24fd1002c6',\n",
       "    'parent': '64b21681ce1c34854498ed92d76432a2',\n",
       "    'epoch_onboarded': 18,\n",
       "    'version_onboarded': 4349485},\n",
       "   {'address': '1c03e956dd7afc612e4efe240c23365d',\n",
       "    'parent': '64b21681ce1c34854498ed92d76432a2',\n",
       "    'epoch_onboarded': 35,\n",
       "    'version_onboarded': 8818948}]},\n",
       " 'ECAF65ADD1B785B0495E3099F4045EC0': {'address': 'ecaf65add1b785b0495e3099f4045ec0',\n",
       "  'parent': '00000000000000000000000000000000',\n",
       "  'epoch_onboarded': 0,\n",
       "  'version_onboarded': 0,\n",
       "  'children': [{'address': '69a385e1744e33fbb24a42ecbd1603e3',\n",
       "    'parent': 'ecaf65add1b785b0495e3099f4045ec0',\n",
       "    'epoch_onboarded': 21,\n",
       "    'version_onboarded': 5306020}]},\n",
       " '304A03C0B4ACDFDCE54BFAF39D4E0448': {'address': '304a03c0b4acdfdce54bfaf39d4e0448',\n",
       "  'parent': '00000000000000000000000000000000',\n",
       "  'epoch_onboarded': 0,\n",
       "  'version_onboarded': 0,\n",
       "  'children': [{'address': '49d3c58668e4accc43b8a77a9f2835fa',\n",
       "    'parent': '304a03c0b4acdfdce54bfaf39d4e0448',\n",
       "    'epoch_onboarded': 20,\n",
       "    'version_onboarded': 4960009},\n",
       "   {'address': 'd1281de242839fc939745996882c5fc2',\n",
       "    'parent': '304a03c0b4acdfdce54bfaf39d4e0448',\n",
       "    'epoch_onboarded': 36,\n",
       "    'version_onboarded': 9050655}]},\n",
       " 'B1471DC5764695ABB4CADF16E26BD4C7': {'address': 'b1471dc5764695abb4cadf16e26bd4c7',\n",
       "  'parent': '00000000000000000000000000000000',\n",
       "  'epoch_onboarded': 0,\n",
       "  'version_onboarded': 0,\n",
       "  'children': [{'address': '5322609dde43e08ad6da6964574941fd',\n",
       "    'parent': 'b1471dc5764695abb4cadf16e26bd4c7',\n",
       "    'epoch_onboarded': 24,\n",
       "    'version_onboarded': 6006235}]},\n",
       " 'D67F3FF22BD719EB5BE2DF6577C9B42D': {'address': 'd67f3ff22bd719eb5be2df6577c9b42d',\n",
       "  'parent': '00000000000000000000000000000000',\n",
       "  'epoch_onboarded': 0,\n",
       "  'version_onboarded': 0,\n",
       "  'children': [{'address': '50040b551a28645e5c684a646db8e646',\n",
       "    'parent': 'd67f3ff22bd719eb5be2df6577c9b42d',\n",
       "    'epoch_onboarded': 20,\n",
       "    'version_onboarded': 4960325}]},\n",
       " '8421CB22E56F687395F5973BBF0CBDFB': {'address': '8421cb22e56f687395f5973bbf0cbdfb',\n",
       "  'parent': '00000000000000000000000000000000',\n",
       "  'epoch_onboarded': 0,\n",
       "  'version_onboarded': 0,\n",
       "  'children': [{'address': 'b5b5ba58b8e9916fe449d1f989383834',\n",
       "    'parent': '8421cb22e56f687395f5973bbf0cbdfb',\n",
       "    'epoch_onboarded': 18,\n",
       "    'version_onboarded': 4336088},\n",
       "   {'address': 'b295da228c6808199d92dc813975755c',\n",
       "    'parent': '8421cb22e56f687395f5973bbf0cbdfb',\n",
       "    'epoch_onboarded': 35,\n",
       "    'version_onboarded': 8908782}]}}"
      ]
     },
     "execution_count": 7,
     "metadata": {},
     "output_type": "execute_result"
    }
   ],
   "source": [
    "genesis_tree"
   ]
  },
  {
   "cell_type": "code",
   "execution_count": 8,
   "metadata": {},
   "outputs": [],
   "source": [
    "with open('almost_genesis.json', 'w') as outfile:\n",
    "    json.dump(genesis_tree, outfile)"
   ]
  },
  {
   "cell_type": "markdown",
   "metadata": {},
   "source": [
    "## TODO:\n",
    "\n",
    "- [ ] Create networkx object to show parent-child relationship at current epoch\n",
    "\n",
    "- [ ] Create viz to show genesis parent-child relationship change at each epoch\n",
    "\n",
    "- [ ] Would only show genesis-child, need to then query API to 2nd generation child to 3rd generation child relationship\n"
   ]
  },
  {
   "cell_type": "code",
   "execution_count": 9,
   "metadata": {},
   "outputs": [
    {
     "data": {
      "text/plain": [
       "23"
      ]
     },
     "execution_count": 9,
     "metadata": {},
     "output_type": "execute_result"
    }
   ],
   "source": [
    "len(genesis_tree)"
   ]
  },
  {
   "cell_type": "code",
   "execution_count": 10,
   "metadata": {},
   "outputs": [],
   "source": [
    "# for keys, values in genesis_tree.items():\n",
    "#     if values['children']:\n",
    "#         print('yes')\n",
    "        # genesis_only = [x for x in genesis_tree.values()['children'] != []]"
   ]
  },
  {
   "cell_type": "markdown",
   "metadata": {},
   "source": [
    "## Filter superset of addresses for genesis set only\n",
    "### Puts into a list and loses the extra address key"
   ]
  },
  {
   "cell_type": "code",
   "execution_count": 11,
   "metadata": {},
   "outputs": [],
   "source": [
    "genesis_only = [values for values in genesis_tree.values() if values['parent']=='00000000000000000000000000000000']"
   ]
  },
  {
   "cell_type": "code",
   "execution_count": 12,
   "metadata": {},
   "outputs": [
    {
     "data": {
      "text/plain": [
       "[{'address': 'bdb8ad37341cec0817fd8e2474e25031',\n",
       "  'parent': '00000000000000000000000000000000',\n",
       "  'epoch_onboarded': 0,\n",
       "  'version_onboarded': 0,\n",
       "  'children': [{'address': 'e985cbb111a6e7210f1f07aa1f8a75dd',\n",
       "    'parent': 'bdb8ad37341cec0817fd8e2474e25031',\n",
       "    'epoch_onboarded': 23,\n",
       "    'version_onboarded': 5850341}]},\n",
       " {'address': '44bffceb6ac69d098959e4f463fb7005',\n",
       "  'parent': '00000000000000000000000000000000',\n",
       "  'epoch_onboarded': 0,\n",
       "  'version_onboarded': 0,\n",
       "  'children': [{'address': 'a6be3ad55806f2f65cd1776322aede1a',\n",
       "    'parent': '44bffceb6ac69d098959e4f463fb7005',\n",
       "    'epoch_onboarded': 21,\n",
       "    'version_onboarded': 5218882},\n",
       "   {'address': '9401af0f29d2afd49b8e48a0c361f661',\n",
       "    'parent': '44bffceb6ac69d098959e4f463fb7005',\n",
       "    'epoch_onboarded': 41,\n",
       "    'version_onboarded': 10126552}]},\n",
       " {'address': '252f0b551c80cd9e951d82c6f70792ae',\n",
       "  'parent': '00000000000000000000000000000000',\n",
       "  'epoch_onboarded': 0,\n",
       "  'version_onboarded': 0,\n",
       "  'children': [{'address': 'd340c54f3a05c06835b1401c3575b70d',\n",
       "    'parent': '252f0b551c80cd9e951d82c6f70792ae',\n",
       "    'epoch_onboarded': 21,\n",
       "    'version_onboarded': 5306913},\n",
       "   {'address': '987d7486a6db70993eeab79124bc6606',\n",
       "    'parent': '252f0b551c80cd9e951d82c6f70792ae',\n",
       "    'epoch_onboarded': 37,\n",
       "    'version_onboarded': 9325961}]},\n",
       " {'address': 'd0d62ae27a4e84b559da089a1b15a79f',\n",
       "  'parent': '00000000000000000000000000000000',\n",
       "  'epoch_onboarded': 0,\n",
       "  'version_onboarded': 0,\n",
       "  'children': [{'address': 'e57cf27b3381574151b4fcea65bda0d2',\n",
       "    'parent': 'd0d62ae27a4e84b559da089a1b15a79f',\n",
       "    'epoch_onboarded': 20,\n",
       "    'version_onboarded': 5021771}]},\n",
       " {'address': '34e5addec49ded4cc638dad8cd992858',\n",
       "  'parent': '00000000000000000000000000000000',\n",
       "  'epoch_onboarded': 0,\n",
       "  'version_onboarded': 0,\n",
       "  'children': [{'address': 'c051bd516ca491cdf88c0a0656a552b0',\n",
       "    'parent': '34e5addec49ded4cc638dad8cd992858',\n",
       "    'epoch_onboarded': 22,\n",
       "    'version_onboarded': 5505531}]},\n",
       " {'address': '5abedec612ea01b9f6f2eaad7187bfef',\n",
       "  'parent': '00000000000000000000000000000000',\n",
       "  'epoch_onboarded': 0,\n",
       "  'version_onboarded': 0,\n",
       "  'children': [{'address': '71cd7dac2332c0200059af45818b95f8',\n",
       "    'parent': '5abedec612ea01b9f6f2eaad7187bfef',\n",
       "    'epoch_onboarded': 22,\n",
       "    'version_onboarded': 5592315}]},\n",
       " {'address': 'e4e9fb27d7a8150162614ebdd282e195',\n",
       "  'parent': '00000000000000000000000000000000',\n",
       "  'epoch_onboarded': 0,\n",
       "  'version_onboarded': 0,\n",
       "  'children': [{'address': '012338b54ba4625adcc313394d87819c',\n",
       "    'parent': 'e4e9fb27d7a8150162614ebdd282e195',\n",
       "    'epoch_onboarded': 29,\n",
       "    'version_onboarded': 7402709}]},\n",
       " {'address': 'd1c9ce9308b0bdc6dc2ba6a7b5da8c2b',\n",
       "  'parent': '00000000000000000000000000000000',\n",
       "  'epoch_onboarded': 0,\n",
       "  'version_onboarded': 0,\n",
       "  'children': [{'address': '355ae7b5f391782006ef88580bbeaf22',\n",
       "    'parent': 'd1c9ce9308b0bdc6dc2ba6a7b5da8c2b',\n",
       "    'epoch_onboarded': 21,\n",
       "    'version_onboarded': 5279596}]},\n",
       " {'address': 'ccb020e30b1c014f45664761f0b740c7',\n",
       "  'parent': '00000000000000000000000000000000',\n",
       "  'epoch_onboarded': 0,\n",
       "  'version_onboarded': 0,\n",
       "  'children': [{'address': 'ea10ea06c0fdab689da9dcf78fc90f4e',\n",
       "    'parent': 'ccb020e30b1c014f45664761f0b740c7',\n",
       "    'epoch_onboarded': 16,\n",
       "    'version_onboarded': 3637438},\n",
       "   {'address': '9d0a8f2f51a2cb0d4eceeb1fd269431d',\n",
       "    'parent': 'ccb020e30b1c014f45664761f0b740c7',\n",
       "    'epoch_onboarded': 31,\n",
       "    'version_onboarded': 7958699}]},\n",
       " {'address': 'c0a1f4d49658cf2fe5402e10f496bb80',\n",
       "  'parent': '00000000000000000000000000000000',\n",
       "  'epoch_onboarded': 0,\n",
       "  'version_onboarded': 0,\n",
       "  'children': [{'address': 'e8a1bf5e60fa00c2b792098b12fde964',\n",
       "    'parent': 'c0a1f4d49658cf2fe5402e10f496bb80',\n",
       "    'epoch_onboarded': 16,\n",
       "    'version_onboarded': 3596612},\n",
       "   {'address': 'e264023342b41accdbb61a190b6cb2a7',\n",
       "    'parent': 'c0a1f4d49658cf2fe5402e10f496bb80',\n",
       "    'epoch_onboarded': 33,\n",
       "    'version_onboarded': 8505948}]},\n",
       " {'address': '7e56b29cb23a49368be593e5cfc9712e',\n",
       "  'parent': '00000000000000000000000000000000',\n",
       "  'epoch_onboarded': 0,\n",
       "  'version_onboarded': 0,\n",
       "  'children': [{'address': '0ef85e1723530edd76f2bb13614ac5c5',\n",
       "    'parent': '7e56b29cb23a49368be593e5cfc9712e',\n",
       "    'epoch_onboarded': 37,\n",
       "    'version_onboarded': 9271787}]},\n",
       " {'address': '46a7a744b5d33c47f6b20766f8088b10',\n",
       "  'parent': '00000000000000000000000000000000',\n",
       "  'epoch_onboarded': 0,\n",
       "  'version_onboarded': 0,\n",
       "  'children': [{'address': 'bcb79d7c813062f41b221e58b21203b4',\n",
       "    'parent': '46a7a744b5d33c47f6b20766f8088b10',\n",
       "    'epoch_onboarded': 22,\n",
       "    'version_onboarded': 5482926}]},\n",
       " {'address': '7ec16859c24200d8e074809d252ac740',\n",
       "  'parent': '00000000000000000000000000000000',\n",
       "  'epoch_onboarded': 0,\n",
       "  'version_onboarded': 0,\n",
       "  'children': [{'address': 'aa7b724a51a8bd8e55208fef969209b3',\n",
       "    'parent': '7ec16859c24200d8e074809d252ac740',\n",
       "    'epoch_onboarded': 28,\n",
       "    'version_onboarded': 7106562}]},\n",
       " {'address': '64b21681ce1c34854498ed92d76432a2',\n",
       "  'parent': '00000000000000000000000000000000',\n",
       "  'epoch_onboarded': 0,\n",
       "  'version_onboarded': 0,\n",
       "  'children': [{'address': '84417cef5647097127e1bc24fd1002c6',\n",
       "    'parent': '64b21681ce1c34854498ed92d76432a2',\n",
       "    'epoch_onboarded': 18,\n",
       "    'version_onboarded': 4349485},\n",
       "   {'address': '1c03e956dd7afc612e4efe240c23365d',\n",
       "    'parent': '64b21681ce1c34854498ed92d76432a2',\n",
       "    'epoch_onboarded': 35,\n",
       "    'version_onboarded': 8818948}]},\n",
       " {'address': 'ecaf65add1b785b0495e3099f4045ec0',\n",
       "  'parent': '00000000000000000000000000000000',\n",
       "  'epoch_onboarded': 0,\n",
       "  'version_onboarded': 0,\n",
       "  'children': [{'address': '69a385e1744e33fbb24a42ecbd1603e3',\n",
       "    'parent': 'ecaf65add1b785b0495e3099f4045ec0',\n",
       "    'epoch_onboarded': 21,\n",
       "    'version_onboarded': 5306020}]},\n",
       " {'address': '304a03c0b4acdfdce54bfaf39d4e0448',\n",
       "  'parent': '00000000000000000000000000000000',\n",
       "  'epoch_onboarded': 0,\n",
       "  'version_onboarded': 0,\n",
       "  'children': [{'address': '49d3c58668e4accc43b8a77a9f2835fa',\n",
       "    'parent': '304a03c0b4acdfdce54bfaf39d4e0448',\n",
       "    'epoch_onboarded': 20,\n",
       "    'version_onboarded': 4960009},\n",
       "   {'address': 'd1281de242839fc939745996882c5fc2',\n",
       "    'parent': '304a03c0b4acdfdce54bfaf39d4e0448',\n",
       "    'epoch_onboarded': 36,\n",
       "    'version_onboarded': 9050655}]},\n",
       " {'address': 'b1471dc5764695abb4cadf16e26bd4c7',\n",
       "  'parent': '00000000000000000000000000000000',\n",
       "  'epoch_onboarded': 0,\n",
       "  'version_onboarded': 0,\n",
       "  'children': [{'address': '5322609dde43e08ad6da6964574941fd',\n",
       "    'parent': 'b1471dc5764695abb4cadf16e26bd4c7',\n",
       "    'epoch_onboarded': 24,\n",
       "    'version_onboarded': 6006235}]},\n",
       " {'address': 'd67f3ff22bd719eb5be2df6577c9b42d',\n",
       "  'parent': '00000000000000000000000000000000',\n",
       "  'epoch_onboarded': 0,\n",
       "  'version_onboarded': 0,\n",
       "  'children': [{'address': '50040b551a28645e5c684a646db8e646',\n",
       "    'parent': 'd67f3ff22bd719eb5be2df6577c9b42d',\n",
       "    'epoch_onboarded': 20,\n",
       "    'version_onboarded': 4960325}]},\n",
       " {'address': '8421cb22e56f687395f5973bbf0cbdfb',\n",
       "  'parent': '00000000000000000000000000000000',\n",
       "  'epoch_onboarded': 0,\n",
       "  'version_onboarded': 0,\n",
       "  'children': [{'address': 'b5b5ba58b8e9916fe449d1f989383834',\n",
       "    'parent': '8421cb22e56f687395f5973bbf0cbdfb',\n",
       "    'epoch_onboarded': 18,\n",
       "    'version_onboarded': 4336088},\n",
       "   {'address': 'b295da228c6808199d92dc813975755c',\n",
       "    'parent': '8421cb22e56f687395f5973bbf0cbdfb',\n",
       "    'epoch_onboarded': 35,\n",
       "    'version_onboarded': 8908782}]}]"
      ]
     },
     "execution_count": 12,
     "metadata": {},
     "output_type": "execute_result"
    }
   ],
   "source": [
    "genesis_only"
   ]
  },
  {
   "cell_type": "code",
   "execution_count": 13,
   "metadata": {},
   "outputs": [],
   "source": [
    "with open('genesis_only.json', 'w') as outfile:\n",
    "    json.dump(genesis_only, outfile)"
   ]
  },
  {
   "cell_type": "code",
   "execution_count": 14,
   "metadata": {},
   "outputs": [
    {
     "data": {
      "text/plain": [
       "19"
      ]
     },
     "execution_count": 14,
     "metadata": {},
     "output_type": "execute_result"
    }
   ],
   "source": [
    "len(genesis_only)"
   ]
  },
  {
   "cell_type": "markdown",
   "metadata": {},
   "source": [
    "### Puts into a list and but preserves the extra address key"
   ]
  },
  {
   "cell_type": "code",
   "execution_count": 15,
   "metadata": {},
   "outputs": [],
   "source": [
    "genesis_only_key = [[keys, values] for [keys,values] in genesis_tree.items() if values['parent']=='00000000000000000000000000000000']"
   ]
  },
  {
   "cell_type": "code",
   "execution_count": 16,
   "metadata": {},
   "outputs": [
    {
     "data": {
      "text/plain": [
       "[['BDB8AD37341CEC0817FD8E2474E25031',\n",
       "  {'address': 'bdb8ad37341cec0817fd8e2474e25031',\n",
       "   'parent': '00000000000000000000000000000000',\n",
       "   'epoch_onboarded': 0,\n",
       "   'version_onboarded': 0,\n",
       "   'children': [{'address': 'e985cbb111a6e7210f1f07aa1f8a75dd',\n",
       "     'parent': 'bdb8ad37341cec0817fd8e2474e25031',\n",
       "     'epoch_onboarded': 23,\n",
       "     'version_onboarded': 5850341}]}],\n",
       " ['44BFFCEB6AC69D098959E4F463FB7005',\n",
       "  {'address': '44bffceb6ac69d098959e4f463fb7005',\n",
       "   'parent': '00000000000000000000000000000000',\n",
       "   'epoch_onboarded': 0,\n",
       "   'version_onboarded': 0,\n",
       "   'children': [{'address': 'a6be3ad55806f2f65cd1776322aede1a',\n",
       "     'parent': '44bffceb6ac69d098959e4f463fb7005',\n",
       "     'epoch_onboarded': 21,\n",
       "     'version_onboarded': 5218882},\n",
       "    {'address': '9401af0f29d2afd49b8e48a0c361f661',\n",
       "     'parent': '44bffceb6ac69d098959e4f463fb7005',\n",
       "     'epoch_onboarded': 41,\n",
       "     'version_onboarded': 10126552}]}],\n",
       " ['252F0B551C80CD9E951D82C6F70792AE',\n",
       "  {'address': '252f0b551c80cd9e951d82c6f70792ae',\n",
       "   'parent': '00000000000000000000000000000000',\n",
       "   'epoch_onboarded': 0,\n",
       "   'version_onboarded': 0,\n",
       "   'children': [{'address': 'd340c54f3a05c06835b1401c3575b70d',\n",
       "     'parent': '252f0b551c80cd9e951d82c6f70792ae',\n",
       "     'epoch_onboarded': 21,\n",
       "     'version_onboarded': 5306913},\n",
       "    {'address': '987d7486a6db70993eeab79124bc6606',\n",
       "     'parent': '252f0b551c80cd9e951d82c6f70792ae',\n",
       "     'epoch_onboarded': 37,\n",
       "     'version_onboarded': 9325961}]}],\n",
       " ['D0D62AE27A4E84B559DA089A1B15A79F',\n",
       "  {'address': 'd0d62ae27a4e84b559da089a1b15a79f',\n",
       "   'parent': '00000000000000000000000000000000',\n",
       "   'epoch_onboarded': 0,\n",
       "   'version_onboarded': 0,\n",
       "   'children': [{'address': 'e57cf27b3381574151b4fcea65bda0d2',\n",
       "     'parent': 'd0d62ae27a4e84b559da089a1b15a79f',\n",
       "     'epoch_onboarded': 20,\n",
       "     'version_onboarded': 5021771}]}],\n",
       " ['34E5ADDEC49DED4CC638DAD8CD992858',\n",
       "  {'address': '34e5addec49ded4cc638dad8cd992858',\n",
       "   'parent': '00000000000000000000000000000000',\n",
       "   'epoch_onboarded': 0,\n",
       "   'version_onboarded': 0,\n",
       "   'children': [{'address': 'c051bd516ca491cdf88c0a0656a552b0',\n",
       "     'parent': '34e5addec49ded4cc638dad8cd992858',\n",
       "     'epoch_onboarded': 22,\n",
       "     'version_onboarded': 5505531}]}],\n",
       " ['5ABEDEC612EA01B9F6F2EAAD7187BFEF',\n",
       "  {'address': '5abedec612ea01b9f6f2eaad7187bfef',\n",
       "   'parent': '00000000000000000000000000000000',\n",
       "   'epoch_onboarded': 0,\n",
       "   'version_onboarded': 0,\n",
       "   'children': [{'address': '71cd7dac2332c0200059af45818b95f8',\n",
       "     'parent': '5abedec612ea01b9f6f2eaad7187bfef',\n",
       "     'epoch_onboarded': 22,\n",
       "     'version_onboarded': 5592315}]}],\n",
       " ['E4E9FB27D7A8150162614EBDD282E195',\n",
       "  {'address': 'e4e9fb27d7a8150162614ebdd282e195',\n",
       "   'parent': '00000000000000000000000000000000',\n",
       "   'epoch_onboarded': 0,\n",
       "   'version_onboarded': 0,\n",
       "   'children': [{'address': '012338b54ba4625adcc313394d87819c',\n",
       "     'parent': 'e4e9fb27d7a8150162614ebdd282e195',\n",
       "     'epoch_onboarded': 29,\n",
       "     'version_onboarded': 7402709}]}],\n",
       " ['D1C9CE9308B0BDC6DC2BA6A7B5DA8C2B',\n",
       "  {'address': 'd1c9ce9308b0bdc6dc2ba6a7b5da8c2b',\n",
       "   'parent': '00000000000000000000000000000000',\n",
       "   'epoch_onboarded': 0,\n",
       "   'version_onboarded': 0,\n",
       "   'children': [{'address': '355ae7b5f391782006ef88580bbeaf22',\n",
       "     'parent': 'd1c9ce9308b0bdc6dc2ba6a7b5da8c2b',\n",
       "     'epoch_onboarded': 21,\n",
       "     'version_onboarded': 5279596}]}],\n",
       " ['CCB020E30B1C014F45664761F0B740C7',\n",
       "  {'address': 'ccb020e30b1c014f45664761f0b740c7',\n",
       "   'parent': '00000000000000000000000000000000',\n",
       "   'epoch_onboarded': 0,\n",
       "   'version_onboarded': 0,\n",
       "   'children': [{'address': 'ea10ea06c0fdab689da9dcf78fc90f4e',\n",
       "     'parent': 'ccb020e30b1c014f45664761f0b740c7',\n",
       "     'epoch_onboarded': 16,\n",
       "     'version_onboarded': 3637438},\n",
       "    {'address': '9d0a8f2f51a2cb0d4eceeb1fd269431d',\n",
       "     'parent': 'ccb020e30b1c014f45664761f0b740c7',\n",
       "     'epoch_onboarded': 31,\n",
       "     'version_onboarded': 7958699}]}],\n",
       " ['C0A1F4D49658CF2FE5402E10F496BB80',\n",
       "  {'address': 'c0a1f4d49658cf2fe5402e10f496bb80',\n",
       "   'parent': '00000000000000000000000000000000',\n",
       "   'epoch_onboarded': 0,\n",
       "   'version_onboarded': 0,\n",
       "   'children': [{'address': 'e8a1bf5e60fa00c2b792098b12fde964',\n",
       "     'parent': 'c0a1f4d49658cf2fe5402e10f496bb80',\n",
       "     'epoch_onboarded': 16,\n",
       "     'version_onboarded': 3596612},\n",
       "    {'address': 'e264023342b41accdbb61a190b6cb2a7',\n",
       "     'parent': 'c0a1f4d49658cf2fe5402e10f496bb80',\n",
       "     'epoch_onboarded': 33,\n",
       "     'version_onboarded': 8505948}]}],\n",
       " ['7E56B29CB23A49368BE593E5CFC9712E',\n",
       "  {'address': '7e56b29cb23a49368be593e5cfc9712e',\n",
       "   'parent': '00000000000000000000000000000000',\n",
       "   'epoch_onboarded': 0,\n",
       "   'version_onboarded': 0,\n",
       "   'children': [{'address': '0ef85e1723530edd76f2bb13614ac5c5',\n",
       "     'parent': '7e56b29cb23a49368be593e5cfc9712e',\n",
       "     'epoch_onboarded': 37,\n",
       "     'version_onboarded': 9271787}]}],\n",
       " ['46A7A744B5D33C47F6B20766F8088B10',\n",
       "  {'address': '46a7a744b5d33c47f6b20766f8088b10',\n",
       "   'parent': '00000000000000000000000000000000',\n",
       "   'epoch_onboarded': 0,\n",
       "   'version_onboarded': 0,\n",
       "   'children': [{'address': 'bcb79d7c813062f41b221e58b21203b4',\n",
       "     'parent': '46a7a744b5d33c47f6b20766f8088b10',\n",
       "     'epoch_onboarded': 22,\n",
       "     'version_onboarded': 5482926}]}],\n",
       " ['7EC16859C24200D8E074809D252AC740',\n",
       "  {'address': '7ec16859c24200d8e074809d252ac740',\n",
       "   'parent': '00000000000000000000000000000000',\n",
       "   'epoch_onboarded': 0,\n",
       "   'version_onboarded': 0,\n",
       "   'children': [{'address': 'aa7b724a51a8bd8e55208fef969209b3',\n",
       "     'parent': '7ec16859c24200d8e074809d252ac740',\n",
       "     'epoch_onboarded': 28,\n",
       "     'version_onboarded': 7106562}]}],\n",
       " ['64B21681CE1C34854498ED92D76432A2',\n",
       "  {'address': '64b21681ce1c34854498ed92d76432a2',\n",
       "   'parent': '00000000000000000000000000000000',\n",
       "   'epoch_onboarded': 0,\n",
       "   'version_onboarded': 0,\n",
       "   'children': [{'address': '84417cef5647097127e1bc24fd1002c6',\n",
       "     'parent': '64b21681ce1c34854498ed92d76432a2',\n",
       "     'epoch_onboarded': 18,\n",
       "     'version_onboarded': 4349485},\n",
       "    {'address': '1c03e956dd7afc612e4efe240c23365d',\n",
       "     'parent': '64b21681ce1c34854498ed92d76432a2',\n",
       "     'epoch_onboarded': 35,\n",
       "     'version_onboarded': 8818948}]}],\n",
       " ['ECAF65ADD1B785B0495E3099F4045EC0',\n",
       "  {'address': 'ecaf65add1b785b0495e3099f4045ec0',\n",
       "   'parent': '00000000000000000000000000000000',\n",
       "   'epoch_onboarded': 0,\n",
       "   'version_onboarded': 0,\n",
       "   'children': [{'address': '69a385e1744e33fbb24a42ecbd1603e3',\n",
       "     'parent': 'ecaf65add1b785b0495e3099f4045ec0',\n",
       "     'epoch_onboarded': 21,\n",
       "     'version_onboarded': 5306020}]}],\n",
       " ['304A03C0B4ACDFDCE54BFAF39D4E0448',\n",
       "  {'address': '304a03c0b4acdfdce54bfaf39d4e0448',\n",
       "   'parent': '00000000000000000000000000000000',\n",
       "   'epoch_onboarded': 0,\n",
       "   'version_onboarded': 0,\n",
       "   'children': [{'address': '49d3c58668e4accc43b8a77a9f2835fa',\n",
       "     'parent': '304a03c0b4acdfdce54bfaf39d4e0448',\n",
       "     'epoch_onboarded': 20,\n",
       "     'version_onboarded': 4960009},\n",
       "    {'address': 'd1281de242839fc939745996882c5fc2',\n",
       "     'parent': '304a03c0b4acdfdce54bfaf39d4e0448',\n",
       "     'epoch_onboarded': 36,\n",
       "     'version_onboarded': 9050655}]}],\n",
       " ['B1471DC5764695ABB4CADF16E26BD4C7',\n",
       "  {'address': 'b1471dc5764695abb4cadf16e26bd4c7',\n",
       "   'parent': '00000000000000000000000000000000',\n",
       "   'epoch_onboarded': 0,\n",
       "   'version_onboarded': 0,\n",
       "   'children': [{'address': '5322609dde43e08ad6da6964574941fd',\n",
       "     'parent': 'b1471dc5764695abb4cadf16e26bd4c7',\n",
       "     'epoch_onboarded': 24,\n",
       "     'version_onboarded': 6006235}]}],\n",
       " ['D67F3FF22BD719EB5BE2DF6577C9B42D',\n",
       "  {'address': 'd67f3ff22bd719eb5be2df6577c9b42d',\n",
       "   'parent': '00000000000000000000000000000000',\n",
       "   'epoch_onboarded': 0,\n",
       "   'version_onboarded': 0,\n",
       "   'children': [{'address': '50040b551a28645e5c684a646db8e646',\n",
       "     'parent': 'd67f3ff22bd719eb5be2df6577c9b42d',\n",
       "     'epoch_onboarded': 20,\n",
       "     'version_onboarded': 4960325}]}],\n",
       " ['8421CB22E56F687395F5973BBF0CBDFB',\n",
       "  {'address': '8421cb22e56f687395f5973bbf0cbdfb',\n",
       "   'parent': '00000000000000000000000000000000',\n",
       "   'epoch_onboarded': 0,\n",
       "   'version_onboarded': 0,\n",
       "   'children': [{'address': 'b5b5ba58b8e9916fe449d1f989383834',\n",
       "     'parent': '8421cb22e56f687395f5973bbf0cbdfb',\n",
       "     'epoch_onboarded': 18,\n",
       "     'version_onboarded': 4336088},\n",
       "    {'address': 'b295da228c6808199d92dc813975755c',\n",
       "     'parent': '8421cb22e56f687395f5973bbf0cbdfb',\n",
       "     'epoch_onboarded': 35,\n",
       "     'version_onboarded': 8908782}]}]]"
      ]
     },
     "execution_count": 16,
     "metadata": {},
     "output_type": "execute_result"
    }
   ],
   "source": [
    "genesis_only_key"
   ]
  },
  {
   "cell_type": "code",
   "execution_count": 17,
   "metadata": {},
   "outputs": [
    {
     "data": {
      "text/plain": [
       "['BDB8AD37341CEC0817FD8E2474E25031',\n",
       " {'address': 'bdb8ad37341cec0817fd8e2474e25031',\n",
       "  'parent': '00000000000000000000000000000000',\n",
       "  'epoch_onboarded': 0,\n",
       "  'version_onboarded': 0,\n",
       "  'children': [{'address': 'e985cbb111a6e7210f1f07aa1f8a75dd',\n",
       "    'parent': 'bdb8ad37341cec0817fd8e2474e25031',\n",
       "    'epoch_onboarded': 23,\n",
       "    'version_onboarded': 5850341}]}]"
      ]
     },
     "execution_count": 17,
     "metadata": {},
     "output_type": "execute_result"
    }
   ],
   "source": [
    "genesis_only_key[0]"
   ]
  },
  {
   "cell_type": "code",
   "execution_count": 116,
   "metadata": {},
   "outputs": [],
   "source": [
    "G = nx.DiGraph()\n",
    "for node in genesis_only:\n",
    "    for keys, values in node.items():       \n",
    "        G.add_node(node['address'], children = node['children'], epoch_onboarded = 0, generation = 0) # epoch_onboarded = values['epoch_onboarded']) not true for genesis\n",
    "        # print(G)\n",
    "    \n",
    "# from_dict_of_dicts(genesis_tree)"
   ]
  },
  {
   "cell_type": "code",
   "execution_count": 19,
   "metadata": {},
   "outputs": [
    {
     "name": "stdout",
     "output_type": "stream",
     "text": [
      "{'children': [{'address': '0ef85e1723530edd76f2bb13614ac5c5', 'parent': '7e56b29cb23a49368be593e5cfc9712e', 'epoch_onboarded': 37, 'version_onboarded': 9271787}], 'epoch_onboarded': 0}\n"
     ]
    }
   ],
   "source": [
    "print(G.nodes['7e56b29cb23a49368be593e5cfc9712e'])"
   ]
  },
  {
   "cell_type": "code",
   "execution_count": 20,
   "metadata": {},
   "outputs": [
    {
     "data": {
      "text/plain": [
       "[{'address': '0ef85e1723530edd76f2bb13614ac5c5',\n",
       "  'parent': '7e56b29cb23a49368be593e5cfc9712e',\n",
       "  'epoch_onboarded': 37,\n",
       "  'version_onboarded': 9271787}]"
      ]
     },
     "execution_count": 20,
     "metadata": {},
     "output_type": "execute_result"
    }
   ],
   "source": [
    "G.nodes['7e56b29cb23a49368be593e5cfc9712e']['children']"
   ]
  },
  {
   "cell_type": "code",
   "execution_count": 21,
   "metadata": {},
   "outputs": [
    {
     "data": {
      "text/plain": [
       "[{'address': 'ea10ea06c0fdab689da9dcf78fc90f4e',\n",
       "  'parent': 'ccb020e30b1c014f45664761f0b740c7',\n",
       "  'epoch_onboarded': 16,\n",
       "  'version_onboarded': 3637438},\n",
       " {'address': '9d0a8f2f51a2cb0d4eceeb1fd269431d',\n",
       "  'parent': 'ccb020e30b1c014f45664761f0b740c7',\n",
       "  'epoch_onboarded': 31,\n",
       "  'version_onboarded': 7958699}]"
      ]
     },
     "execution_count": 21,
     "metadata": {},
     "output_type": "execute_result"
    }
   ],
   "source": [
    "G.nodes['ccb020e30b1c014f45664761f0b740c7']['children']"
   ]
  },
  {
   "cell_type": "code",
   "execution_count": 117,
   "metadata": {},
   "outputs": [
    {
     "name": "stdout",
     "output_type": "stream",
     "text": [
      "Genesis Child Count\n",
      "bdb8ad37341cec0817fd8e2474e25031    1\n",
      "44bffceb6ac69d098959e4f463fb7005    2\n",
      "252f0b551c80cd9e951d82c6f70792ae    2\n",
      "d0d62ae27a4e84b559da089a1b15a79f    1\n",
      "34e5addec49ded4cc638dad8cd992858    1\n",
      "5abedec612ea01b9f6f2eaad7187bfef    1\n",
      "e4e9fb27d7a8150162614ebdd282e195    1\n",
      "d1c9ce9308b0bdc6dc2ba6a7b5da8c2b    1\n",
      "ccb020e30b1c014f45664761f0b740c7    2\n",
      "c0a1f4d49658cf2fe5402e10f496bb80    2\n",
      "7e56b29cb23a49368be593e5cfc9712e    1\n",
      "46a7a744b5d33c47f6b20766f8088b10    1\n",
      "7ec16859c24200d8e074809d252ac740    1\n",
      "64b21681ce1c34854498ed92d76432a2    2\n",
      "ecaf65add1b785b0495e3099f4045ec0    1\n",
      "304a03c0b4acdfdce54bfaf39d4e0448    2\n",
      "b1471dc5764695abb4cadf16e26bd4c7    1\n",
      "d67f3ff22bd719eb5be2df6577c9b42d    1\n",
      "8421cb22e56f687395f5973bbf0cbdfb    2\n"
     ]
    }
   ],
   "source": [
    "C = nx.DiGraph()\n",
    "print('Genesis Child Count')\n",
    "for node in G:\n",
    "    C.add_node(node, data=True)\n",
    "    # print(node)\n",
    "    if 'children' in G.nodes[node]:\n",
    "        print(node, '  ',len(G.nodes[node]['children']))\n",
    "        for child in G.nodes[node]['children']:\n",
    "            C.add_node(child['address'])\n",
    "            C.add_node(child['address'], epoch_onboarded= child['epoch_onboarded'], generation = 1)\n",
    "            C.add_edge(node,child['address'])\n",
    "            # print(child)\n",
    "    else:\n",
    "        print('0')"
   ]
  },
  {
   "cell_type": "code",
   "execution_count": 118,
   "metadata": {},
   "outputs": [
    {
     "name": "stdout",
     "output_type": "stream",
     "text": [
      "Genesis Child Count\n",
      "bdb8ad37341cec0817fd8e2474e25031    1\n",
      "44bffceb6ac69d098959e4f463fb7005    2\n",
      "252f0b551c80cd9e951d82c6f70792ae    2\n",
      "d0d62ae27a4e84b559da089a1b15a79f    1\n",
      "34e5addec49ded4cc638dad8cd992858    1\n",
      "5abedec612ea01b9f6f2eaad7187bfef    1\n",
      "e4e9fb27d7a8150162614ebdd282e195    1\n",
      "d1c9ce9308b0bdc6dc2ba6a7b5da8c2b    1\n",
      "ccb020e30b1c014f45664761f0b740c7    2\n",
      "c0a1f4d49658cf2fe5402e10f496bb80    2\n",
      "7e56b29cb23a49368be593e5cfc9712e    1\n",
      "46a7a744b5d33c47f6b20766f8088b10    1\n",
      "7ec16859c24200d8e074809d252ac740    1\n",
      "64b21681ce1c34854498ed92d76432a2    2\n",
      "ecaf65add1b785b0495e3099f4045ec0    1\n",
      "304a03c0b4acdfdce54bfaf39d4e0448    2\n",
      "b1471dc5764695abb4cadf16e26bd4c7    1\n",
      "d67f3ff22bd719eb5be2df6577c9b42d    1\n",
      "8421cb22e56f687395f5973bbf0cbdfb    2\n"
     ]
    }
   ],
   "source": [
    "C = nx.DiGraph()\n",
    "print('Genesis Child Count')\n",
    "\n",
    "gen1_list = []\n",
    "for node,d in G.nodes(data=True):\n",
    "    C.add_node(node, data=True)\n",
    "    # print(node)\n",
    "    if 'children' in G.nodes[node]:\n",
    "        print(node, '  ',len(G.nodes[node]['children']))\n",
    "        for child in G.nodes[node]['children']:\n",
    "            # C.add_node(child['address'])\n",
    "            C.add_node(child['address'], epoch_onboarded= child['epoch_onboarded'], generation = 1)\n",
    "            C.add_edge(node,child['address'])\n",
    "\n",
    "            gen1_list.append(child['address'])\n",
    "            # print(child)\n",
    "    else:\n",
    "        print('0')"
   ]
  },
  {
   "cell_type": "code",
   "execution_count": 69,
   "metadata": {},
   "outputs": [],
   "source": [
    "gen_1_tree = get_permission_tree(gen1_list)"
   ]
  },
  {
   "cell_type": "code",
   "execution_count": 70,
   "metadata": {},
   "outputs": [
    {
     "data": {
      "text/plain": [
       "{'e985cbb111a6e7210f1f07aa1f8a75dd': {'address': 'e985cbb111a6e7210f1f07aa1f8a75dd',\n",
       "  'parent': 'bdb8ad37341cec0817fd8e2474e25031',\n",
       "  'epoch_onboarded': 23,\n",
       "  'version_onboarded': 5850341,\n",
       "  'children': []},\n",
       " 'a6be3ad55806f2f65cd1776322aede1a': {'address': 'a6be3ad55806f2f65cd1776322aede1a',\n",
       "  'parent': '44bffceb6ac69d098959e4f463fb7005',\n",
       "  'epoch_onboarded': 21,\n",
       "  'version_onboarded': 5218882,\n",
       "  'children': [{'address': '97a31d6d14fc8024a34b1630e9c4f638',\n",
       "    'parent': 'a6be3ad55806f2f65cd1776322aede1a',\n",
       "    'epoch_onboarded': 36,\n",
       "    'version_onboarded': 9042418}]},\n",
       " '9401af0f29d2afd49b8e48a0c361f661': {'address': '9401af0f29d2afd49b8e48a0c361f661',\n",
       "  'parent': '44bffceb6ac69d098959e4f463fb7005',\n",
       "  'epoch_onboarded': 41,\n",
       "  'version_onboarded': 10126552,\n",
       "  'children': []},\n",
       " 'd340c54f3a05c06835b1401c3575b70d': {'address': 'd340c54f3a05c06835b1401c3575b70d',\n",
       "  'parent': '252f0b551c80cd9e951d82c6f70792ae',\n",
       "  'epoch_onboarded': 21,\n",
       "  'version_onboarded': 5306913,\n",
       "  'children': []},\n",
       " '987d7486a6db70993eeab79124bc6606': {'address': '987d7486a6db70993eeab79124bc6606',\n",
       "  'parent': '252f0b551c80cd9e951d82c6f70792ae',\n",
       "  'epoch_onboarded': 37,\n",
       "  'version_onboarded': 9325961,\n",
       "  'children': []},\n",
       " 'e57cf27b3381574151b4fcea65bda0d2': {'address': 'e57cf27b3381574151b4fcea65bda0d2',\n",
       "  'parent': 'd0d62ae27a4e84b559da089a1b15a79f',\n",
       "  'epoch_onboarded': 20,\n",
       "  'version_onboarded': 5021771,\n",
       "  'children': []},\n",
       " 'c051bd516ca491cdf88c0a0656a552b0': {'address': 'c051bd516ca491cdf88c0a0656a552b0',\n",
       "  'parent': '34e5addec49ded4cc638dad8cd992858',\n",
       "  'epoch_onboarded': 22,\n",
       "  'version_onboarded': 5505531,\n",
       "  'children': []},\n",
       " '71cd7dac2332c0200059af45818b95f8': {'address': '71cd7dac2332c0200059af45818b95f8',\n",
       "  'parent': '5abedec612ea01b9f6f2eaad7187bfef',\n",
       "  'epoch_onboarded': 22,\n",
       "  'version_onboarded': 5592315,\n",
       "  'children': []},\n",
       " '012338b54ba4625adcc313394d87819c': {'address': '012338b54ba4625adcc313394d87819c',\n",
       "  'parent': 'e4e9fb27d7a8150162614ebdd282e195',\n",
       "  'epoch_onboarded': 29,\n",
       "  'version_onboarded': 7402709,\n",
       "  'children': [{'address': '987be6e871faeedfe255b4305b4c6d02',\n",
       "    'parent': '012338b54ba4625adcc313394d87819c',\n",
       "    'epoch_onboarded': 43,\n",
       "    'version_onboarded': 10541773}]},\n",
       " '355ae7b5f391782006ef88580bbeaf22': {'address': '355ae7b5f391782006ef88580bbeaf22',\n",
       "  'parent': 'd1c9ce9308b0bdc6dc2ba6a7b5da8c2b',\n",
       "  'epoch_onboarded': 21,\n",
       "  'version_onboarded': 5279596,\n",
       "  'children': [{'address': 'e77ddb76c9afcb3d5511e46cbc89023d',\n",
       "    'parent': '355ae7b5f391782006ef88580bbeaf22',\n",
       "    'epoch_onboarded': 36,\n",
       "    'version_onboarded': 9058798}]},\n",
       " 'ea10ea06c0fdab689da9dcf78fc90f4e': {'address': 'ea10ea06c0fdab689da9dcf78fc90f4e',\n",
       "  'parent': 'ccb020e30b1c014f45664761f0b740c7',\n",
       "  'epoch_onboarded': 16,\n",
       "  'version_onboarded': 3637438,\n",
       "  'children': [{'address': '93a91b21218aff3ceb211eb02b27cbe0',\n",
       "    'parent': 'ea10ea06c0fdab689da9dcf78fc90f4e',\n",
       "    'epoch_onboarded': 35,\n",
       "    'version_onboarded': 8848822}]},\n",
       " '9d0a8f2f51a2cb0d4eceeb1fd269431d': {'address': '9d0a8f2f51a2cb0d4eceeb1fd269431d',\n",
       "  'parent': 'ccb020e30b1c014f45664761f0b740c7',\n",
       "  'epoch_onboarded': 31,\n",
       "  'version_onboarded': 7958699,\n",
       "  'children': []},\n",
       " 'e8a1bf5e60fa00c2b792098b12fde964': {'address': 'e8a1bf5e60fa00c2b792098b12fde964',\n",
       "  'parent': 'c0a1f4d49658cf2fe5402e10f496bb80',\n",
       "  'epoch_onboarded': 16,\n",
       "  'version_onboarded': 3596612,\n",
       "  'children': [{'address': '59c6262930e3ebb3398d5b88790c090c',\n",
       "    'parent': 'e8a1bf5e60fa00c2b792098b12fde964',\n",
       "    'epoch_onboarded': 38,\n",
       "    'version_onboarded': 9628061}]},\n",
       " 'e264023342b41accdbb61a190b6cb2a7': {'address': 'e264023342b41accdbb61a190b6cb2a7',\n",
       "  'parent': 'c0a1f4d49658cf2fe5402e10f496bb80',\n",
       "  'epoch_onboarded': 33,\n",
       "  'version_onboarded': 8505948,\n",
       "  'children': []},\n",
       " '0ef85e1723530edd76f2bb13614ac5c5': {'address': '0ef85e1723530edd76f2bb13614ac5c5',\n",
       "  'parent': '7e56b29cb23a49368be593e5cfc9712e',\n",
       "  'epoch_onboarded': 37,\n",
       "  'version_onboarded': 9271787,\n",
       "  'children': []},\n",
       " 'bcb79d7c813062f41b221e58b21203b4': {'address': 'bcb79d7c813062f41b221e58b21203b4',\n",
       "  'parent': '46a7a744b5d33c47f6b20766f8088b10',\n",
       "  'epoch_onboarded': 22,\n",
       "  'version_onboarded': 5482926,\n",
       "  'children': []},\n",
       " 'aa7b724a51a8bd8e55208fef969209b3': {'address': 'aa7b724a51a8bd8e55208fef969209b3',\n",
       "  'parent': '7ec16859c24200d8e074809d252ac740',\n",
       "  'epoch_onboarded': 28,\n",
       "  'version_onboarded': 7106562,\n",
       "  'children': []},\n",
       " '84417cef5647097127e1bc24fd1002c6': {'address': '84417cef5647097127e1bc24fd1002c6',\n",
       "  'parent': '64b21681ce1c34854498ed92d76432a2',\n",
       "  'epoch_onboarded': 18,\n",
       "  'version_onboarded': 4349485,\n",
       "  'children': [{'address': '34b5d5e56ec27d954ac5d40b24d11422',\n",
       "    'parent': '84417cef5647097127e1bc24fd1002c6',\n",
       "    'epoch_onboarded': 35,\n",
       "    'version_onboarded': 8846607}]},\n",
       " '1c03e956dd7afc612e4efe240c23365d': {'address': '1c03e956dd7afc612e4efe240c23365d',\n",
       "  'parent': '64b21681ce1c34854498ed92d76432a2',\n",
       "  'epoch_onboarded': 35,\n",
       "  'version_onboarded': 8818948,\n",
       "  'children': []},\n",
       " '69a385e1744e33fbb24a42ecbd1603e3': {'address': '69a385e1744e33fbb24a42ecbd1603e3',\n",
       "  'parent': 'ecaf65add1b785b0495e3099f4045ec0',\n",
       "  'epoch_onboarded': 21,\n",
       "  'version_onboarded': 5306020,\n",
       "  'children': []},\n",
       " '49d3c58668e4accc43b8a77a9f2835fa': {'address': '49d3c58668e4accc43b8a77a9f2835fa',\n",
       "  'parent': '304a03c0b4acdfdce54bfaf39d4e0448',\n",
       "  'epoch_onboarded': 20,\n",
       "  'version_onboarded': 4960009,\n",
       "  'children': [{'address': '7756310e875636763d16f080bb236cab',\n",
       "    'parent': '49d3c58668e4accc43b8a77a9f2835fa',\n",
       "    'epoch_onboarded': 38,\n",
       "    'version_onboarded': 9495400}]},\n",
       " 'd1281de242839fc939745996882c5fc2': {'address': 'd1281de242839fc939745996882c5fc2',\n",
       "  'parent': '304a03c0b4acdfdce54bfaf39d4e0448',\n",
       "  'epoch_onboarded': 36,\n",
       "  'version_onboarded': 9050655,\n",
       "  'children': []},\n",
       " '5322609dde43e08ad6da6964574941fd': {'address': '5322609dde43e08ad6da6964574941fd',\n",
       "  'parent': 'b1471dc5764695abb4cadf16e26bd4c7',\n",
       "  'epoch_onboarded': 24,\n",
       "  'version_onboarded': 6006235,\n",
       "  'children': []},\n",
       " '50040b551a28645e5c684a646db8e646': {'address': '50040b551a28645e5c684a646db8e646',\n",
       "  'parent': 'd67f3ff22bd719eb5be2df6577c9b42d',\n",
       "  'epoch_onboarded': 20,\n",
       "  'version_onboarded': 4960325,\n",
       "  'children': [{'address': 'ec96dec1be938e14dc148be9bc5ed7f3',\n",
       "    'parent': '50040b551a28645e5c684a646db8e646',\n",
       "    'epoch_onboarded': 38,\n",
       "    'version_onboarded': 9495043}]},\n",
       " 'b5b5ba58b8e9916fe449d1f989383834': {'address': 'b5b5ba58b8e9916fe449d1f989383834',\n",
       "  'parent': '8421cb22e56f687395f5973bbf0cbdfb',\n",
       "  'epoch_onboarded': 18,\n",
       "  'version_onboarded': 4336088,\n",
       "  'children': []},\n",
       " 'b295da228c6808199d92dc813975755c': {'address': 'b295da228c6808199d92dc813975755c',\n",
       "  'parent': '8421cb22e56f687395f5973bbf0cbdfb',\n",
       "  'epoch_onboarded': 35,\n",
       "  'version_onboarded': 8908782,\n",
       "  'children': []}}"
      ]
     },
     "execution_count": 70,
     "metadata": {},
     "output_type": "execute_result"
    }
   ],
   "source": [
    "gen_1_tree"
   ]
  },
  {
   "cell_type": "code",
   "execution_count": 119,
   "metadata": {},
   "outputs": [
    {
     "name": "stdout",
     "output_type": "stream",
     "text": [
      "[{'address': '97a31d6d14fc8024a34b1630e9c4f638', 'parent': 'a6be3ad55806f2f65cd1776322aede1a', 'epoch_onboarded': 36, 'version_onboarded': 9042418}]\n",
      "[{'address': '987be6e871faeedfe255b4305b4c6d02', 'parent': '012338b54ba4625adcc313394d87819c', 'epoch_onboarded': 43, 'version_onboarded': 10541773}]\n",
      "[{'address': 'e77ddb76c9afcb3d5511e46cbc89023d', 'parent': '355ae7b5f391782006ef88580bbeaf22', 'epoch_onboarded': 36, 'version_onboarded': 9058798}]\n",
      "[{'address': '93a91b21218aff3ceb211eb02b27cbe0', 'parent': 'ea10ea06c0fdab689da9dcf78fc90f4e', 'epoch_onboarded': 35, 'version_onboarded': 8848822}]\n",
      "[{'address': '59c6262930e3ebb3398d5b88790c090c', 'parent': 'e8a1bf5e60fa00c2b792098b12fde964', 'epoch_onboarded': 38, 'version_onboarded': 9628061}]\n",
      "[{'address': '34b5d5e56ec27d954ac5d40b24d11422', 'parent': '84417cef5647097127e1bc24fd1002c6', 'epoch_onboarded': 35, 'version_onboarded': 8846607}]\n",
      "[{'address': '7756310e875636763d16f080bb236cab', 'parent': '49d3c58668e4accc43b8a77a9f2835fa', 'epoch_onboarded': 38, 'version_onboarded': 9495400}]\n",
      "[{'address': 'ec96dec1be938e14dc148be9bc5ed7f3', 'parent': '50040b551a28645e5c684a646db8e646', 'epoch_onboarded': 38, 'version_onboarded': 9495043}]\n"
     ]
    }
   ],
   "source": [
    "C_2 = nx.DiGraph()\n",
    "\n",
    "# print('Gen 1 Child Count')\n",
    "# for n, d in C.nodes(data=True):\n",
    "#     C_2.add_node(n, data=True)\n",
    "#     if \n",
    "#     # print(node)\n",
    "#     if 'children' in C.nodes[n]:\n",
    "#         print(n, '  ',len(C.nodes[n]['children']))\n",
    "#         # for child in G.nodes[node]['children']:\n",
    "#         #     C.add_node(child['address'])\n",
    "#         #     C.add_node(child['address'], epoch_onboarded= child['epoch_onboarded'])\n",
    "#         #     C.add_edge(node,child['address'])\n",
    "#             # print(child)\n",
    "#     else:\n",
    "#         print('0')\n",
    "\n",
    "for n, d in C.nodes(data=True):\n",
    "    C_2.add_node(n, data=True)\n",
    "    for keys, values in gen_1_tree.items():   \n",
    "        if n == keys and values['children']:    \n",
    "            print(values['children'])\n",
    "\n",
    "            C_2.add_node(n,data=True)\n",
    "            for child in values['children']: \n",
    "                C_2.add_node(child['address'], epoch_onboarded= child['epoch_onboarded'], generation = 2)\n",
    "                C_2.add_edge(n,child['address'])\n",
    "                "
   ]
  },
  {
   "cell_type": "code",
   "execution_count": 94,
   "metadata": {},
   "outputs": [
    {
     "name": "stdout",
     "output_type": "stream",
     "text": [
      "['bdb8ad37341cec0817fd8e2474e25031', 'e985cbb111a6e7210f1f07aa1f8a75dd', '44bffceb6ac69d098959e4f463fb7005', 'a6be3ad55806f2f65cd1776322aede1a', '97a31d6d14fc8024a34b1630e9c4f638', '9401af0f29d2afd49b8e48a0c361f661', '252f0b551c80cd9e951d82c6f70792ae', 'd340c54f3a05c06835b1401c3575b70d', '987d7486a6db70993eeab79124bc6606', 'd0d62ae27a4e84b559da089a1b15a79f', 'e57cf27b3381574151b4fcea65bda0d2', '34e5addec49ded4cc638dad8cd992858', 'c051bd516ca491cdf88c0a0656a552b0', '5abedec612ea01b9f6f2eaad7187bfef', '71cd7dac2332c0200059af45818b95f8', 'e4e9fb27d7a8150162614ebdd282e195', '012338b54ba4625adcc313394d87819c', '987be6e871faeedfe255b4305b4c6d02', 'd1c9ce9308b0bdc6dc2ba6a7b5da8c2b', '355ae7b5f391782006ef88580bbeaf22', 'e77ddb76c9afcb3d5511e46cbc89023d', 'ccb020e30b1c014f45664761f0b740c7', 'ea10ea06c0fdab689da9dcf78fc90f4e', '93a91b21218aff3ceb211eb02b27cbe0', '9d0a8f2f51a2cb0d4eceeb1fd269431d', 'c0a1f4d49658cf2fe5402e10f496bb80', 'e8a1bf5e60fa00c2b792098b12fde964', '59c6262930e3ebb3398d5b88790c090c', 'e264023342b41accdbb61a190b6cb2a7', '7e56b29cb23a49368be593e5cfc9712e', '0ef85e1723530edd76f2bb13614ac5c5', '46a7a744b5d33c47f6b20766f8088b10', 'bcb79d7c813062f41b221e58b21203b4', '7ec16859c24200d8e074809d252ac740', 'aa7b724a51a8bd8e55208fef969209b3', '64b21681ce1c34854498ed92d76432a2', '84417cef5647097127e1bc24fd1002c6', '34b5d5e56ec27d954ac5d40b24d11422', '1c03e956dd7afc612e4efe240c23365d', 'ecaf65add1b785b0495e3099f4045ec0', '69a385e1744e33fbb24a42ecbd1603e3', '304a03c0b4acdfdce54bfaf39d4e0448', '49d3c58668e4accc43b8a77a9f2835fa', '7756310e875636763d16f080bb236cab', 'd1281de242839fc939745996882c5fc2', 'b1471dc5764695abb4cadf16e26bd4c7', '5322609dde43e08ad6da6964574941fd', 'd67f3ff22bd719eb5be2df6577c9b42d', '50040b551a28645e5c684a646db8e646', 'ec96dec1be938e14dc148be9bc5ed7f3', '8421cb22e56f687395f5973bbf0cbdfb', 'b5b5ba58b8e9916fe449d1f989383834', 'b295da228c6808199d92dc813975755c']\n"
     ]
    }
   ],
   "source": [
    "print(C_2.nodes)"
   ]
  },
  {
   "cell_type": "code",
   "execution_count": 123,
   "metadata": {},
   "outputs": [
    {
     "name": "stdout",
     "output_type": "stream",
     "text": [
      "{'epoch_onboarded': 36, 'generation': 2}\n"
     ]
    }
   ],
   "source": [
    "print(C_2.nodes['97a31d6d14fc8024a34b1630e9c4f638'])"
   ]
  },
  {
   "cell_type": "code",
   "execution_count": 124,
   "metadata": {},
   "outputs": [],
   "source": [
    "H = nx.compose(G,C)\n",
    "H_2 = nx.compose(H,C_2)"
   ]
  },
  {
   "cell_type": "code",
   "execution_count": 40,
   "metadata": {},
   "outputs": [
    {
     "name": "stdout",
     "output_type": "stream",
     "text": [
      "['e985cbb111a6e7210f1f07aa1f8a75dd', 'bdb8ad37341cec0817fd8e2474e25031', 'a6be3ad55806f2f65cd1776322aede1a', '44bffceb6ac69d098959e4f463fb7005', '9401af0f29d2afd49b8e48a0c361f661', 'd340c54f3a05c06835b1401c3575b70d', '252f0b551c80cd9e951d82c6f70792ae', '987d7486a6db70993eeab79124bc6606', 'e57cf27b3381574151b4fcea65bda0d2', 'd0d62ae27a4e84b559da089a1b15a79f', 'c051bd516ca491cdf88c0a0656a552b0', '34e5addec49ded4cc638dad8cd992858', '71cd7dac2332c0200059af45818b95f8', '5abedec612ea01b9f6f2eaad7187bfef', '012338b54ba4625adcc313394d87819c', 'e4e9fb27d7a8150162614ebdd282e195', '355ae7b5f391782006ef88580bbeaf22', 'd1c9ce9308b0bdc6dc2ba6a7b5da8c2b', 'ea10ea06c0fdab689da9dcf78fc90f4e', 'ccb020e30b1c014f45664761f0b740c7', '9d0a8f2f51a2cb0d4eceeb1fd269431d', 'e8a1bf5e60fa00c2b792098b12fde964', 'c0a1f4d49658cf2fe5402e10f496bb80', 'e264023342b41accdbb61a190b6cb2a7', '0ef85e1723530edd76f2bb13614ac5c5', '7e56b29cb23a49368be593e5cfc9712e', 'bcb79d7c813062f41b221e58b21203b4', '46a7a744b5d33c47f6b20766f8088b10', 'aa7b724a51a8bd8e55208fef969209b3', '7ec16859c24200d8e074809d252ac740', '84417cef5647097127e1bc24fd1002c6', '64b21681ce1c34854498ed92d76432a2', '1c03e956dd7afc612e4efe240c23365d', '69a385e1744e33fbb24a42ecbd1603e3', 'ecaf65add1b785b0495e3099f4045ec0', '49d3c58668e4accc43b8a77a9f2835fa', '304a03c0b4acdfdce54bfaf39d4e0448', 'd1281de242839fc939745996882c5fc2', '5322609dde43e08ad6da6964574941fd', 'b1471dc5764695abb4cadf16e26bd4c7', '50040b551a28645e5c684a646db8e646', 'd67f3ff22bd719eb5be2df6577c9b42d', 'b5b5ba58b8e9916fe449d1f989383834', '8421cb22e56f687395f5973bbf0cbdfb', 'b295da228c6808199d92dc813975755c']\n"
     ]
    }
   ],
   "source": [
    "print(C.nodes)"
   ]
  },
  {
   "cell_type": "code",
   "execution_count": 25,
   "metadata": {},
   "outputs": [],
   "source": [
    "# for node in H:\n",
    "#     if 'children' in H.nodes[node]:\n",
    "#         for child in H.nodes[node]['children']:\n",
    "#             child_node = H.nodes[child]\n",
    "#             print(child_node)\n",
    "#             # H.add_edge(node, child_node) #child['address'], epoch_onboarded= child['epoch_onboarded'])\n",
    "#             # print('yo')"
   ]
  },
  {
   "cell_type": "code",
   "execution_count": 26,
   "metadata": {},
   "outputs": [],
   "source": [
    "def draw_net(G):\n",
    "    pos = nx.spring_layout(G)\n",
    "    nx.draw_networkx_nodes(G, pos, node_size=700)\n",
    "    nx.draw_networkx_edges(G, pos, width=4)\n",
    "    # nx.draw_networkx_labels(G, pos, font_size=10, font_family='sans-serif')\n",
    "    # plt.axis('off')\n",
    "    return plt.show()"
   ]
  },
  {
   "cell_type": "code",
   "execution_count": 27,
   "metadata": {},
   "outputs": [
    {
     "data": {
      "image/png": "[encoded data removed]",
      "text/plain": [
       "<Figure size 432x288 with 1 Axes>"
      ]
     },
     "metadata": {},
     "output_type": "display_data"
    }
   ],
   "source": [
    "nx.draw(G)"
   ]
  },
  {
   "cell_type": "code",
   "execution_count": 28,
   "metadata": {},
   "outputs": [
    {
     "data": {
      "image/png": "[encoded data removed]",
      "text/plain": [
       "<Figure size 432x288 with 1 Axes>"
      ]
     },
     "metadata": {},
     "output_type": "display_data"
    }
   ],
   "source": [
    "nx.draw(H)"
   ]
  },
  {
   "cell_type": "code",
   "execution_count": 29,
   "metadata": {},
   "outputs": [
    {
     "data": {
      "image/png": "[encoded data removed]",
      "text/plain": [
       "<Figure size 432x288 with 1 Axes>"
      ]
     },
     "metadata": {},
     "output_type": "display_data"
    }
   ],
   "source": [
    "nx.draw(C)"
   ]
  },
  {
   "cell_type": "code",
   "execution_count": 31,
   "metadata": {},
   "outputs": [
    {
     "data": {
      "image/png": "[encoded data removed]",
      "text/plain": [
       "<Figure size 432x288 with 1 Axes>"
      ]
     },
     "metadata": {},
     "output_type": "display_data"
    }
   ],
   "source": [
    "graph = nx.draw(H, node_color=color_map)"
   ]
  },
  {
   "cell_type": "code",
   "execution_count": 32,
   "metadata": {},
   "outputs": [],
   "source": [
    "epoch_onboarded=nx.get_node_attributes(H,'epoch_onboarded')"
   ]
  },
  {
   "cell_type": "code",
   "execution_count": 33,
   "metadata": {},
   "outputs": [
    {
     "name": "stdout",
     "output_type": "stream",
     "text": [
      "{'bdb8ad37341cec0817fd8e2474e25031': 0, '44bffceb6ac69d098959e4f463fb7005': 0, '252f0b551c80cd9e951d82c6f70792ae': 0, 'd0d62ae27a4e84b559da089a1b15a79f': 0, '34e5addec49ded4cc638dad8cd992858': 0, '5abedec612ea01b9f6f2eaad7187bfef': 0, 'e4e9fb27d7a8150162614ebdd282e195': 0, 'd1c9ce9308b0bdc6dc2ba6a7b5da8c2b': 0, 'ccb020e30b1c014f45664761f0b740c7': 0, 'c0a1f4d49658cf2fe5402e10f496bb80': 0, '7e56b29cb23a49368be593e5cfc9712e': 0, '46a7a744b5d33c47f6b20766f8088b10': 0, '7ec16859c24200d8e074809d252ac740': 0, '64b21681ce1c34854498ed92d76432a2': 0, 'ecaf65add1b785b0495e3099f4045ec0': 0, '304a03c0b4acdfdce54bfaf39d4e0448': 0, 'b1471dc5764695abb4cadf16e26bd4c7': 0, 'd67f3ff22bd719eb5be2df6577c9b42d': 0, '8421cb22e56f687395f5973bbf0cbdfb': 0, 'e985cbb111a6e7210f1f07aa1f8a75dd': 23, 'a6be3ad55806f2f65cd1776322aede1a': 21, '9401af0f29d2afd49b8e48a0c361f661': 41, 'd340c54f3a05c06835b1401c3575b70d': 21, '987d7486a6db70993eeab79124bc6606': 37, 'e57cf27b3381574151b4fcea65bda0d2': 20, 'c051bd516ca491cdf88c0a0656a552b0': 22, '71cd7dac2332c0200059af45818b95f8': 22, '012338b54ba4625adcc313394d87819c': 29, '355ae7b5f391782006ef88580bbeaf22': 21, 'ea10ea06c0fdab689da9dcf78fc90f4e': 16, '9d0a8f2f51a2cb0d4eceeb1fd269431d': 31, 'e8a1bf5e60fa00c2b792098b12fde964': 16, 'e264023342b41accdbb61a190b6cb2a7': 33, '0ef85e1723530edd76f2bb13614ac5c5': 37, 'bcb79d7c813062f41b221e58b21203b4': 22, 'aa7b724a51a8bd8e55208fef969209b3': 28, '84417cef5647097127e1bc24fd1002c6': 18, '1c03e956dd7afc612e4efe240c23365d': 35, '69a385e1744e33fbb24a42ecbd1603e3': 21, '49d3c58668e4accc43b8a77a9f2835fa': 20, 'd1281de242839fc939745996882c5fc2': 36, '5322609dde43e08ad6da6964574941fd': 24, '50040b551a28645e5c684a646db8e646': 20, 'b5b5ba58b8e9916fe449d1f989383834': 18, 'b295da228c6808199d92dc813975755c': 35}\n"
     ]
    }
   ],
   "source": [
    "print(epoch_onboarded)"
   ]
  },
  {
   "cell_type": "code",
   "execution_count": 115,
   "metadata": {},
   "outputs": [
    {
     "data": {
      "image/png": "[encoded data removed]",
      "text/plain": [
       "<Figure size 576x576 with 1 Axes>"
      ]
     },
     "metadata": {},
     "output_type": "display_data"
    }
   ],
   "source": [
    "color_map = ['red' if H.nodes[node]['epoch_onboarded'] == 0 else 'green' for node in H]    \n",
    "pos = nx.nx_agraph.graphviz_layout(H, prog=\"twopi\", args=\"\")\n",
    "plt.figure(figsize=(8, 8))\n",
    "nx.draw(H, pos, node_size=40, alpha=0.5, node_color=color_map, with_labels=False)\n",
    "plt.axis(\"equal\")\n",
    "plt.title('Gen 0 (in red) to Gen 1 (in green) Validator Network')\n",
    "plt.show()"
   ]
  },
  {
   "cell_type": "code",
   "execution_count": 107,
   "metadata": {},
   "outputs": [
    {
     "data": {
      "text/plain": [
       "53"
      ]
     },
     "execution_count": 107,
     "metadata": {},
     "output_type": "execute_result"
    }
   ],
   "source": [
    "len(H_2)"
   ]
  },
  {
   "cell_type": "code",
   "execution_count": 126,
   "metadata": {},
   "outputs": [
    {
     "data": {
      "image/png": "[encoded data removed]",
      "text/plain": [
       "<Figure size 576x576 with 1 Axes>"
      ]
     },
     "metadata": {},
     "output_type": "display_data"
    }
   ],
   "source": [
    "color_map = ['red' if H_2.nodes[node]['epoch_onboarded'] == 0 else 'green' if H_2.nodes[node]['generation'] ==1 else 'blue' for node in H_2]    \n",
    "# color_map = ['red' if H_2.nodes[node]['epoch_onboarded'] == 0 else 'blue' for node in H_2]    \n",
    "\n",
    "pos = nx.nx_agraph.graphviz_layout(H_2, prog=\"twopi\", args=\"\")\n",
    "plt.figure(figsize=(8, 8))\n",
    "nx.draw(H_2, pos, node_size=40, alpha=0.5, node_color=color_map, with_labels=False)\n",
    "plt.axis(\"equal\")\n",
    "plt.title('Gen 0 (in red) to Gen 1 (in green) and Gen 2 (in blue) Validator Network')\n",
    "plt.show()"
   ]
  }
 ],
 "metadata": {
  "interpreter": {
   "hash": "0f0121f3087aeba530c63e0db60f5171c3cec0582e3d1e3d78c528d6eb18d107"
  },
  "kernelspec": {
   "display_name": "Python 3.8.8 64-bit ('base': conda)",
   "language": "python",
   "name": "python3"
  },
  "language_info": {
   "codemirror_mode": {
    "name": "ipython",
    "version": 3
   },
   "file_extension": ".py",
   "mimetype": "text/x-python",
   "name": "python",
   "nbconvert_exporter": "python",
   "pygments_lexer": "ipython3",
   "version": "3.8.10"
  },
  "orig_nbformat": 4
 },
 "nbformat": 4,
 "nbformat_minor": 2
}
